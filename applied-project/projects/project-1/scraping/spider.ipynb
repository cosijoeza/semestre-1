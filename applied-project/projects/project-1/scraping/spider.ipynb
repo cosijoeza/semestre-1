{
 "cells": [
  {
   "cell_type": "markdown",
   "metadata": {},
   "source": [
    "# Spider"
   ]
  },
  {
   "cell_type": "markdown",
   "metadata": {},
   "source": [
    "## Version 1"
   ]
  },
  {
   "cell_type": "code",
   "execution_count": 1,
   "metadata": {},
   "outputs": [],
   "source": [
    "import scrapy\n",
    "from scrapy.crawler import CrawlerProcess"
   ]
  },
  {
   "cell_type": "code",
   "execution_count": 2,
   "metadata": {},
   "outputs": [],
   "source": [
    "# class UTMSpider(scrapy.Spider):\n",
    "#     name = \"utm_spider\"\n",
    "\n",
    "#     # Inicia la peticion.\n",
    "#     def start_requests(self):\n",
    "#         urls = [\"https://www.utm.mx/web/ensenanza/licenciaturas\"]\n",
    "#         for url in urls:\n",
    "#             yield scrapy.Request(url=url,callback=self.parse)\n",
    "\n",
    "#     # Recibe la pagina solicitada y guarda el texto que recupero.\n",
    "#     def parse(self,response):\n",
    "#         html_file = \"utm_ofert.html\"\n",
    "#         with open(html_file,\"wb\",) as fout:\n",
    "#             fout.write(response.body)"
   ]
  },
  {
   "cell_type": "code",
   "execution_count": 3,
   "metadata": {},
   "outputs": [],
   "source": [
    "# process = CrawlerProcess()\n",
    "# process.crawl(UTMSpider)\n",
    "# process.start()"
   ]
  },
  {
   "cell_type": "markdown",
   "metadata": {},
   "source": [
    "# Version 2"
   ]
  },
  {
   "cell_type": "code",
   "execution_count": 4,
   "metadata": {},
   "outputs": [],
   "source": [
    "# class UTMSpider(scrapy.Spider):\n",
    "#     name = \"utm_spider\"\n",
    "\n",
    "#     # Inicia la peticion.\n",
    "#     def start_requests(self):\n",
    "#         urls = [\"https://www.utm.mx/web/ensenanza/licenciaturas\"]\n",
    "#         for url in urls:\n",
    "#             yield scrapy.Request(url=url,callback=self.parse)\n",
    "\n",
    "#     # Recibe la pagina solicitada y guarda el texto que recupero.\n",
    "#     def parse(self,response):\n",
    "#         links = response.css(\"div.panel-body a::attr(href)\").extract()\n",
    "#         file = \"utm-ofert-links.csv\"\n",
    "#         with open(file,\"w\",) as fout:\n",
    "#             fout.write('\\n'.join(link for link in links))"
   ]
  },
  {
   "cell_type": "code",
   "execution_count": 5,
   "metadata": {},
   "outputs": [],
   "source": [
    "# process = CrawlerProcess()\n",
    "# process.crawl(UTMSpider)\n",
    "# process.start()"
   ]
  },
  {
   "cell_type": "markdown",
   "metadata": {},
   "source": [
    "## Version 3"
   ]
  },
  {
   "cell_type": "code",
   "execution_count": 6,
   "metadata": {},
   "outputs": [],
   "source": [
    "class UTMSpider3(scrapy.Spider):\n",
    "    name = \"utm_spider\"\n",
    "\n",
    "    # Inicia la peticion.\n",
    "    def start_requests(self):\n",
    "        urls = [\"https://www.utm.mx/web/ensenanza/licenciaturas\"]\n",
    "        print(\"COSI-LOGS: start_requests\")\n",
    "        for url in urls:\n",
    "            yield scrapy.Request(url=url, callback=self.parse_front)\n",
    "\n",
    "    # Recibe la pagina solicitada y guarda el texto que recupero.\n",
    "    def parse_front(self, response):\n",
    "        links = response.css(\"div.panel-body a::attr(href)\").extract()\n",
    "        for link in links:\n",
    "            if \"http\" not in link:\n",
    "                link = \"https://www.utm.mx\" + link\n",
    "            yield response.follow(url=link, callback=self.parse_pages)\n",
    "\n",
    "    # Obtiene el titulo de cada pagina.\n",
    "    def parse_pages(self, response):\n",
    "        cr_title = response.xpath(\"//*[@id='block-suneo-umar-page-title']/div/h1/span/text()\").extract()\n",
    "        cr_title = utm.append(cr_title)\n"
   ]
  },
  {
   "cell_type": "code",
   "execution_count": null,
   "metadata": {},
   "outputs": [
    {
     "name": "stderr",
     "output_type": "stream",
     "text": [
      "2025-02-03 15:27:13 [scrapy.utils.log] INFO: Scrapy 2.12.0 started (bot: scrapybot)\n",
      "2025-02-03 15:27:13 [scrapy.utils.log] INFO: Versions: lxml 5.3.0.0, libxml2 2.13.5, cssselect 1.2.0, parsel 1.8.1, w3lib 1.21.0, Twisted 23.10.0, Python 3.9.21 (main, Dec 11 2024, 16:24:11) - [GCC 11.2.0], pyOpenSSL 24.2.1 (OpenSSL 3.4.0 22 Oct 2024), cryptography 43.0.3, Platform Linux-5.15.0-126-generic-x86_64-with-glibc2.35\n",
      "2025-02-03 15:27:13 [scrapy.addons] INFO: Enabled addons:\n",
      "[]\n",
      "2025-02-03 15:27:13 [scrapy.utils.log] DEBUG: Using reactor: twisted.internet.epollreactor.EPollReactor\n",
      "2025-02-03 15:27:13 [scrapy.extensions.telnet] INFO: Telnet Password: 5d9cc55951b8bc0a\n",
      "2025-02-03 15:27:13 [scrapy.middleware] INFO: Enabled extensions:\n",
      "['scrapy.extensions.corestats.CoreStats',\n",
      " 'scrapy.extensions.telnet.TelnetConsole',\n",
      " 'scrapy.extensions.memusage.MemoryUsage',\n",
      " 'scrapy.extensions.logstats.LogStats']\n",
      "2025-02-03 15:27:13 [scrapy.crawler] INFO: Overridden settings:\n",
      "{}\n",
      "2025-02-03 15:27:13 [scrapy.middleware] INFO: Enabled downloader middlewares:\n",
      "['scrapy.downloadermiddlewares.offsite.OffsiteMiddleware',\n",
      " 'scrapy.downloadermiddlewares.httpauth.HttpAuthMiddleware',\n",
      " 'scrapy.downloadermiddlewares.downloadtimeout.DownloadTimeoutMiddleware',\n",
      " 'scrapy.downloadermiddlewares.defaultheaders.DefaultHeadersMiddleware',\n",
      " 'scrapy.downloadermiddlewares.useragent.UserAgentMiddleware',\n",
      " 'scrapy.downloadermiddlewares.retry.RetryMiddleware',\n",
      " 'scrapy.downloadermiddlewares.redirect.MetaRefreshMiddleware',\n",
      " 'scrapy.downloadermiddlewares.httpcompression.HttpCompressionMiddleware',\n",
      " 'scrapy.downloadermiddlewares.redirect.RedirectMiddleware',\n",
      " 'scrapy.downloadermiddlewares.cookies.CookiesMiddleware',\n",
      " 'scrapy.downloadermiddlewares.httpproxy.HttpProxyMiddleware',\n",
      " 'scrapy.downloadermiddlewares.stats.DownloaderStats']\n",
      "2025-02-03 15:27:13 [scrapy.middleware] INFO: Enabled spider middlewares:\n",
      "['scrapy.spidermiddlewares.httperror.HttpErrorMiddleware',\n",
      " 'scrapy.spidermiddlewares.referer.RefererMiddleware',\n",
      " 'scrapy.spidermiddlewares.urllength.UrlLengthMiddleware',\n",
      " 'scrapy.spidermiddlewares.depth.DepthMiddleware']\n",
      "2025-02-03 15:27:13 [scrapy.middleware] INFO: Enabled item pipelines:\n",
      "[]\n",
      "2025-02-03 15:27:13 [scrapy.core.engine] INFO: Spider opened\n",
      "2025-02-03 15:27:13 [scrapy.extensions.logstats] INFO: Crawled 0 pages (at 0 pages/min), scraped 0 items (at 0 items/min)\n",
      "2025-02-03 15:27:13 [scrapy.extensions.telnet] INFO: Telnet console listening on 127.0.0.1:6026\n"
     ]
    },
    {
     "name": "stdout",
     "output_type": "stream",
     "text": [
      "COSI-LOGS: start_requests\n"
     ]
    },
    {
     "name": "stderr",
     "output_type": "stream",
     "text": [
      "2025-02-03 15:27:13 [scrapy.core.engine] DEBUG: Crawled (200) <GET https://www.utm.mx/web/ensenanza/licenciaturas> (referer: None)\n",
      "2025-02-03 15:27:14 [scrapy.core.engine] DEBUG: Crawled (200) <GET https://www.utm.mx/web/ensenanza/licenciaturas/ingenieria_en_electronica> (referer: https://www.utm.mx/web/ensenanza/licenciaturas)\n",
      "2025-02-03 15:27:14 [scrapy.core.engine] DEBUG: Crawled (200) <GET https://www.utm.mx/web/ensenanza/licenciaturas/ingenieria_en_computacion> (referer: https://www.utm.mx/web/ensenanza/licenciaturas)\n",
      "2025-02-03 15:27:14 [scrapy.core.engine] DEBUG: Crawled (200) <GET https://www.utm.mx/web/ensenanza/licenciaturas/ingenieria_en_dise%C3%B1o> (referer: https://www.utm.mx/web/ensenanza/licenciaturas)\n",
      "2025-02-03 15:27:14 [scrapy.core.engine] DEBUG: Crawled (200) <GET https://www.utm.mx/web/ensenanza/licenciaturas/ingenieria_civil> (referer: https://www.utm.mx/web/ensenanza/licenciaturas)\n",
      "2025-02-03 15:27:14 [scrapy.core.engine] DEBUG: Crawled (200) <GET https://www.utm.mx/web/ensenanza/licenciaturas/ingenieria_en_alimentos> (referer: https://www.utm.mx/web/ensenanza/licenciaturas)\n",
      "2025-02-03 15:27:14 [scrapy.core.engine] DEBUG: Crawled (200) <GET https://www.utm.mx/web/ensenanza/licenciaturas/licenciatura_en_estudios_mexicanos> (referer: https://www.utm.mx/web/ensenanza/licenciaturas)\n",
      "2025-02-03 15:27:14 [scrapy.core.engine] DEBUG: Crawled (200) <GET https://www.utm.mx/web/ensenanza/licenciaturas/licenciatura_en_ciencias_empresariales> (referer: https://www.utm.mx/web/ensenanza/licenciaturas)\n",
      "2025-02-03 15:27:14 [scrapy.core.engine] DEBUG: Crawled (200) <GET https://www.utm.mx/web/ensenanza/licenciaturas/licenciatura_en_matematicas_aplicadas> (referer: https://www.utm.mx/web/ensenanza/licenciaturas)\n",
      "2025-02-03 15:27:14 [scrapy.core.engine] DEBUG: Crawled (200) <GET https://www.utm.mx/web/ensenanza/licenciaturas/ingenieria_en_mecatronica> (referer: https://www.utm.mx/web/ensenanza/licenciaturas)\n",
      "2025-02-03 15:27:14 [scrapy.core.engine] DEBUG: Crawled (200) <GET https://www.utm.mx/web/ensenanza/licenciaturas/ingenieria_en_mecanica_automotriz> (referer: https://www.utm.mx/web/ensenanza/licenciaturas)\n",
      "2025-02-03 15:27:14 [scrapy.core.engine] DEBUG: Crawled (200) <GET https://www.utm.mx/web/ensenanza/licenciaturas/ingenieria_quimica_en_procesos_sostenibles> (referer: https://www.utm.mx/web/ensenanza/licenciaturas)\n",
      "2025-02-03 15:27:14 [scrapy.core.engine] DEBUG: Crawled (200) <GET https://www.utm.mx/web/ensenanza/licenciaturas/ingenieria_industrial> (referer: https://www.utm.mx/web/ensenanza/licenciaturas)\n",
      "2025-02-03 15:27:14 [scrapy.core.engine] DEBUG: Crawled (200) <GET https://www.utm.mx/web/ensenanza/licenciaturas/ingenieria_en_fisica_aplicada> (referer: https://www.utm.mx/web/ensenanza/licenciaturas)\n",
      "2025-02-03 15:27:14 [scrapy.core.engine] INFO: Closing spider (finished)\n",
      "2025-02-03 15:27:14 [scrapy.statscollectors] INFO: Dumping Scrapy stats:\n",
      "{'downloader/request_bytes': 4515,\n",
      " 'downloader/request_count': 14,\n",
      " 'downloader/request_method_count/GET': 14,\n",
      " 'downloader/response_bytes': 197126,\n",
      " 'downloader/response_count': 14,\n",
      " 'downloader/response_status_count/200': 14,\n",
      " 'elapsed_time_seconds': 1.191216,\n",
      " 'finish_reason': 'finished',\n",
      " 'finish_time': datetime.datetime(2025, 2, 3, 21, 27, 14, 715578, tzinfo=datetime.timezone.utc),\n",
      " 'httpcompression/response_bytes': 997486,\n",
      " 'httpcompression/response_count': 14,\n",
      " 'items_per_minute': None,\n",
      " 'log_count/DEBUG': 15,\n",
      " 'log_count/INFO': 10,\n",
      " 'memusage/max': 97452032,\n",
      " 'memusage/startup': 97185792,\n",
      " 'request_depth_max': 1,\n",
      " 'response_received_count': 14,\n",
      " 'responses_per_minute': None,\n",
      " 'scheduler/dequeued': 14,\n",
      " 'scheduler/dequeued/memory': 14,\n",
      " 'scheduler/enqueued': 14,\n",
      " 'scheduler/enqueued/memory': 14,\n",
      " 'start_time': datetime.datetime(2025, 2, 3, 21, 27, 13, 524362, tzinfo=datetime.timezone.utc)}\n",
      "2025-02-03 15:27:14 [scrapy.core.engine] INFO: Spider closed (finished)\n"
     ]
    },
    {
     "data": {
      "text/plain": [
       "<bound method CrawlerRunner.stop of <scrapy.crawler.CrawlerProcess object at 0x7fc6ec3c5c40>>"
      ]
     },
     "execution_count": 7,
     "metadata": {},
     "output_type": "execute_result"
    }
   ],
   "source": [
    "utm = list()\n",
    "\n",
    "process = CrawlerProcess()\n",
    "process.crawl(UTMSpider3)\n",
    "process.start()\n",
    "\n",
    "process.stop"
   ]
  },
  {
   "cell_type": "code",
   "execution_count": 9,
   "metadata": {},
   "outputs": [
    {
     "data": {
      "text/plain": [
       "[['Ingeniería en Electrónica'],\n",
       " ['Ingeniería en Computación'],\n",
       " ['Ingeniería en Diseño'],\n",
       " ['Ingeniería Civil'],\n",
       " ['Ingeniería en Alimentos'],\n",
       " ['Licenciatura en Estudios Mexicanos modalidad virtual'],\n",
       " ['Licenciatura en Ciencias Empresariales'],\n",
       " ['Licenciatura en Matemáticas Aplicadas'],\n",
       " ['Ingeniería en Mecatrónica'],\n",
       " ['Ingeniería Mecánica Automotriz'],\n",
       " ['Ingeniería Química en Procesos Sostenibles'],\n",
       " ['Ingeniería Industrial'],\n",
       " ['Ingeniería en Física Aplicada']]"
      ]
     },
     "execution_count": 9,
     "metadata": {},
     "output_type": "execute_result"
    }
   ],
   "source": [
    "utm"
   ]
  },
  {
   "cell_type": "markdown",
   "metadata": {},
   "source": [
    "\n"
   ]
  }
 ],
 "metadata": {
  "kernelspec": {
   "display_name": "project-1",
   "language": "python",
   "name": "python3"
  },
  "language_info": {
   "codemirror_mode": {
    "name": "ipython",
    "version": 3
   },
   "file_extension": ".py",
   "mimetype": "text/x-python",
   "name": "python",
   "nbconvert_exporter": "python",
   "pygments_lexer": "ipython3",
   "version": "3.9.21"
  }
 },
 "nbformat": 4,
 "nbformat_minor": 2
}
