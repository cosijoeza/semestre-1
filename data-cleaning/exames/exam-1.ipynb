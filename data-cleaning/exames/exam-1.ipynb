{
  "nbformat": 4,
  "nbformat_minor": 0,
  "metadata": {
    "colab": {
      "provenance": [],
      "collapsed_sections": [
        "KMes4qViLHvS",
        "ltde3FOo4e-Q",
        "89TRQLRdTJr-",
        "_zu_YERkUacs",
        "6aVyrIrvTPFe",
        "ogkTQBRRTeas",
        "9Zh9uJXmV2xP",
        "XYcaqTfDxNnW",
        "uM1oXbXBuySh",
        "0JmT7WsTDgPT"
      ]
    },
    "kernelspec": {
      "name": "python3",
      "display_name": "Python 3"
    },
    "language_info": {
      "name": "python"
    }
  },
  "cells": [
    {
      "cell_type": "code",
      "execution_count": 3,
      "metadata": {
        "id": "mR_GIQyZ3-cr"
      },
      "outputs": [],
      "source": [
        "import pandas as pd\n",
        "import seaborn as sns\n",
        "import numpy as np\n",
        "import nltk\n",
        "from matplotlib import pyplot as plt\n",
        "from statsmodels.graphics.gofplots import qqplot"
      ]
    },
    {
      "cell_type": "markdown",
      "source": [
        "# Hipertensión Arterial en México"
      ],
      "metadata": {
        "id": "ens8WsLATqaO"
      }
    },
    {
      "cell_type": "markdown",
      "source": [
        "## Lectura y despliegue de información de la base de datos"
      ],
      "metadata": {
        "id": "3LNemb2FT7GY"
      }
    },
    {
      "cell_type": "code",
      "source": [
        "dataHipertention = pd.read_csv('hipertension-arterial-mexico.csv')"
      ],
      "metadata": {
        "id": "6V0h4Bme7uQA"
      },
      "execution_count": 4,
      "outputs": []
    },
    {
      "cell_type": "code",
      "source": [
        "dataHipertention.head()"
      ],
      "metadata": {
        "colab": {
          "base_uri": "https://localhost:8080/",
          "height": 256
        },
        "id": "mH4NtthGb4RR",
        "outputId": "a1f0384b-338c-41bf-cdf7-ca9f77cb474f"
      },
      "execution_count": 5,
      "outputs": [
        {
          "output_type": "execute_result",
          "data": {
            "text/plain": [
              "         FOLIO_I  sexo  edad  concentracion_hemoglobina  temperatura_ambiente  \\\n",
              "0  2022_01001004     2    41                       14.2                    22   \n",
              "1  2022_01001009     2    65                       14.1                     9   \n",
              "2  2022_01001012     2    68                       14.2                    22   \n",
              "3  2022_01001013     1    35                       15.7                    11   \n",
              "4  2022_01001015     2    65                       12.7                     7   \n",
              "\n",
              "   valor_acido_urico  valor_albumina  valor_colesterol_hdl  \\\n",
              "0                4.8             4.0                    34   \n",
              "1                4.4             3.8                    73   \n",
              "2                4.8             4.0                    34   \n",
              "3                6.5             4.1                    49   \n",
              "4                4.2             4.2                    41   \n",
              "\n",
              "   valor_colesterol_ldl  valor_colesterol_total  ...  segundamedicion_peso  \\\n",
              "0                  86.0                     139  ...                 64.70   \n",
              "1                 130.0                     252  ...                 96.75   \n",
              "2                  86.0                     139  ...                 68.70   \n",
              "3                 107.0                     203  ...                 64.70   \n",
              "4                  76.0                     145  ...                 97.15   \n",
              "\n",
              "   segundamedicion_estatura  distancia_rodilla_talon  \\\n",
              "0                     154.0                     48.5   \n",
              "1                     152.2                     44.5   \n",
              "2                     144.8                     42.3   \n",
              "3                     154.0                     48.5   \n",
              "4                     161.3                     49.6   \n",
              "\n",
              "   circunferencia_de_la_pantorrilla  segundamedicion_cintura  \\\n",
              "0                              33.5                      0.0   \n",
              "1                              41.1                    113.7   \n",
              "2                              37.8                    103.7   \n",
              "3                              33.5                      0.0   \n",
              "4                              42.0                    118.9   \n",
              "\n",
              "   tension_arterial  sueno_horas  masa_corporal  actividad_total  \\\n",
              "0               107            4      32.889389              120   \n",
              "1               104            2       1.000000              240   \n",
              "2               105            1       1.000000              480   \n",
              "3               117            5      26.265339              275   \n",
              "4               123            2       1.000000              255   \n",
              "\n",
              "   riesgo_hipertension  \n",
              "0                    1  \n",
              "1                    0  \n",
              "2                    0  \n",
              "3                    1  \n",
              "4                    0  \n",
              "\n",
              "[5 rows x 36 columns]"
            ],
            "text/html": [
              "\n",
              "  <div id=\"df-44c10ccb-8c5e-4271-ab00-2c36e4a0333b\" class=\"colab-df-container\">\n",
              "    <div>\n",
              "<style scoped>\n",
              "    .dataframe tbody tr th:only-of-type {\n",
              "        vertical-align: middle;\n",
              "    }\n",
              "\n",
              "    .dataframe tbody tr th {\n",
              "        vertical-align: top;\n",
              "    }\n",
              "\n",
              "    .dataframe thead th {\n",
              "        text-align: right;\n",
              "    }\n",
              "</style>\n",
              "<table border=\"1\" class=\"dataframe\">\n",
              "  <thead>\n",
              "    <tr style=\"text-align: right;\">\n",
              "      <th></th>\n",
              "      <th>FOLIO_I</th>\n",
              "      <th>sexo</th>\n",
              "      <th>edad</th>\n",
              "      <th>concentracion_hemoglobina</th>\n",
              "      <th>temperatura_ambiente</th>\n",
              "      <th>valor_acido_urico</th>\n",
              "      <th>valor_albumina</th>\n",
              "      <th>valor_colesterol_hdl</th>\n",
              "      <th>valor_colesterol_ldl</th>\n",
              "      <th>valor_colesterol_total</th>\n",
              "      <th>...</th>\n",
              "      <th>segundamedicion_peso</th>\n",
              "      <th>segundamedicion_estatura</th>\n",
              "      <th>distancia_rodilla_talon</th>\n",
              "      <th>circunferencia_de_la_pantorrilla</th>\n",
              "      <th>segundamedicion_cintura</th>\n",
              "      <th>tension_arterial</th>\n",
              "      <th>sueno_horas</th>\n",
              "      <th>masa_corporal</th>\n",
              "      <th>actividad_total</th>\n",
              "      <th>riesgo_hipertension</th>\n",
              "    </tr>\n",
              "  </thead>\n",
              "  <tbody>\n",
              "    <tr>\n",
              "      <th>0</th>\n",
              "      <td>2022_01001004</td>\n",
              "      <td>2</td>\n",
              "      <td>41</td>\n",
              "      <td>14.2</td>\n",
              "      <td>22</td>\n",
              "      <td>4.8</td>\n",
              "      <td>4.0</td>\n",
              "      <td>34</td>\n",
              "      <td>86.0</td>\n",
              "      <td>139</td>\n",
              "      <td>...</td>\n",
              "      <td>64.70</td>\n",
              "      <td>154.0</td>\n",
              "      <td>48.5</td>\n",
              "      <td>33.5</td>\n",
              "      <td>0.0</td>\n",
              "      <td>107</td>\n",
              "      <td>4</td>\n",
              "      <td>32.889389</td>\n",
              "      <td>120</td>\n",
              "      <td>1</td>\n",
              "    </tr>\n",
              "    <tr>\n",
              "      <th>1</th>\n",
              "      <td>2022_01001009</td>\n",
              "      <td>2</td>\n",
              "      <td>65</td>\n",
              "      <td>14.1</td>\n",
              "      <td>9</td>\n",
              "      <td>4.4</td>\n",
              "      <td>3.8</td>\n",
              "      <td>73</td>\n",
              "      <td>130.0</td>\n",
              "      <td>252</td>\n",
              "      <td>...</td>\n",
              "      <td>96.75</td>\n",
              "      <td>152.2</td>\n",
              "      <td>44.5</td>\n",
              "      <td>41.1</td>\n",
              "      <td>113.7</td>\n",
              "      <td>104</td>\n",
              "      <td>2</td>\n",
              "      <td>1.000000</td>\n",
              "      <td>240</td>\n",
              "      <td>0</td>\n",
              "    </tr>\n",
              "    <tr>\n",
              "      <th>2</th>\n",
              "      <td>2022_01001012</td>\n",
              "      <td>2</td>\n",
              "      <td>68</td>\n",
              "      <td>14.2</td>\n",
              "      <td>22</td>\n",
              "      <td>4.8</td>\n",
              "      <td>4.0</td>\n",
              "      <td>34</td>\n",
              "      <td>86.0</td>\n",
              "      <td>139</td>\n",
              "      <td>...</td>\n",
              "      <td>68.70</td>\n",
              "      <td>144.8</td>\n",
              "      <td>42.3</td>\n",
              "      <td>37.8</td>\n",
              "      <td>103.7</td>\n",
              "      <td>105</td>\n",
              "      <td>1</td>\n",
              "      <td>1.000000</td>\n",
              "      <td>480</td>\n",
              "      <td>0</td>\n",
              "    </tr>\n",
              "    <tr>\n",
              "      <th>3</th>\n",
              "      <td>2022_01001013</td>\n",
              "      <td>1</td>\n",
              "      <td>35</td>\n",
              "      <td>15.7</td>\n",
              "      <td>11</td>\n",
              "      <td>6.5</td>\n",
              "      <td>4.1</td>\n",
              "      <td>49</td>\n",
              "      <td>107.0</td>\n",
              "      <td>203</td>\n",
              "      <td>...</td>\n",
              "      <td>64.70</td>\n",
              "      <td>154.0</td>\n",
              "      <td>48.5</td>\n",
              "      <td>33.5</td>\n",
              "      <td>0.0</td>\n",
              "      <td>117</td>\n",
              "      <td>5</td>\n",
              "      <td>26.265339</td>\n",
              "      <td>275</td>\n",
              "      <td>1</td>\n",
              "    </tr>\n",
              "    <tr>\n",
              "      <th>4</th>\n",
              "      <td>2022_01001015</td>\n",
              "      <td>2</td>\n",
              "      <td>65</td>\n",
              "      <td>12.7</td>\n",
              "      <td>7</td>\n",
              "      <td>4.2</td>\n",
              "      <td>4.2</td>\n",
              "      <td>41</td>\n",
              "      <td>76.0</td>\n",
              "      <td>145</td>\n",
              "      <td>...</td>\n",
              "      <td>97.15</td>\n",
              "      <td>161.3</td>\n",
              "      <td>49.6</td>\n",
              "      <td>42.0</td>\n",
              "      <td>118.9</td>\n",
              "      <td>123</td>\n",
              "      <td>2</td>\n",
              "      <td>1.000000</td>\n",
              "      <td>255</td>\n",
              "      <td>0</td>\n",
              "    </tr>\n",
              "  </tbody>\n",
              "</table>\n",
              "<p>5 rows × 36 columns</p>\n",
              "</div>\n",
              "    <div class=\"colab-df-buttons\">\n",
              "\n",
              "  <div class=\"colab-df-container\">\n",
              "    <button class=\"colab-df-convert\" onclick=\"convertToInteractive('df-44c10ccb-8c5e-4271-ab00-2c36e4a0333b')\"\n",
              "            title=\"Convert this dataframe to an interactive table.\"\n",
              "            style=\"display:none;\">\n",
              "\n",
              "  <svg xmlns=\"http://www.w3.org/2000/svg\" height=\"24px\" viewBox=\"0 -960 960 960\">\n",
              "    <path d=\"M120-120v-720h720v720H120Zm60-500h600v-160H180v160Zm220 220h160v-160H400v160Zm0 220h160v-160H400v160ZM180-400h160v-160H180v160Zm440 0h160v-160H620v160ZM180-180h160v-160H180v160Zm440 0h160v-160H620v160Z\"/>\n",
              "  </svg>\n",
              "    </button>\n",
              "\n",
              "  <style>\n",
              "    .colab-df-container {\n",
              "      display:flex;\n",
              "      gap: 12px;\n",
              "    }\n",
              "\n",
              "    .colab-df-convert {\n",
              "      background-color: #E8F0FE;\n",
              "      border: none;\n",
              "      border-radius: 50%;\n",
              "      cursor: pointer;\n",
              "      display: none;\n",
              "      fill: #1967D2;\n",
              "      height: 32px;\n",
              "      padding: 0 0 0 0;\n",
              "      width: 32px;\n",
              "    }\n",
              "\n",
              "    .colab-df-convert:hover {\n",
              "      background-color: #E2EBFA;\n",
              "      box-shadow: 0px 1px 2px rgba(60, 64, 67, 0.3), 0px 1px 3px 1px rgba(60, 64, 67, 0.15);\n",
              "      fill: #174EA6;\n",
              "    }\n",
              "\n",
              "    .colab-df-buttons div {\n",
              "      margin-bottom: 4px;\n",
              "    }\n",
              "\n",
              "    [theme=dark] .colab-df-convert {\n",
              "      background-color: #3B4455;\n",
              "      fill: #D2E3FC;\n",
              "    }\n",
              "\n",
              "    [theme=dark] .colab-df-convert:hover {\n",
              "      background-color: #434B5C;\n",
              "      box-shadow: 0px 1px 3px 1px rgba(0, 0, 0, 0.15);\n",
              "      filter: drop-shadow(0px 1px 2px rgba(0, 0, 0, 0.3));\n",
              "      fill: #FFFFFF;\n",
              "    }\n",
              "  </style>\n",
              "\n",
              "    <script>\n",
              "      const buttonEl =\n",
              "        document.querySelector('#df-44c10ccb-8c5e-4271-ab00-2c36e4a0333b button.colab-df-convert');\n",
              "      buttonEl.style.display =\n",
              "        google.colab.kernel.accessAllowed ? 'block' : 'none';\n",
              "\n",
              "      async function convertToInteractive(key) {\n",
              "        const element = document.querySelector('#df-44c10ccb-8c5e-4271-ab00-2c36e4a0333b');\n",
              "        const dataTable =\n",
              "          await google.colab.kernel.invokeFunction('convertToInteractive',\n",
              "                                                    [key], {});\n",
              "        if (!dataTable) return;\n",
              "\n",
              "        const docLinkHtml = 'Like what you see? Visit the ' +\n",
              "          '<a target=\"_blank\" href=https://colab.research.google.com/notebooks/data_table.ipynb>data table notebook</a>'\n",
              "          + ' to learn more about interactive tables.';\n",
              "        element.innerHTML = '';\n",
              "        dataTable['output_type'] = 'display_data';\n",
              "        await google.colab.output.renderOutput(dataTable, element);\n",
              "        const docLink = document.createElement('div');\n",
              "        docLink.innerHTML = docLinkHtml;\n",
              "        element.appendChild(docLink);\n",
              "      }\n",
              "    </script>\n",
              "  </div>\n",
              "\n",
              "\n",
              "<div id=\"df-465dd68c-ec62-4563-9274-8b6e58686292\">\n",
              "  <button class=\"colab-df-quickchart\" onclick=\"quickchart('df-465dd68c-ec62-4563-9274-8b6e58686292')\"\n",
              "            title=\"Suggest charts\"\n",
              "            style=\"display:none;\">\n",
              "\n",
              "<svg xmlns=\"http://www.w3.org/2000/svg\" height=\"24px\"viewBox=\"0 0 24 24\"\n",
              "     width=\"24px\">\n",
              "    <g>\n",
              "        <path d=\"M19 3H5c-1.1 0-2 .9-2 2v14c0 1.1.9 2 2 2h14c1.1 0 2-.9 2-2V5c0-1.1-.9-2-2-2zM9 17H7v-7h2v7zm4 0h-2V7h2v10zm4 0h-2v-4h2v4z\"/>\n",
              "    </g>\n",
              "</svg>\n",
              "  </button>\n",
              "\n",
              "<style>\n",
              "  .colab-df-quickchart {\n",
              "      --bg-color: #E8F0FE;\n",
              "      --fill-color: #1967D2;\n",
              "      --hover-bg-color: #E2EBFA;\n",
              "      --hover-fill-color: #174EA6;\n",
              "      --disabled-fill-color: #AAA;\n",
              "      --disabled-bg-color: #DDD;\n",
              "  }\n",
              "\n",
              "  [theme=dark] .colab-df-quickchart {\n",
              "      --bg-color: #3B4455;\n",
              "      --fill-color: #D2E3FC;\n",
              "      --hover-bg-color: #434B5C;\n",
              "      --hover-fill-color: #FFFFFF;\n",
              "      --disabled-bg-color: #3B4455;\n",
              "      --disabled-fill-color: #666;\n",
              "  }\n",
              "\n",
              "  .colab-df-quickchart {\n",
              "    background-color: var(--bg-color);\n",
              "    border: none;\n",
              "    border-radius: 50%;\n",
              "    cursor: pointer;\n",
              "    display: none;\n",
              "    fill: var(--fill-color);\n",
              "    height: 32px;\n",
              "    padding: 0;\n",
              "    width: 32px;\n",
              "  }\n",
              "\n",
              "  .colab-df-quickchart:hover {\n",
              "    background-color: var(--hover-bg-color);\n",
              "    box-shadow: 0 1px 2px rgba(60, 64, 67, 0.3), 0 1px 3px 1px rgba(60, 64, 67, 0.15);\n",
              "    fill: var(--button-hover-fill-color);\n",
              "  }\n",
              "\n",
              "  .colab-df-quickchart-complete:disabled,\n",
              "  .colab-df-quickchart-complete:disabled:hover {\n",
              "    background-color: var(--disabled-bg-color);\n",
              "    fill: var(--disabled-fill-color);\n",
              "    box-shadow: none;\n",
              "  }\n",
              "\n",
              "  .colab-df-spinner {\n",
              "    border: 2px solid var(--fill-color);\n",
              "    border-color: transparent;\n",
              "    border-bottom-color: var(--fill-color);\n",
              "    animation:\n",
              "      spin 1s steps(1) infinite;\n",
              "  }\n",
              "\n",
              "  @keyframes spin {\n",
              "    0% {\n",
              "      border-color: transparent;\n",
              "      border-bottom-color: var(--fill-color);\n",
              "      border-left-color: var(--fill-color);\n",
              "    }\n",
              "    20% {\n",
              "      border-color: transparent;\n",
              "      border-left-color: var(--fill-color);\n",
              "      border-top-color: var(--fill-color);\n",
              "    }\n",
              "    30% {\n",
              "      border-color: transparent;\n",
              "      border-left-color: var(--fill-color);\n",
              "      border-top-color: var(--fill-color);\n",
              "      border-right-color: var(--fill-color);\n",
              "    }\n",
              "    40% {\n",
              "      border-color: transparent;\n",
              "      border-right-color: var(--fill-color);\n",
              "      border-top-color: var(--fill-color);\n",
              "    }\n",
              "    60% {\n",
              "      border-color: transparent;\n",
              "      border-right-color: var(--fill-color);\n",
              "    }\n",
              "    80% {\n",
              "      border-color: transparent;\n",
              "      border-right-color: var(--fill-color);\n",
              "      border-bottom-color: var(--fill-color);\n",
              "    }\n",
              "    90% {\n",
              "      border-color: transparent;\n",
              "      border-bottom-color: var(--fill-color);\n",
              "    }\n",
              "  }\n",
              "</style>\n",
              "\n",
              "  <script>\n",
              "    async function quickchart(key) {\n",
              "      const quickchartButtonEl =\n",
              "        document.querySelector('#' + key + ' button');\n",
              "      quickchartButtonEl.disabled = true;  // To prevent multiple clicks.\n",
              "      quickchartButtonEl.classList.add('colab-df-spinner');\n",
              "      try {\n",
              "        const charts = await google.colab.kernel.invokeFunction(\n",
              "            'suggestCharts', [key], {});\n",
              "      } catch (error) {\n",
              "        console.error('Error during call to suggestCharts:', error);\n",
              "      }\n",
              "      quickchartButtonEl.classList.remove('colab-df-spinner');\n",
              "      quickchartButtonEl.classList.add('colab-df-quickchart-complete');\n",
              "    }\n",
              "    (() => {\n",
              "      let quickchartButtonEl =\n",
              "        document.querySelector('#df-465dd68c-ec62-4563-9274-8b6e58686292 button');\n",
              "      quickchartButtonEl.style.display =\n",
              "        google.colab.kernel.accessAllowed ? 'block' : 'none';\n",
              "    })();\n",
              "  </script>\n",
              "</div>\n",
              "\n",
              "    </div>\n",
              "  </div>\n"
            ],
            "application/vnd.google.colaboratory.intrinsic+json": {
              "type": "dataframe",
              "variable_name": "dataHipertention"
            }
          },
          "metadata": {},
          "execution_count": 5
        }
      ]
    },
    {
      "cell_type": "code",
      "source": [
        "dataHipertention.info()"
      ],
      "metadata": {
        "colab": {
          "base_uri": "https://localhost:8080/"
        },
        "id": "oZhuBA67CNuQ",
        "outputId": "ae140630-fccf-4e2c-f839-17a85d7ac860"
      },
      "execution_count": 6,
      "outputs": [
        {
          "output_type": "stream",
          "name": "stdout",
          "text": [
            "<class 'pandas.core.frame.DataFrame'>\n",
            "RangeIndex: 4363 entries, 0 to 4362\n",
            "Data columns (total 36 columns):\n",
            " #   Column                            Non-Null Count  Dtype  \n",
            "---  ------                            --------------  -----  \n",
            " 0   FOLIO_I                           4363 non-null   object \n",
            " 1   sexo                              4363 non-null   int64  \n",
            " 2   edad                              4363 non-null   int64  \n",
            " 3   concentracion_hemoglobina         4363 non-null   float64\n",
            " 4   temperatura_ambiente              4363 non-null   int64  \n",
            " 5   valor_acido_urico                 4363 non-null   float64\n",
            " 6   valor_albumina                    4363 non-null   float64\n",
            " 7   valor_colesterol_hdl              4363 non-null   int64  \n",
            " 8   valor_colesterol_ldl              4363 non-null   float64\n",
            " 9   valor_colesterol_total            4363 non-null   int64  \n",
            " 10  valor_creatina                    4363 non-null   float64\n",
            " 11  resultado_glucosa                 4363 non-null   float64\n",
            " 12  valor_insulina                    4363 non-null   float64\n",
            " 13  valor_trigliceridos               4363 non-null   int64  \n",
            " 14  resultado_glucosa_promedio        4363 non-null   int64  \n",
            " 15  valor_hemoglobina_glucosilada     4363 non-null   float64\n",
            " 16  valor_ferritina                   4363 non-null   float64\n",
            " 17  valor_folato                      4363 non-null   float64\n",
            " 18  valor_homocisteina                4363 non-null   float64\n",
            " 19  valor_proteinac_reactiva          4363 non-null   float64\n",
            " 20  valor_transferrina                4363 non-null   float64\n",
            " 21  valor_vitamina_bdoce              4363 non-null   float64\n",
            " 22  valor_vitamina_d                  4363 non-null   float64\n",
            " 23  peso                              4363 non-null   float64\n",
            " 24  estatura                          4363 non-null   float64\n",
            " 25  medida_cintura                    4363 non-null   float64\n",
            " 26  segundamedicion_peso              4363 non-null   float64\n",
            " 27  segundamedicion_estatura          4363 non-null   float64\n",
            " 28  distancia_rodilla_talon           4363 non-null   float64\n",
            " 29  circunferencia_de_la_pantorrilla  4363 non-null   float64\n",
            " 30  segundamedicion_cintura           4363 non-null   float64\n",
            " 31  tension_arterial                  4363 non-null   int64  \n",
            " 32  sueno_horas                       4363 non-null   int64  \n",
            " 33  masa_corporal                     4363 non-null   float64\n",
            " 34  actividad_total                   4363 non-null   int64  \n",
            " 35  riesgo_hipertension               4363 non-null   int64  \n",
            "dtypes: float64(24), int64(11), object(1)\n",
            "memory usage: 1.2+ MB\n"
          ]
        }
      ]
    },
    {
      "cell_type": "markdown",
      "source": [
        "## Grafica Concentración de Trigliceridos\n",
        "Esta representación nos muestra que los valores de los trigliceridos tiene más valores entre 0 y 200."
      ],
      "metadata": {
        "id": "KMes4qViLHvS"
      }
    },
    {
      "cell_type": "code",
      "source": [
        "df = dataHipertention['valor_trigliceridos']"
      ],
      "metadata": {
        "id": "KSbLxvwoAWVs"
      },
      "execution_count": 7,
      "outputs": []
    },
    {
      "cell_type": "code",
      "source": [
        "plt.figure(figsize=(10,4))\n",
        "sns.displot(df)\n",
        "plt.title(\"Concentración Trigliceridos\")\n",
        "sns.despine()\n",
        "plt.show()"
      ],
      "metadata": {
        "colab": {
          "base_uri": "https://localhost:8080/",
          "height": 0
        },
        "id": "1crbHpOpD8j1",
        "outputId": "eb05860e-4f61-41dd-96d4-c57b35393186"
      },
      "execution_count": 8,
      "outputs": [
        {
          "output_type": "display_data",
          "data": {
            "text/plain": [
              "<Figure size 1000x400 with 0 Axes>"
            ]
          },
          "metadata": {}
        },
        {
          "output_type": "display_data",
          "data": {
            "text/plain": [
              "<Figure size 500x500 with 1 Axes>"
            ],
            "image/png": "[encoded data removed]"
          },
          "metadata": {}
        }
      ]
    },
    {
      "cell_type": "markdown",
      "source": [
        "## Busqueda de Outliers en los Trigliceridos"
      ],
      "metadata": {
        "id": "ltde3FOo4e-Q"
      }
    },
    {
      "cell_type": "code",
      "source": [
        "plt.figure(figsize=(10,4))\n",
        "plt.title(\"Box Plot\")\n",
        "sns.boxplot(df)\n",
        "plt.show()"
      ],
      "metadata": {
        "colab": {
          "base_uri": "https://localhost:8080/",
          "height": 0
        },
        "id": "CVVFjiCklHCv",
        "outputId": "8989d5ba-539b-43d0-8d93-3f518231c4e0"
      },
      "execution_count": 9,
      "outputs": [
        {
          "output_type": "display_data",
          "data": {
            "text/plain": [
              "<Figure size 1000x400 with 1 Axes>"
            ],
            "image/png": "[encoded data removed]"
          },
          "metadata": {}
        }
      ]
    },
    {
      "cell_type": "code",
      "source": [
        "plt.figure(figsize=(10,4))\n",
        "qqplot(df,line='s')\n",
        "plt.title(\"Normal QQPlot\")\n",
        "plt.show()\n"
      ],
      "metadata": {
        "colab": {
          "base_uri": "https://localhost:8080/",
          "height": 0
        },
        "id": "L_6Jhd6MlMBc",
        "outputId": "be0d4ea9-8b22-4d58-9850-37999d496ee9"
      },
      "execution_count": 10,
      "outputs": [
        {
          "output_type": "display_data",
          "data": {
            "text/plain": [
              "<Figure size 1000x400 with 0 Axes>"
            ]
          },
          "metadata": {}
        },
        {
          "output_type": "display_data",
          "data": {
            "text/plain": [
              "<Figure size 640x480 with 1 Axes>"
            ],
            "image/png": "[encoded data removed]"
          },
          "metadata": {}
        }
      ]
    },
    {
      "cell_type": "markdown",
      "source": [
        "## ¿Cuáles son los outliers y cuántos son?"
      ],
      "metadata": {
        "id": "89TRQLRdTJr-"
      }
    },
    {
      "cell_type": "code",
      "source": [
        "out = []\n",
        "def Zscore_outlier(df,umbral):\n",
        "  mean = np.mean(df)\n",
        "  standarDesviation = np.std(df)\n",
        "  for i in df:\n",
        "      z = (i - mean) / standarDesviation\n",
        "      if np.abs(z) > umbral:\n",
        "        out.append(i)\n",
        "  print(\"Outliers: \",out)\n",
        "  return out\n",
        "outliers = Zscore_outlier(df,umbral=3)"
      ],
      "metadata": {
        "colab": {
          "base_uri": "https://localhost:8080/"
        },
        "id": "ZEDJMP6p44BI",
        "outputId": "aaa1409b-dca6-43e4-a6c5-71f65891e62b"
      },
      "execution_count": 11,
      "outputs": [
        {
          "output_type": "stream",
          "name": "stdout",
          "text": [
            "Outliers:  [376, 379, 452, 382, 507, 443, 438, 563, 773, 563, 408, 445, 423, 431, 835, 563, 440, 1040, 390, 832, 453, 456, 393, 500, 797, 446, 777, 582, 550, 432, 408, 382, 767, 373, 550, 1245, 758, 624, 445, 832, 499, 524, 540, 423, 375, 744, 835, 409, 470, 649, 745, 516, 417, 463, 461, 784, 618, 1320, 408, 852, 778, 1124, 910, 441, 501, 540, 418, 494, 407, 1154, 382, 400, 466, 667, 710, 536, 644, 381, 914, 537]\n"
          ]
        }
      ]
    },
    {
      "cell_type": "code",
      "source": [
        "print(len(outliers))"
      ],
      "metadata": {
        "colab": {
          "base_uri": "https://localhost:8080/"
        },
        "id": "3zKz4fYj5Asx",
        "outputId": "f55670e1-663d-4cbb-ac53-4fc5756bdd38"
      },
      "execution_count": 12,
      "outputs": [
        {
          "output_type": "stream",
          "name": "stdout",
          "text": [
            "80\n"
          ]
        }
      ]
    },
    {
      "cell_type": "markdown",
      "source": [
        "## Gráfica Concentración de Tensión Arterial"
      ],
      "metadata": {
        "id": "_zu_YERkUacs"
      }
    },
    {
      "cell_type": "code",
      "source": [
        "df = dataHipertention['tension_arterial']"
      ],
      "metadata": {
        "id": "hTQFDDSxUieO"
      },
      "execution_count": 13,
      "outputs": []
    },
    {
      "cell_type": "code",
      "source": [
        "plt.figure(figsize=(10,4))\n",
        "sns.displot(df)\n",
        "plt.title(\"Tensión Arterial\")\n",
        "sns.despine()\n",
        "plt.show()"
      ],
      "metadata": {
        "colab": {
          "base_uri": "https://localhost:8080/",
          "height": 0
        },
        "id": "b251yYLLUoDe",
        "outputId": "0663991f-bfc9-4d8a-97f7-21305200a90a"
      },
      "execution_count": 14,
      "outputs": [
        {
          "output_type": "display_data",
          "data": {
            "text/plain": [
              "<Figure size 1000x400 with 0 Axes>"
            ]
          },
          "metadata": {}
        },
        {
          "output_type": "display_data",
          "data": {
            "text/plain": [
              "<Figure size 500x500 with 1 Axes>"
            ],
            "image/png": "[encoded data removed]"
          },
          "metadata": {}
        }
      ]
    },
    {
      "cell_type": "markdown",
      "source": [
        "## Busqueda de Outliers en la Tensión Arterial"
      ],
      "metadata": {
        "id": "6aVyrIrvTPFe"
      }
    },
    {
      "cell_type": "code",
      "source": [
        "plt.figure(figsize=(10,4))\n",
        "plt.title(\"Tensión Arterial\")\n",
        "sns.boxplot(df)\n",
        "plt.show()"
      ],
      "metadata": {
        "colab": {
          "base_uri": "https://localhost:8080/",
          "height": 0
        },
        "id": "XZ0d3af2M0tG",
        "outputId": "f4d2160b-a138-4942-d6e0-6e2421c3fb62"
      },
      "execution_count": 15,
      "outputs": [
        {
          "output_type": "display_data",
          "data": {
            "text/plain": [
              "<Figure size 1000x400 with 1 Axes>"
            ],
            "image/png": "[encoded data removed]"
          },
          "metadata": {}
        }
      ]
    },
    {
      "cell_type": "code",
      "source": [
        "plt.figure(figsize=(10,4))\n",
        "sns.distplot(df)\n",
        "plt.title(\"Tensión Arterial\")\n",
        "sns.despine()\n",
        "plt.show()\n"
      ],
      "metadata": {
        "colab": {
          "base_uri": "https://localhost:8080/",
          "height": 0
        },
        "id": "6nWvymj7Q3uZ",
        "outputId": "9afc918b-f6f8-449b-9437-668b53e445cf"
      },
      "execution_count": 16,
      "outputs": [
        {
          "output_type": "stream",
          "name": "stderr",
          "text": [
            "<ipython-input-16-3230c7287f71>:2: UserWarning: \n",
            "\n",
            "`distplot` is a deprecated function and will be removed in seaborn v0.14.0.\n",
            "\n",
            "Please adapt your code to use either `displot` (a figure-level function with\n",
            "similar flexibility) or `histplot` (an axes-level function for histograms).\n",
            "\n",
            "For a guide to updating your code to use the new functions, please see\n",
            "https://gist.github.com/mwaskom/de44147ed2974457ad6372750bbe5751\n",
            "\n",
            "  sns.distplot(df)\n"
          ]
        },
        {
          "output_type": "display_data",
          "data": {
            "text/plain": [
              "<Figure size 1000x400 with 1 Axes>"
            ],
            "image/png": "[encoded data removed]"
          },
          "metadata": {}
        }
      ]
    },
    {
      "cell_type": "markdown",
      "source": [
        "## ¿Cuáles son los outliers y cuántos son?"
      ],
      "metadata": {
        "id": "ogkTQBRRTeas"
      }
    },
    {
      "cell_type": "code",
      "source": [
        "outliers = Zscore_outlier(df,umbral=3)"
      ],
      "metadata": {
        "colab": {
          "base_uri": "https://localhost:8080/"
        },
        "id": "YylcZU9lKqbO",
        "outputId": "f627ff43-967c-47ed-c10a-920295d90ee8"
      },
      "execution_count": 17,
      "outputs": [
        {
          "output_type": "stream",
          "name": "stdout",
          "text": [
            "Outliers:  [376, 379, 452, 382, 507, 443, 438, 563, 773, 563, 408, 445, 423, 431, 835, 563, 440, 1040, 390, 832, 453, 456, 393, 500, 797, 446, 777, 582, 550, 432, 408, 382, 767, 373, 550, 1245, 758, 624, 445, 832, 499, 524, 540, 423, 375, 744, 835, 409, 470, 649, 745, 516, 417, 463, 461, 784, 618, 1320, 408, 852, 778, 1124, 910, 441, 501, 540, 418, 494, 407, 1154, 382, 400, 466, 667, 710, 536, 644, 381, 914, 537, 0, 0, 0, 193, 198, 0, 0, 0, 200, 193, 193, 200, 200, 0, 0, 0, 198, 199, 194, 0, 200, 0, 0, 192, 0, 0, 0, 199, 0, 197, 194, 0, 0, 0, 0, 0, 198, 192, 0, 200, 0, 197, 0, 200, 200, 0, 196, 0, 0, 200, 0, 0, 193]\n"
          ]
        }
      ]
    },
    {
      "cell_type": "code",
      "source": [
        "outliers.sort()\n",
        "print(outliers)"
      ],
      "metadata": {
        "colab": {
          "base_uri": "https://localhost:8080/"
        },
        "id": "JjoXEShuKu8j",
        "outputId": "bd66e228-a5cf-473a-a9a4-d5a7a709453b"
      },
      "execution_count": 18,
      "outputs": [
        {
          "output_type": "stream",
          "name": "stdout",
          "text": [
            "[0, 0, 0, 0, 0, 0, 0, 0, 0, 0, 0, 0, 0, 0, 0, 0, 0, 0, 0, 0, 0, 0, 0, 0, 0, 0, 0, 0, 0, 192, 192, 193, 193, 193, 193, 194, 194, 196, 197, 197, 198, 198, 198, 199, 199, 200, 200, 200, 200, 200, 200, 200, 200, 373, 375, 376, 379, 381, 382, 382, 382, 390, 393, 400, 407, 408, 408, 408, 409, 417, 418, 423, 423, 431, 432, 438, 440, 441, 443, 445, 445, 446, 452, 453, 456, 461, 463, 466, 470, 494, 499, 500, 501, 507, 516, 524, 536, 537, 540, 540, 550, 550, 563, 563, 563, 582, 618, 624, 644, 649, 667, 710, 744, 745, 758, 767, 773, 777, 778, 784, 797, 832, 832, 835, 835, 852, 910, 914, 1040, 1124, 1154, 1245, 1320]\n"
          ]
        }
      ]
    },
    {
      "cell_type": "markdown",
      "source": [
        "# COVID-19 en Brazil"
      ],
      "metadata": {
        "id": "qUbr3RvEVdTv"
      }
    },
    {
      "cell_type": "markdown",
      "source": [
        "## Lectura y despliegue de información de la base de datos"
      ],
      "metadata": {
        "id": "9Zh9uJXmV2xP"
      }
    },
    {
      "cell_type": "code",
      "source": [
        "brazilCovid = pd.read_csv('brazil-covid19.csv')"
      ],
      "metadata": {
        "id": "cj97NFslVhBv"
      },
      "execution_count": 19,
      "outputs": []
    },
    {
      "cell_type": "code",
      "source": [
        "brazilCovid.head()"
      ],
      "metadata": {
        "colab": {
          "base_uri": "https://localhost:8080/",
          "height": 0
        },
        "id": "b-L8skCKXbFJ",
        "outputId": "2630b9c7-2234-4d0a-8aa3-d8f58db4d330"
      },
      "execution_count": 20,
      "outputs": [
        {
          "output_type": "execute_result",
          "data": {
            "text/plain": [
              "         date   hour              state  suspects  refuses cases  deaths\n",
              "0  2020-01-30  16:00       Minas Gerais         1        0     0       0\n",
              "1  2020-01-30  16:00     Rio de Janeiro         1        0     0       0\n",
              "2  2020-01-30  16:00     Santa Catarina         0        2     0       0\n",
              "3  2020-01-30  16:00          São Paulo         3        1     0       0\n",
              "4  2020-01-30  16:00  Rio Grande do Sul         2        2     0       0"
            ],
            "text/html": [
              "\n",
              "  <div id=\"df-9e09673e-2e2f-49b6-b470-d330d90e497c\" class=\"colab-df-container\">\n",
              "    <div>\n",
              "<style scoped>\n",
              "    .dataframe tbody tr th:only-of-type {\n",
              "        vertical-align: middle;\n",
              "    }\n",
              "\n",
              "    .dataframe tbody tr th {\n",
              "        vertical-align: top;\n",
              "    }\n",
              "\n",
              "    .dataframe thead th {\n",
              "        text-align: right;\n",
              "    }\n",
              "</style>\n",
              "<table border=\"1\" class=\"dataframe\">\n",
              "  <thead>\n",
              "    <tr style=\"text-align: right;\">\n",
              "      <th></th>\n",
              "      <th>date</th>\n",
              "      <th>hour</th>\n",
              "      <th>state</th>\n",
              "      <th>suspects</th>\n",
              "      <th>refuses</th>\n",
              "      <th>cases</th>\n",
              "      <th>deaths</th>\n",
              "    </tr>\n",
              "  </thead>\n",
              "  <tbody>\n",
              "    <tr>\n",
              "      <th>0</th>\n",
              "      <td>2020-01-30</td>\n",
              "      <td>16:00</td>\n",
              "      <td>Minas Gerais</td>\n",
              "      <td>1</td>\n",
              "      <td>0</td>\n",
              "      <td>0</td>\n",
              "      <td>0</td>\n",
              "    </tr>\n",
              "    <tr>\n",
              "      <th>1</th>\n",
              "      <td>2020-01-30</td>\n",
              "      <td>16:00</td>\n",
              "      <td>Rio de Janeiro</td>\n",
              "      <td>1</td>\n",
              "      <td>0</td>\n",
              "      <td>0</td>\n",
              "      <td>0</td>\n",
              "    </tr>\n",
              "    <tr>\n",
              "      <th>2</th>\n",
              "      <td>2020-01-30</td>\n",
              "      <td>16:00</td>\n",
              "      <td>Santa Catarina</td>\n",
              "      <td>0</td>\n",
              "      <td>2</td>\n",
              "      <td>0</td>\n",
              "      <td>0</td>\n",
              "    </tr>\n",
              "    <tr>\n",
              "      <th>3</th>\n",
              "      <td>2020-01-30</td>\n",
              "      <td>16:00</td>\n",
              "      <td>São Paulo</td>\n",
              "      <td>3</td>\n",
              "      <td>1</td>\n",
              "      <td>0</td>\n",
              "      <td>0</td>\n",
              "    </tr>\n",
              "    <tr>\n",
              "      <th>4</th>\n",
              "      <td>2020-01-30</td>\n",
              "      <td>16:00</td>\n",
              "      <td>Rio Grande do Sul</td>\n",
              "      <td>2</td>\n",
              "      <td>2</td>\n",
              "      <td>0</td>\n",
              "      <td>0</td>\n",
              "    </tr>\n",
              "  </tbody>\n",
              "</table>\n",
              "</div>\n",
              "    <div class=\"colab-df-buttons\">\n",
              "\n",
              "  <div class=\"colab-df-container\">\n",
              "    <button class=\"colab-df-convert\" onclick=\"convertToInteractive('df-9e09673e-2e2f-49b6-b470-d330d90e497c')\"\n",
              "            title=\"Convert this dataframe to an interactive table.\"\n",
              "            style=\"display:none;\">\n",
              "\n",
              "  <svg xmlns=\"http://www.w3.org/2000/svg\" height=\"24px\" viewBox=\"0 -960 960 960\">\n",
              "    <path d=\"M120-120v-720h720v720H120Zm60-500h600v-160H180v160Zm220 220h160v-160H400v160Zm0 220h160v-160H400v160ZM180-400h160v-160H180v160Zm440 0h160v-160H620v160ZM180-180h160v-160H180v160Zm440 0h160v-160H620v160Z\"/>\n",
              "  </svg>\n",
              "    </button>\n",
              "\n",
              "  <style>\n",
              "    .colab-df-container {\n",
              "      display:flex;\n",
              "      gap: 12px;\n",
              "    }\n",
              "\n",
              "    .colab-df-convert {\n",
              "      background-color: #E8F0FE;\n",
              "      border: none;\n",
              "      border-radius: 50%;\n",
              "      cursor: pointer;\n",
              "      display: none;\n",
              "      fill: #1967D2;\n",
              "      height: 32px;\n",
              "      padding: 0 0 0 0;\n",
              "      width: 32px;\n",
              "    }\n",
              "\n",
              "    .colab-df-convert:hover {\n",
              "      background-color: #E2EBFA;\n",
              "      box-shadow: 0px 1px 2px rgba(60, 64, 67, 0.3), 0px 1px 3px 1px rgba(60, 64, 67, 0.15);\n",
              "      fill: #174EA6;\n",
              "    }\n",
              "\n",
              "    .colab-df-buttons div {\n",
              "      margin-bottom: 4px;\n",
              "    }\n",
              "\n",
              "    [theme=dark] .colab-df-convert {\n",
              "      background-color: #3B4455;\n",
              "      fill: #D2E3FC;\n",
              "    }\n",
              "\n",
              "    [theme=dark] .colab-df-convert:hover {\n",
              "      background-color: #434B5C;\n",
              "      box-shadow: 0px 1px 3px 1px rgba(0, 0, 0, 0.15);\n",
              "      filter: drop-shadow(0px 1px 2px rgba(0, 0, 0, 0.3));\n",
              "      fill: #FFFFFF;\n",
              "    }\n",
              "  </style>\n",
              "\n",
              "    <script>\n",
              "      const buttonEl =\n",
              "        document.querySelector('#df-9e09673e-2e2f-49b6-b470-d330d90e497c button.colab-df-convert');\n",
              "      buttonEl.style.display =\n",
              "        google.colab.kernel.accessAllowed ? 'block' : 'none';\n",
              "\n",
              "      async function convertToInteractive(key) {\n",
              "        const element = document.querySelector('#df-9e09673e-2e2f-49b6-b470-d330d90e497c');\n",
              "        const dataTable =\n",
              "          await google.colab.kernel.invokeFunction('convertToInteractive',\n",
              "                                                    [key], {});\n",
              "        if (!dataTable) return;\n",
              "\n",
              "        const docLinkHtml = 'Like what you see? Visit the ' +\n",
              "          '<a target=\"_blank\" href=https://colab.research.google.com/notebooks/data_table.ipynb>data table notebook</a>'\n",
              "          + ' to learn more about interactive tables.';\n",
              "        element.innerHTML = '';\n",
              "        dataTable['output_type'] = 'display_data';\n",
              "        await google.colab.output.renderOutput(dataTable, element);\n",
              "        const docLink = document.createElement('div');\n",
              "        docLink.innerHTML = docLinkHtml;\n",
              "        element.appendChild(docLink);\n",
              "      }\n",
              "    </script>\n",
              "  </div>\n",
              "\n",
              "\n",
              "<div id=\"df-575b72a6-e2f9-4e19-9608-a1c183a33adc\">\n",
              "  <button class=\"colab-df-quickchart\" onclick=\"quickchart('df-575b72a6-e2f9-4e19-9608-a1c183a33adc')\"\n",
              "            title=\"Suggest charts\"\n",
              "            style=\"display:none;\">\n",
              "\n",
              "<svg xmlns=\"http://www.w3.org/2000/svg\" height=\"24px\"viewBox=\"0 0 24 24\"\n",
              "     width=\"24px\">\n",
              "    <g>\n",
              "        <path d=\"M19 3H5c-1.1 0-2 .9-2 2v14c0 1.1.9 2 2 2h14c1.1 0 2-.9 2-2V5c0-1.1-.9-2-2-2zM9 17H7v-7h2v7zm4 0h-2V7h2v10zm4 0h-2v-4h2v4z\"/>\n",
              "    </g>\n",
              "</svg>\n",
              "  </button>\n",
              "\n",
              "<style>\n",
              "  .colab-df-quickchart {\n",
              "      --bg-color: #E8F0FE;\n",
              "      --fill-color: #1967D2;\n",
              "      --hover-bg-color: #E2EBFA;\n",
              "      --hover-fill-color: #174EA6;\n",
              "      --disabled-fill-color: #AAA;\n",
              "      --disabled-bg-color: #DDD;\n",
              "  }\n",
              "\n",
              "  [theme=dark] .colab-df-quickchart {\n",
              "      --bg-color: #3B4455;\n",
              "      --fill-color: #D2E3FC;\n",
              "      --hover-bg-color: #434B5C;\n",
              "      --hover-fill-color: #FFFFFF;\n",
              "      --disabled-bg-color: #3B4455;\n",
              "      --disabled-fill-color: #666;\n",
              "  }\n",
              "\n",
              "  .colab-df-quickchart {\n",
              "    background-color: var(--bg-color);\n",
              "    border: none;\n",
              "    border-radius: 50%;\n",
              "    cursor: pointer;\n",
              "    display: none;\n",
              "    fill: var(--fill-color);\n",
              "    height: 32px;\n",
              "    padding: 0;\n",
              "    width: 32px;\n",
              "  }\n",
              "\n",
              "  .colab-df-quickchart:hover {\n",
              "    background-color: var(--hover-bg-color);\n",
              "    box-shadow: 0 1px 2px rgba(60, 64, 67, 0.3), 0 1px 3px 1px rgba(60, 64, 67, 0.15);\n",
              "    fill: var(--button-hover-fill-color);\n",
              "  }\n",
              "\n",
              "  .colab-df-quickchart-complete:disabled,\n",
              "  .colab-df-quickchart-complete:disabled:hover {\n",
              "    background-color: var(--disabled-bg-color);\n",
              "    fill: var(--disabled-fill-color);\n",
              "    box-shadow: none;\n",
              "  }\n",
              "\n",
              "  .colab-df-spinner {\n",
              "    border: 2px solid var(--fill-color);\n",
              "    border-color: transparent;\n",
              "    border-bottom-color: var(--fill-color);\n",
              "    animation:\n",
              "      spin 1s steps(1) infinite;\n",
              "  }\n",
              "\n",
              "  @keyframes spin {\n",
              "    0% {\n",
              "      border-color: transparent;\n",
              "      border-bottom-color: var(--fill-color);\n",
              "      border-left-color: var(--fill-color);\n",
              "    }\n",
              "    20% {\n",
              "      border-color: transparent;\n",
              "      border-left-color: var(--fill-color);\n",
              "      border-top-color: var(--fill-color);\n",
              "    }\n",
              "    30% {\n",
              "      border-color: transparent;\n",
              "      border-left-color: var(--fill-color);\n",
              "      border-top-color: var(--fill-color);\n",
              "      border-right-color: var(--fill-color);\n",
              "    }\n",
              "    40% {\n",
              "      border-color: transparent;\n",
              "      border-right-color: var(--fill-color);\n",
              "      border-top-color: var(--fill-color);\n",
              "    }\n",
              "    60% {\n",
              "      border-color: transparent;\n",
              "      border-right-color: var(--fill-color);\n",
              "    }\n",
              "    80% {\n",
              "      border-color: transparent;\n",
              "      border-right-color: var(--fill-color);\n",
              "      border-bottom-color: var(--fill-color);\n",
              "    }\n",
              "    90% {\n",
              "      border-color: transparent;\n",
              "      border-bottom-color: var(--fill-color);\n",
              "    }\n",
              "  }\n",
              "</style>\n",
              "\n",
              "  <script>\n",
              "    async function quickchart(key) {\n",
              "      const quickchartButtonEl =\n",
              "        document.querySelector('#' + key + ' button');\n",
              "      quickchartButtonEl.disabled = true;  // To prevent multiple clicks.\n",
              "      quickchartButtonEl.classList.add('colab-df-spinner');\n",
              "      try {\n",
              "        const charts = await google.colab.kernel.invokeFunction(\n",
              "            'suggestCharts', [key], {});\n",
              "      } catch (error) {\n",
              "        console.error('Error during call to suggestCharts:', error);\n",
              "      }\n",
              "      quickchartButtonEl.classList.remove('colab-df-spinner');\n",
              "      quickchartButtonEl.classList.add('colab-df-quickchart-complete');\n",
              "    }\n",
              "    (() => {\n",
              "      let quickchartButtonEl =\n",
              "        document.querySelector('#df-575b72a6-e2f9-4e19-9608-a1c183a33adc button');\n",
              "      quickchartButtonEl.style.display =\n",
              "        google.colab.kernel.accessAllowed ? 'block' : 'none';\n",
              "    })();\n",
              "  </script>\n",
              "</div>\n",
              "\n",
              "    </div>\n",
              "  </div>\n"
            ],
            "application/vnd.google.colaboratory.intrinsic+json": {
              "type": "dataframe",
              "variable_name": "brazilCovid",
              "summary": "{\n  \"name\": \"brazilCovid\",\n  \"rows\": 1008,\n  \"fields\": [\n    {\n      \"column\": \"date\",\n      \"properties\": {\n        \"dtype\": \"object\",\n        \"num_unique_values\": 60,\n        \"samples\": [\n          \"2020-01-30\",\n          \"2020-02-04\",\n          \"2020-03-06\"\n        ],\n        \"semantic_type\": \"\",\n        \"description\": \"\"\n      }\n    },\n    {\n      \"column\": \"hour\",\n      \"properties\": {\n        \"dtype\": \"object\",\n        \"num_unique_values\": 29,\n        \"samples\": [\n          \"18:10\",\n          \"15:05\",\n          \"11:30\"\n        ],\n        \"semantic_type\": \"\",\n        \"description\": \"\"\n      }\n    },\n    {\n      \"column\": \"state\",\n      \"properties\": {\n        \"dtype\": \"category\",\n        \"num_unique_values\": 27,\n        \"samples\": [\n          \"Bahia\",\n          \"Alagoas\",\n          \"Para\\u00edba\"\n        ],\n        \"semantic_type\": \"\",\n        \"description\": \"\"\n      }\n    },\n    {\n      \"column\": \"suspects\",\n      \"properties\": {\n        \"dtype\": \"number\",\n        \"std\": 742,\n        \"min\": 0,\n        \"max\": 11832,\n        \"num_unique_values\": 193,\n        \"samples\": [\n          104,\n          146,\n          704\n        ],\n        \"semantic_type\": \"\",\n        \"description\": \"\"\n      }\n    },\n    {\n      \"column\": \"refuses\",\n      \"properties\": {\n        \"dtype\": \"number\",\n        \"std\": 160,\n        \"min\": 0,\n        \"max\": 2423,\n        \"num_unique_values\": 147,\n        \"samples\": [\n          164,\n          320,\n          115\n        ],\n        \"semantic_type\": \"\",\n        \"description\": \"\"\n      }\n    },\n    {\n      \"column\": \"cases\",\n      \"properties\": {\n        \"dtype\": \"category\",\n        \"num_unique_values\": 147,\n        \"samples\": [\n          \"348\",\n          \"51\",\n          \"312\"\n        ],\n        \"semantic_type\": \"\",\n        \"description\": \"\"\n      }\n    },\n    {\n      \"column\": \"deaths\",\n      \"properties\": {\n        \"dtype\": \"number\",\n        \"std\": 6,\n        \"min\": 0,\n        \"max\": 113,\n        \"num_unique_values\": 22,\n        \"samples\": [\n          0,\n          58,\n          22\n        ],\n        \"semantic_type\": \"\",\n        \"description\": \"\"\n      }\n    }\n  ]\n}"
            }
          },
          "metadata": {},
          "execution_count": 20
        }
      ]
    },
    {
      "cell_type": "markdown",
      "source": [
        "## Busqueda de datos duplicados"
      ],
      "metadata": {
        "id": "XYcaqTfDxNnW"
      }
    },
    {
      "cell_type": "code",
      "source": [
        "print(brazilCovid[-5:])"
      ],
      "metadata": {
        "colab": {
          "base_uri": "https://localhost:8080/"
        },
        "id": "gwqWkvmgV9Do",
        "outputId": "000d1aa4-c803-46b1-efb9-c9f3474e4fe8"
      },
      "execution_count": 21,
      "outputs": [
        {
          "output_type": "stream",
          "name": "stdout",
          "text": [
            "            date hour           state  suspects  refuses cases  deaths\n",
            "1003  2020-03-30  NaN         Roraima         0        0    16       0\n",
            "1004  2020-03-30  NaN  Santa Catarina         0        0   197       1\n",
            "1005  2020-03-30  NaN       São Paulo         0        0  1517     113\n",
            "1006  2020-03-30  NaN         Sergipe         0        0    16       0\n",
            "1007  2020-03-30  NaN       Tocantins         0        0    10       0\n"
          ]
        }
      ]
    },
    {
      "cell_type": "code",
      "source": [
        "brazilCovid[brazilCovid.duplicated(keep=False)]"
      ],
      "metadata": {
        "colab": {
          "base_uri": "https://localhost:8080/",
          "height": 0
        },
        "id": "IouYYBUeXvub",
        "outputId": "e67e62a8-65ef-40a2-d4ad-93b1cdf34347"
      },
      "execution_count": 22,
      "outputs": [
        {
          "output_type": "execute_result",
          "data": {
            "text/plain": [
              "           date   hour              state  suspects  refuses cases  deaths\n",
              "49   2020-02-06  15:30              Ceará         0        1     0       0\n",
              "50   2020-02-06  15:30       Minas Gerais         1        1     0       0\n",
              "51   2020-02-06  15:30     Rio de Janeiro         1        2     0       0\n",
              "52   2020-02-06  15:30          São Paulo         3       10     0       0\n",
              "53   2020-02-06  15:30             Paraná         0        2     0       0\n",
              "54   2020-02-06  15:30     Santa Catarina         1        3     0       0\n",
              "55   2020-02-06  15:30  Rio Grande do Sul         3        5     0       0\n",
              "56   2020-02-06  15:30              Ceará         0        1     0       0\n",
              "57   2020-02-06  15:30       Minas Gerais         1        1     0       0\n",
              "58   2020-02-06  15:30     Rio de Janeiro         1        2     0       0\n",
              "59   2020-02-06  15:30          São Paulo         3       10     0       0\n",
              "60   2020-02-06  15:30             Paraná         0        2     0       0\n",
              "61   2020-02-06  15:30     Santa Catarina         1        3     0       0\n",
              "62   2020-02-06  15:30  Rio Grande do Sul         3        5     0       0\n",
              "201  2020-02-25  13:50              Ceará         0        1     0       0\n",
              "202  2020-02-25  13:50       Minas Gerais         0        2     0       0\n",
              "203  2020-02-25  13:50     Rio de Janeiro         0        8     0       0\n",
              "204  2020-02-25  13:50          São Paulo         4       26     0       0\n",
              "205  2020-02-25  13:50             Paraná         0        3     0       0\n",
              "206  2020-02-25  13:50     Santa Catarina         0        4     0       0\n",
              "207  2020-02-25  13:50  Rio Grande do Sul         0       10     0       0\n",
              "208  2020-02-25  13:50   Distrito Federal         0        1     0       0\n",
              "209  2020-02-25  13:50              Ceará         0        1     0       0\n",
              "210  2020-02-25  13:50       Minas Gerais         0        2     0       0\n",
              "211  2020-02-25  13:50     Rio de Janeiro         0        8     0       0\n",
              "212  2020-02-25  13:50          São Paulo         4       26     0       0\n",
              "213  2020-02-25  13:50             Paraná         0        3     0       0\n",
              "214  2020-02-25  13:50     Santa Catarina         0        4     0       0\n",
              "215  2020-02-25  13:50  Rio Grande do Sul         0       10     0       0\n",
              "216  2020-02-25  13:50   Distrito Federal         0        1     0       0"
            ],
            "text/html": [
              "\n",
              "  <div id=\"df-9b4a2f15-b359-4465-9704-9cf32da9922c\" class=\"colab-df-container\">\n",
              "    <div>\n",
              "<style scoped>\n",
              "    .dataframe tbody tr th:only-of-type {\n",
              "        vertical-align: middle;\n",
              "    }\n",
              "\n",
              "    .dataframe tbody tr th {\n",
              "        vertical-align: top;\n",
              "    }\n",
              "\n",
              "    .dataframe thead th {\n",
              "        text-align: right;\n",
              "    }\n",
              "</style>\n",
              "<table border=\"1\" class=\"dataframe\">\n",
              "  <thead>\n",
              "    <tr style=\"text-align: right;\">\n",
              "      <th></th>\n",
              "      <th>date</th>\n",
              "      <th>hour</th>\n",
              "      <th>state</th>\n",
              "      <th>suspects</th>\n",
              "      <th>refuses</th>\n",
              "      <th>cases</th>\n",
              "      <th>deaths</th>\n",
              "    </tr>\n",
              "  </thead>\n",
              "  <tbody>\n",
              "    <tr>\n",
              "      <th>49</th>\n",
              "      <td>2020-02-06</td>\n",
              "      <td>15:30</td>\n",
              "      <td>Ceará</td>\n",
              "      <td>0</td>\n",
              "      <td>1</td>\n",
              "      <td>0</td>\n",
              "      <td>0</td>\n",
              "    </tr>\n",
              "    <tr>\n",
              "      <th>50</th>\n",
              "      <td>2020-02-06</td>\n",
              "      <td>15:30</td>\n",
              "      <td>Minas Gerais</td>\n",
              "      <td>1</td>\n",
              "      <td>1</td>\n",
              "      <td>0</td>\n",
              "      <td>0</td>\n",
              "    </tr>\n",
              "    <tr>\n",
              "      <th>51</th>\n",
              "      <td>2020-02-06</td>\n",
              "      <td>15:30</td>\n",
              "      <td>Rio de Janeiro</td>\n",
              "      <td>1</td>\n",
              "      <td>2</td>\n",
              "      <td>0</td>\n",
              "      <td>0</td>\n",
              "    </tr>\n",
              "    <tr>\n",
              "      <th>52</th>\n",
              "      <td>2020-02-06</td>\n",
              "      <td>15:30</td>\n",
              "      <td>São Paulo</td>\n",
              "      <td>3</td>\n",
              "      <td>10</td>\n",
              "      <td>0</td>\n",
              "      <td>0</td>\n",
              "    </tr>\n",
              "    <tr>\n",
              "      <th>53</th>\n",
              "      <td>2020-02-06</td>\n",
              "      <td>15:30</td>\n",
              "      <td>Paraná</td>\n",
              "      <td>0</td>\n",
              "      <td>2</td>\n",
              "      <td>0</td>\n",
              "      <td>0</td>\n",
              "    </tr>\n",
              "    <tr>\n",
              "      <th>54</th>\n",
              "      <td>2020-02-06</td>\n",
              "      <td>15:30</td>\n",
              "      <td>Santa Catarina</td>\n",
              "      <td>1</td>\n",
              "      <td>3</td>\n",
              "      <td>0</td>\n",
              "      <td>0</td>\n",
              "    </tr>\n",
              "    <tr>\n",
              "      <th>55</th>\n",
              "      <td>2020-02-06</td>\n",
              "      <td>15:30</td>\n",
              "      <td>Rio Grande do Sul</td>\n",
              "      <td>3</td>\n",
              "      <td>5</td>\n",
              "      <td>0</td>\n",
              "      <td>0</td>\n",
              "    </tr>\n",
              "    <tr>\n",
              "      <th>56</th>\n",
              "      <td>2020-02-06</td>\n",
              "      <td>15:30</td>\n",
              "      <td>Ceará</td>\n",
              "      <td>0</td>\n",
              "      <td>1</td>\n",
              "      <td>0</td>\n",
              "      <td>0</td>\n",
              "    </tr>\n",
              "    <tr>\n",
              "      <th>57</th>\n",
              "      <td>2020-02-06</td>\n",
              "      <td>15:30</td>\n",
              "      <td>Minas Gerais</td>\n",
              "      <td>1</td>\n",
              "      <td>1</td>\n",
              "      <td>0</td>\n",
              "      <td>0</td>\n",
              "    </tr>\n",
              "    <tr>\n",
              "      <th>58</th>\n",
              "      <td>2020-02-06</td>\n",
              "      <td>15:30</td>\n",
              "      <td>Rio de Janeiro</td>\n",
              "      <td>1</td>\n",
              "      <td>2</td>\n",
              "      <td>0</td>\n",
              "      <td>0</td>\n",
              "    </tr>\n",
              "    <tr>\n",
              "      <th>59</th>\n",
              "      <td>2020-02-06</td>\n",
              "      <td>15:30</td>\n",
              "      <td>São Paulo</td>\n",
              "      <td>3</td>\n",
              "      <td>10</td>\n",
              "      <td>0</td>\n",
              "      <td>0</td>\n",
              "    </tr>\n",
              "    <tr>\n",
              "      <th>60</th>\n",
              "      <td>2020-02-06</td>\n",
              "      <td>15:30</td>\n",
              "      <td>Paraná</td>\n",
              "      <td>0</td>\n",
              "      <td>2</td>\n",
              "      <td>0</td>\n",
              "      <td>0</td>\n",
              "    </tr>\n",
              "    <tr>\n",
              "      <th>61</th>\n",
              "      <td>2020-02-06</td>\n",
              "      <td>15:30</td>\n",
              "      <td>Santa Catarina</td>\n",
              "      <td>1</td>\n",
              "      <td>3</td>\n",
              "      <td>0</td>\n",
              "      <td>0</td>\n",
              "    </tr>\n",
              "    <tr>\n",
              "      <th>62</th>\n",
              "      <td>2020-02-06</td>\n",
              "      <td>15:30</td>\n",
              "      <td>Rio Grande do Sul</td>\n",
              "      <td>3</td>\n",
              "      <td>5</td>\n",
              "      <td>0</td>\n",
              "      <td>0</td>\n",
              "    </tr>\n",
              "    <tr>\n",
              "      <th>201</th>\n",
              "      <td>2020-02-25</td>\n",
              "      <td>13:50</td>\n",
              "      <td>Ceará</td>\n",
              "      <td>0</td>\n",
              "      <td>1</td>\n",
              "      <td>0</td>\n",
              "      <td>0</td>\n",
              "    </tr>\n",
              "    <tr>\n",
              "      <th>202</th>\n",
              "      <td>2020-02-25</td>\n",
              "      <td>13:50</td>\n",
              "      <td>Minas Gerais</td>\n",
              "      <td>0</td>\n",
              "      <td>2</td>\n",
              "      <td>0</td>\n",
              "      <td>0</td>\n",
              "    </tr>\n",
              "    <tr>\n",
              "      <th>203</th>\n",
              "      <td>2020-02-25</td>\n",
              "      <td>13:50</td>\n",
              "      <td>Rio de Janeiro</td>\n",
              "      <td>0</td>\n",
              "      <td>8</td>\n",
              "      <td>0</td>\n",
              "      <td>0</td>\n",
              "    </tr>\n",
              "    <tr>\n",
              "      <th>204</th>\n",
              "      <td>2020-02-25</td>\n",
              "      <td>13:50</td>\n",
              "      <td>São Paulo</td>\n",
              "      <td>4</td>\n",
              "      <td>26</td>\n",
              "      <td>0</td>\n",
              "      <td>0</td>\n",
              "    </tr>\n",
              "    <tr>\n",
              "      <th>205</th>\n",
              "      <td>2020-02-25</td>\n",
              "      <td>13:50</td>\n",
              "      <td>Paraná</td>\n",
              "      <td>0</td>\n",
              "      <td>3</td>\n",
              "      <td>0</td>\n",
              "      <td>0</td>\n",
              "    </tr>\n",
              "    <tr>\n",
              "      <th>206</th>\n",
              "      <td>2020-02-25</td>\n",
              "      <td>13:50</td>\n",
              "      <td>Santa Catarina</td>\n",
              "      <td>0</td>\n",
              "      <td>4</td>\n",
              "      <td>0</td>\n",
              "      <td>0</td>\n",
              "    </tr>\n",
              "    <tr>\n",
              "      <th>207</th>\n",
              "      <td>2020-02-25</td>\n",
              "      <td>13:50</td>\n",
              "      <td>Rio Grande do Sul</td>\n",
              "      <td>0</td>\n",
              "      <td>10</td>\n",
              "      <td>0</td>\n",
              "      <td>0</td>\n",
              "    </tr>\n",
              "    <tr>\n",
              "      <th>208</th>\n",
              "      <td>2020-02-25</td>\n",
              "      <td>13:50</td>\n",
              "      <td>Distrito Federal</td>\n",
              "      <td>0</td>\n",
              "      <td>1</td>\n",
              "      <td>0</td>\n",
              "      <td>0</td>\n",
              "    </tr>\n",
              "    <tr>\n",
              "      <th>209</th>\n",
              "      <td>2020-02-25</td>\n",
              "      <td>13:50</td>\n",
              "      <td>Ceará</td>\n",
              "      <td>0</td>\n",
              "      <td>1</td>\n",
              "      <td>0</td>\n",
              "      <td>0</td>\n",
              "    </tr>\n",
              "    <tr>\n",
              "      <th>210</th>\n",
              "      <td>2020-02-25</td>\n",
              "      <td>13:50</td>\n",
              "      <td>Minas Gerais</td>\n",
              "      <td>0</td>\n",
              "      <td>2</td>\n",
              "      <td>0</td>\n",
              "      <td>0</td>\n",
              "    </tr>\n",
              "    <tr>\n",
              "      <th>211</th>\n",
              "      <td>2020-02-25</td>\n",
              "      <td>13:50</td>\n",
              "      <td>Rio de Janeiro</td>\n",
              "      <td>0</td>\n",
              "      <td>8</td>\n",
              "      <td>0</td>\n",
              "      <td>0</td>\n",
              "    </tr>\n",
              "    <tr>\n",
              "      <th>212</th>\n",
              "      <td>2020-02-25</td>\n",
              "      <td>13:50</td>\n",
              "      <td>São Paulo</td>\n",
              "      <td>4</td>\n",
              "      <td>26</td>\n",
              "      <td>0</td>\n",
              "      <td>0</td>\n",
              "    </tr>\n",
              "    <tr>\n",
              "      <th>213</th>\n",
              "      <td>2020-02-25</td>\n",
              "      <td>13:50</td>\n",
              "      <td>Paraná</td>\n",
              "      <td>0</td>\n",
              "      <td>3</td>\n",
              "      <td>0</td>\n",
              "      <td>0</td>\n",
              "    </tr>\n",
              "    <tr>\n",
              "      <th>214</th>\n",
              "      <td>2020-02-25</td>\n",
              "      <td>13:50</td>\n",
              "      <td>Santa Catarina</td>\n",
              "      <td>0</td>\n",
              "      <td>4</td>\n",
              "      <td>0</td>\n",
              "      <td>0</td>\n",
              "    </tr>\n",
              "    <tr>\n",
              "      <th>215</th>\n",
              "      <td>2020-02-25</td>\n",
              "      <td>13:50</td>\n",
              "      <td>Rio Grande do Sul</td>\n",
              "      <td>0</td>\n",
              "      <td>10</td>\n",
              "      <td>0</td>\n",
              "      <td>0</td>\n",
              "    </tr>\n",
              "    <tr>\n",
              "      <th>216</th>\n",
              "      <td>2020-02-25</td>\n",
              "      <td>13:50</td>\n",
              "      <td>Distrito Federal</td>\n",
              "      <td>0</td>\n",
              "      <td>1</td>\n",
              "      <td>0</td>\n",
              "      <td>0</td>\n",
              "    </tr>\n",
              "  </tbody>\n",
              "</table>\n",
              "</div>\n",
              "    <div class=\"colab-df-buttons\">\n",
              "\n",
              "  <div class=\"colab-df-container\">\n",
              "    <button class=\"colab-df-convert\" onclick=\"convertToInteractive('df-9b4a2f15-b359-4465-9704-9cf32da9922c')\"\n",
              "            title=\"Convert this dataframe to an interactive table.\"\n",
              "            style=\"display:none;\">\n",
              "\n",
              "  <svg xmlns=\"http://www.w3.org/2000/svg\" height=\"24px\" viewBox=\"0 -960 960 960\">\n",
              "    <path d=\"M120-120v-720h720v720H120Zm60-500h600v-160H180v160Zm220 220h160v-160H400v160Zm0 220h160v-160H400v160ZM180-400h160v-160H180v160Zm440 0h160v-160H620v160ZM180-180h160v-160H180v160Zm440 0h160v-160H620v160Z\"/>\n",
              "  </svg>\n",
              "    </button>\n",
              "\n",
              "  <style>\n",
              "    .colab-df-container {\n",
              "      display:flex;\n",
              "      gap: 12px;\n",
              "    }\n",
              "\n",
              "    .colab-df-convert {\n",
              "      background-color: #E8F0FE;\n",
              "      border: none;\n",
              "      border-radius: 50%;\n",
              "      cursor: pointer;\n",
              "      display: none;\n",
              "      fill: #1967D2;\n",
              "      height: 32px;\n",
              "      padding: 0 0 0 0;\n",
              "      width: 32px;\n",
              "    }\n",
              "\n",
              "    .colab-df-convert:hover {\n",
              "      background-color: #E2EBFA;\n",
              "      box-shadow: 0px 1px 2px rgba(60, 64, 67, 0.3), 0px 1px 3px 1px rgba(60, 64, 67, 0.15);\n",
              "      fill: #174EA6;\n",
              "    }\n",
              "\n",
              "    .colab-df-buttons div {\n",
              "      margin-bottom: 4px;\n",
              "    }\n",
              "\n",
              "    [theme=dark] .colab-df-convert {\n",
              "      background-color: #3B4455;\n",
              "      fill: #D2E3FC;\n",
              "    }\n",
              "\n",
              "    [theme=dark] .colab-df-convert:hover {\n",
              "      background-color: #434B5C;\n",
              "      box-shadow: 0px 1px 3px 1px rgba(0, 0, 0, 0.15);\n",
              "      filter: drop-shadow(0px 1px 2px rgba(0, 0, 0, 0.3));\n",
              "      fill: #FFFFFF;\n",
              "    }\n",
              "  </style>\n",
              "\n",
              "    <script>\n",
              "      const buttonEl =\n",
              "        document.querySelector('#df-9b4a2f15-b359-4465-9704-9cf32da9922c button.colab-df-convert');\n",
              "      buttonEl.style.display =\n",
              "        google.colab.kernel.accessAllowed ? 'block' : 'none';\n",
              "\n",
              "      async function convertToInteractive(key) {\n",
              "        const element = document.querySelector('#df-9b4a2f15-b359-4465-9704-9cf32da9922c');\n",
              "        const dataTable =\n",
              "          await google.colab.kernel.invokeFunction('convertToInteractive',\n",
              "                                                    [key], {});\n",
              "        if (!dataTable) return;\n",
              "\n",
              "        const docLinkHtml = 'Like what you see? Visit the ' +\n",
              "          '<a target=\"_blank\" href=https://colab.research.google.com/notebooks/data_table.ipynb>data table notebook</a>'\n",
              "          + ' to learn more about interactive tables.';\n",
              "        element.innerHTML = '';\n",
              "        dataTable['output_type'] = 'display_data';\n",
              "        await google.colab.output.renderOutput(dataTable, element);\n",
              "        const docLink = document.createElement('div');\n",
              "        docLink.innerHTML = docLinkHtml;\n",
              "        element.appendChild(docLink);\n",
              "      }\n",
              "    </script>\n",
              "  </div>\n",
              "\n",
              "\n",
              "<div id=\"df-a80947e8-e8bf-43f7-a83e-149b630cb130\">\n",
              "  <button class=\"colab-df-quickchart\" onclick=\"quickchart('df-a80947e8-e8bf-43f7-a83e-149b630cb130')\"\n",
              "            title=\"Suggest charts\"\n",
              "            style=\"display:none;\">\n",
              "\n",
              "<svg xmlns=\"http://www.w3.org/2000/svg\" height=\"24px\"viewBox=\"0 0 24 24\"\n",
              "     width=\"24px\">\n",
              "    <g>\n",
              "        <path d=\"M19 3H5c-1.1 0-2 .9-2 2v14c0 1.1.9 2 2 2h14c1.1 0 2-.9 2-2V5c0-1.1-.9-2-2-2zM9 17H7v-7h2v7zm4 0h-2V7h2v10zm4 0h-2v-4h2v4z\"/>\n",
              "    </g>\n",
              "</svg>\n",
              "  </button>\n",
              "\n",
              "<style>\n",
              "  .colab-df-quickchart {\n",
              "      --bg-color: #E8F0FE;\n",
              "      --fill-color: #1967D2;\n",
              "      --hover-bg-color: #E2EBFA;\n",
              "      --hover-fill-color: #174EA6;\n",
              "      --disabled-fill-color: #AAA;\n",
              "      --disabled-bg-color: #DDD;\n",
              "  }\n",
              "\n",
              "  [theme=dark] .colab-df-quickchart {\n",
              "      --bg-color: #3B4455;\n",
              "      --fill-color: #D2E3FC;\n",
              "      --hover-bg-color: #434B5C;\n",
              "      --hover-fill-color: #FFFFFF;\n",
              "      --disabled-bg-color: #3B4455;\n",
              "      --disabled-fill-color: #666;\n",
              "  }\n",
              "\n",
              "  .colab-df-quickchart {\n",
              "    background-color: var(--bg-color);\n",
              "    border: none;\n",
              "    border-radius: 50%;\n",
              "    cursor: pointer;\n",
              "    display: none;\n",
              "    fill: var(--fill-color);\n",
              "    height: 32px;\n",
              "    padding: 0;\n",
              "    width: 32px;\n",
              "  }\n",
              "\n",
              "  .colab-df-quickchart:hover {\n",
              "    background-color: var(--hover-bg-color);\n",
              "    box-shadow: 0 1px 2px rgba(60, 64, 67, 0.3), 0 1px 3px 1px rgba(60, 64, 67, 0.15);\n",
              "    fill: var(--button-hover-fill-color);\n",
              "  }\n",
              "\n",
              "  .colab-df-quickchart-complete:disabled,\n",
              "  .colab-df-quickchart-complete:disabled:hover {\n",
              "    background-color: var(--disabled-bg-color);\n",
              "    fill: var(--disabled-fill-color);\n",
              "    box-shadow: none;\n",
              "  }\n",
              "\n",
              "  .colab-df-spinner {\n",
              "    border: 2px solid var(--fill-color);\n",
              "    border-color: transparent;\n",
              "    border-bottom-color: var(--fill-color);\n",
              "    animation:\n",
              "      spin 1s steps(1) infinite;\n",
              "  }\n",
              "\n",
              "  @keyframes spin {\n",
              "    0% {\n",
              "      border-color: transparent;\n",
              "      border-bottom-color: var(--fill-color);\n",
              "      border-left-color: var(--fill-color);\n",
              "    }\n",
              "    20% {\n",
              "      border-color: transparent;\n",
              "      border-left-color: var(--fill-color);\n",
              "      border-top-color: var(--fill-color);\n",
              "    }\n",
              "    30% {\n",
              "      border-color: transparent;\n",
              "      border-left-color: var(--fill-color);\n",
              "      border-top-color: var(--fill-color);\n",
              "      border-right-color: var(--fill-color);\n",
              "    }\n",
              "    40% {\n",
              "      border-color: transparent;\n",
              "      border-right-color: var(--fill-color);\n",
              "      border-top-color: var(--fill-color);\n",
              "    }\n",
              "    60% {\n",
              "      border-color: transparent;\n",
              "      border-right-color: var(--fill-color);\n",
              "    }\n",
              "    80% {\n",
              "      border-color: transparent;\n",
              "      border-right-color: var(--fill-color);\n",
              "      border-bottom-color: var(--fill-color);\n",
              "    }\n",
              "    90% {\n",
              "      border-color: transparent;\n",
              "      border-bottom-color: var(--fill-color);\n",
              "    }\n",
              "  }\n",
              "</style>\n",
              "\n",
              "  <script>\n",
              "    async function quickchart(key) {\n",
              "      const quickchartButtonEl =\n",
              "        document.querySelector('#' + key + ' button');\n",
              "      quickchartButtonEl.disabled = true;  // To prevent multiple clicks.\n",
              "      quickchartButtonEl.classList.add('colab-df-spinner');\n",
              "      try {\n",
              "        const charts = await google.colab.kernel.invokeFunction(\n",
              "            'suggestCharts', [key], {});\n",
              "      } catch (error) {\n",
              "        console.error('Error during call to suggestCharts:', error);\n",
              "      }\n",
              "      quickchartButtonEl.classList.remove('colab-df-spinner');\n",
              "      quickchartButtonEl.classList.add('colab-df-quickchart-complete');\n",
              "    }\n",
              "    (() => {\n",
              "      let quickchartButtonEl =\n",
              "        document.querySelector('#df-a80947e8-e8bf-43f7-a83e-149b630cb130 button');\n",
              "      quickchartButtonEl.style.display =\n",
              "        google.colab.kernel.accessAllowed ? 'block' : 'none';\n",
              "    })();\n",
              "  </script>\n",
              "</div>\n",
              "\n",
              "    </div>\n",
              "  </div>\n"
            ],
            "application/vnd.google.colaboratory.intrinsic+json": {
              "type": "dataframe",
              "repr_error": "0"
            }
          },
          "metadata": {},
          "execution_count": 22
        }
      ]
    },
    {
      "cell_type": "code",
      "source": [
        "brazilCovid.duplicated(subset=['date'])"
      ],
      "metadata": {
        "colab": {
          "base_uri": "https://localhost:8080/",
          "height": 0
        },
        "id": "X1hJSDriO3R3",
        "outputId": "36d383ff-ec59-437d-e0be-2538a82ef463"
      },
      "execution_count": 23,
      "outputs": [
        {
          "output_type": "execute_result",
          "data": {
            "text/plain": [
              "0       False\n",
              "1        True\n",
              "2        True\n",
              "3        True\n",
              "4        True\n",
              "        ...  \n",
              "1003     True\n",
              "1004     True\n",
              "1005     True\n",
              "1006     True\n",
              "1007     True\n",
              "Length: 1008, dtype: bool"
            ],
            "text/html": [
              "<div>\n",
              "<style scoped>\n",
              "    .dataframe tbody tr th:only-of-type {\n",
              "        vertical-align: middle;\n",
              "    }\n",
              "\n",
              "    .dataframe tbody tr th {\n",
              "        vertical-align: top;\n",
              "    }\n",
              "\n",
              "    .dataframe thead th {\n",
              "        text-align: right;\n",
              "    }\n",
              "</style>\n",
              "<table border=\"1\" class=\"dataframe\">\n",
              "  <thead>\n",
              "    <tr style=\"text-align: right;\">\n",
              "      <th></th>\n",
              "      <th>0</th>\n",
              "    </tr>\n",
              "  </thead>\n",
              "  <tbody>\n",
              "    <tr>\n",
              "      <th>0</th>\n",
              "      <td>False</td>\n",
              "    </tr>\n",
              "    <tr>\n",
              "      <th>1</th>\n",
              "      <td>True</td>\n",
              "    </tr>\n",
              "    <tr>\n",
              "      <th>2</th>\n",
              "      <td>True</td>\n",
              "    </tr>\n",
              "    <tr>\n",
              "      <th>3</th>\n",
              "      <td>True</td>\n",
              "    </tr>\n",
              "    <tr>\n",
              "      <th>4</th>\n",
              "      <td>True</td>\n",
              "    </tr>\n",
              "    <tr>\n",
              "      <th>...</th>\n",
              "      <td>...</td>\n",
              "    </tr>\n",
              "    <tr>\n",
              "      <th>1003</th>\n",
              "      <td>True</td>\n",
              "    </tr>\n",
              "    <tr>\n",
              "      <th>1004</th>\n",
              "      <td>True</td>\n",
              "    </tr>\n",
              "    <tr>\n",
              "      <th>1005</th>\n",
              "      <td>True</td>\n",
              "    </tr>\n",
              "    <tr>\n",
              "      <th>1006</th>\n",
              "      <td>True</td>\n",
              "    </tr>\n",
              "    <tr>\n",
              "      <th>1007</th>\n",
              "      <td>True</td>\n",
              "    </tr>\n",
              "  </tbody>\n",
              "</table>\n",
              "<p>1008 rows × 1 columns</p>\n",
              "</div><br><label><b>dtype:</b> bool</label>"
            ]
          },
          "metadata": {},
          "execution_count": 23
        }
      ]
    },
    {
      "cell_type": "code",
      "source": [
        "brazilCovid.duplicated(subset=['hour'])"
      ],
      "metadata": {
        "colab": {
          "base_uri": "https://localhost:8080/",
          "height": 0
        },
        "id": "31VUggRuSOc1",
        "outputId": "3ea51b14-1adc-4c77-af06-2a7831d39132"
      },
      "execution_count": 24,
      "outputs": [
        {
          "output_type": "execute_result",
          "data": {
            "text/plain": [
              "0       False\n",
              "1        True\n",
              "2        True\n",
              "3        True\n",
              "4        True\n",
              "        ...  \n",
              "1003     True\n",
              "1004     True\n",
              "1005     True\n",
              "1006     True\n",
              "1007     True\n",
              "Length: 1008, dtype: bool"
            ],
            "text/html": [
              "<div>\n",
              "<style scoped>\n",
              "    .dataframe tbody tr th:only-of-type {\n",
              "        vertical-align: middle;\n",
              "    }\n",
              "\n",
              "    .dataframe tbody tr th {\n",
              "        vertical-align: top;\n",
              "    }\n",
              "\n",
              "    .dataframe thead th {\n",
              "        text-align: right;\n",
              "    }\n",
              "</style>\n",
              "<table border=\"1\" class=\"dataframe\">\n",
              "  <thead>\n",
              "    <tr style=\"text-align: right;\">\n",
              "      <th></th>\n",
              "      <th>0</th>\n",
              "    </tr>\n",
              "  </thead>\n",
              "  <tbody>\n",
              "    <tr>\n",
              "      <th>0</th>\n",
              "      <td>False</td>\n",
              "    </tr>\n",
              "    <tr>\n",
              "      <th>1</th>\n",
              "      <td>True</td>\n",
              "    </tr>\n",
              "    <tr>\n",
              "      <th>2</th>\n",
              "      <td>True</td>\n",
              "    </tr>\n",
              "    <tr>\n",
              "      <th>3</th>\n",
              "      <td>True</td>\n",
              "    </tr>\n",
              "    <tr>\n",
              "      <th>4</th>\n",
              "      <td>True</td>\n",
              "    </tr>\n",
              "    <tr>\n",
              "      <th>...</th>\n",
              "      <td>...</td>\n",
              "    </tr>\n",
              "    <tr>\n",
              "      <th>1003</th>\n",
              "      <td>True</td>\n",
              "    </tr>\n",
              "    <tr>\n",
              "      <th>1004</th>\n",
              "      <td>True</td>\n",
              "    </tr>\n",
              "    <tr>\n",
              "      <th>1005</th>\n",
              "      <td>True</td>\n",
              "    </tr>\n",
              "    <tr>\n",
              "      <th>1006</th>\n",
              "      <td>True</td>\n",
              "    </tr>\n",
              "    <tr>\n",
              "      <th>1007</th>\n",
              "      <td>True</td>\n",
              "    </tr>\n",
              "  </tbody>\n",
              "</table>\n",
              "<p>1008 rows × 1 columns</p>\n",
              "</div><br><label><b>dtype:</b> bool</label>"
            ]
          },
          "metadata": {},
          "execution_count": 24
        }
      ]
    },
    {
      "cell_type": "markdown",
      "source": [
        "## Distancia Levenshtein\n",
        "### Codigo de la clase"
      ],
      "metadata": {
        "id": "uM1oXbXBuySh"
      }
    },
    {
      "cell_type": "code",
      "source": [
        "def levenshteinDistance(token1, token2):\n",
        "    distances = np.zeros((len(token1) + 1, len(token2) + 1))\n",
        "\n",
        "    for t1 in range(len(token1) + 1):\n",
        "        distances[t1][0] = t1\n",
        "\n",
        "    for t2 in range(len(token2) + 1):\n",
        "        distances[0][t2] = t2\n",
        "\n",
        "        a = 0\n",
        "        b = 0\n",
        "        c = 0\n",
        "        for t1 in range(1, len(token1) + 1):\n",
        "            for t2 in range(1, len(token2) + 1):\n",
        "                if token1[t1 - 1] == token2[t2 - 1]:\n",
        "                    distances[t1][t2] = distances[t1 - 1][t2 - 1]\n",
        "                else:\n",
        "                    a = distances[t1][t2 - 1]\n",
        "                    b = distances[t1 - 1][t2]\n",
        "                    c = distances[t1 - 1][t2 - 1]\n",
        "\n",
        "                    if a <= b and a <= c:\n",
        "                        distances[t1][t2] = a + 1\n",
        "                    elif b <= a and b <= c:\n",
        "                        distances[t1][t2] = b + 1\n",
        "                    else:\n",
        "                        distances[t1][t2] = c + 1\n",
        "    printDistances(distances, len(token1), len(token2))\n",
        "    return distances[len(token1)][len(token2)]"
      ],
      "metadata": {
        "id": "6YgoaDqJu4Zz"
      },
      "execution_count": 25,
      "outputs": []
    },
    {
      "cell_type": "code",
      "source": [
        "def printDistances(distances, token1Length, token2Length):\n",
        "    for t1 in range(token1Length + 1):\n",
        "        for t2 in range(token2Length + 1):\n",
        "            print(int(distances[t1][t2]), end=\" \")\n",
        "        print()"
      ],
      "metadata": {
        "id": "2tfWdtQjvAbe"
      },
      "execution_count": 26,
      "outputs": []
    },
    {
      "cell_type": "code",
      "source": [
        "s1 =\"Laura McGille rivestein\"\n",
        "s2 =\"Loura MCGile Levenstein\"\n",
        "distancia = levenshteinDistance(s1,s2)\n",
        "print(\"La distancia de Levenstein es \",distancia)"
      ],
      "metadata": {
        "colab": {
          "base_uri": "https://localhost:8080/"
        },
        "id": "smkswn_gvFga",
        "outputId": "e4b02e2b-ab06-492a-fb3c-6aa303e1f6c1"
      },
      "execution_count": 27,
      "outputs": [
        {
          "output_type": "stream",
          "name": "stdout",
          "text": [
            "0 1 2 3 4 5 6 7 8 9 10 11 12 13 14 15 16 17 18 19 20 21 22 23 \n",
            "1 0 1 2 3 4 5 6 7 8 9 10 11 12 13 14 15 16 17 18 19 20 21 22 \n",
            "2 1 1 2 3 3 4 5 6 7 8 9 10 11 12 13 14 15 16 17 18 19 20 21 \n",
            "3 2 2 1 2 3 4 5 6 7 8 9 10 11 12 13 14 15 16 17 18 19 20 21 \n",
            "4 3 3 2 1 2 3 4 5 6 7 8 9 10 11 12 13 14 15 16 17 18 19 20 \n",
            "5 4 4 3 2 1 2 3 4 5 6 7 8 9 10 11 12 13 14 15 16 17 18 19 \n",
            "6 5 5 4 3 2 1 2 3 4 5 6 7 8 9 10 11 12 13 14 15 16 17 18 \n",
            "7 6 6 5 4 3 2 1 2 3 4 5 6 7 8 9 10 11 12 13 14 15 16 17 \n",
            "8 7 7 6 5 4 3 2 2 3 4 5 6 7 8 9 10 11 12 13 14 15 16 17 \n",
            "9 8 8 7 6 5 4 3 3 2 3 4 5 6 7 8 9 10 11 12 13 14 15 16 \n",
            "10 9 9 8 7 6 5 4 4 3 2 3 4 5 6 7 8 9 10 11 12 13 14 15 \n",
            "11 10 10 9 8 7 6 5 5 4 3 2 3 4 5 6 7 8 9 10 11 12 13 14 \n",
            "12 11 11 10 9 8 7 6 6 5 4 3 3 4 5 6 7 8 9 10 11 12 13 14 \n",
            "13 12 12 11 10 9 8 7 7 6 5 4 3 4 5 5 6 7 8 9 10 11 12 13 \n",
            "14 13 13 12 11 10 9 8 8 7 6 5 4 3 4 5 6 7 8 9 10 11 12 13 \n",
            "15 14 14 13 12 11 10 9 9 8 7 6 5 4 4 5 6 7 8 9 10 11 12 13 \n",
            "16 15 15 14 13 12 11 10 10 9 8 7 6 5 5 5 6 7 8 9 10 11 11 12 \n",
            "17 16 16 15 14 13 12 11 11 10 9 8 7 6 6 6 5 6 7 8 9 10 11 12 \n",
            "18 17 17 16 15 14 13 12 12 11 10 9 8 7 7 6 6 5 6 7 8 9 10 11 \n",
            "19 18 18 17 16 15 14 13 13 12 11 10 9 8 8 7 7 6 6 6 7 8 9 10 \n",
            "20 19 19 18 17 16 15 14 14 13 12 11 10 9 9 8 8 7 7 7 6 7 8 9 \n",
            "21 20 20 19 18 17 16 15 15 14 13 12 11 10 10 9 9 8 8 8 7 6 7 8 \n",
            "22 21 21 20 19 18 17 16 16 15 14 13 12 11 11 10 10 9 9 9 8 7 6 7 \n",
            "23 22 22 21 20 19 18 17 17 16 15 14 13 12 12 11 11 10 9 10 9 8 7 6 \n",
            "La distancia de Levenstein es  6.0\n"
          ]
        }
      ]
    },
    {
      "cell_type": "markdown",
      "source": [
        "### Utilizando la librería NLTK"
      ],
      "metadata": {
        "id": "0rFpdVPGv7PG"
      }
    },
    {
      "cell_type": "code",
      "source": [
        "distancia = nltk.edit_distance(s1,s2)\n",
        "print(\"La distancia de Levenstein con NLTK es \",distancia)"
      ],
      "metadata": {
        "colab": {
          "base_uri": "https://localhost:8080/"
        },
        "id": "2-s1CKSdveM-",
        "outputId": "65071558-3540-473c-d94a-19778cbfef1a"
      },
      "execution_count": 28,
      "outputs": [
        {
          "output_type": "stream",
          "name": "stdout",
          "text": [
            "La distancia de Levenstein con NLTK es  6\n"
          ]
        }
      ]
    },
    {
      "cell_type": "markdown",
      "source": [
        "# Terrorismo Global"
      ],
      "metadata": {
        "id": "1vdh_TdtWbYr"
      }
    },
    {
      "cell_type": "markdown",
      "source": [
        "## Lectura y despliegue de información de la base de datos"
      ],
      "metadata": {
        "id": "rWNLplh_XngI"
      }
    },
    {
      "cell_type": "code",
      "source": [
        "terrorismoGlobal = pd.read_csv('global-terrorism.csv',encoding='latin-1')"
      ],
      "metadata": {
        "colab": {
          "base_uri": "https://localhost:8080/"
        },
        "id": "hSuwsvXZWfEm",
        "outputId": "8c82aa96-d19e-45c1-9c5c-e9daae595d54"
      },
      "execution_count": 29,
      "outputs": [
        {
          "output_type": "stream",
          "name": "stderr",
          "text": [
            "<ipython-input-29-de8b786cd3cf>:1: DtypeWarning: Columns (4,6,31,33,61,62,63,76,79,90,92,94,96,114,115,121) have mixed types. Specify dtype option on import or set low_memory=False.\n",
            "  terrorismoGlobal = pd.read_csv('global-terrorism.csv',encoding='latin-1')\n"
          ]
        }
      ]
    },
    {
      "cell_type": "code",
      "source": [
        "terrorismoGlobal.head()"
      ],
      "metadata": {
        "colab": {
          "base_uri": "https://localhost:8080/",
          "height": 273
        },
        "id": "FyjKwKJxXCsv",
        "outputId": "405fe445-3a2e-45f5-a238-ced9e2577480"
      },
      "execution_count": 30,
      "outputs": [
        {
          "output_type": "execute_result",
          "data": {
            "text/plain": [
              "        eventid  iyear  imonth  iday approxdate  extended resolution  country  \\\n",
              "0  197000000001   1970       7     2        NaN         0        NaN       58   \n",
              "1  197000000002   1970       0     0        NaN         0        NaN      130   \n",
              "2  197001000001   1970       1     0        NaN         0        NaN      160   \n",
              "3  197001000002   1970       1     0        NaN         0        NaN       78   \n",
              "4  197001000003   1970       1     0        NaN         0        NaN      101   \n",
              "\n",
              "          country_txt  region  ... addnotes scite1 scite2  scite3  dbsource  \\\n",
              "0  Dominican Republic       2  ...      NaN    NaN    NaN     NaN      PGIS   \n",
              "1              Mexico       1  ...      NaN    NaN    NaN     NaN      PGIS   \n",
              "2         Philippines       5  ...      NaN    NaN    NaN     NaN      PGIS   \n",
              "3              Greece       8  ...      NaN    NaN    NaN     NaN      PGIS   \n",
              "4               Japan       4  ...      NaN    NaN    NaN     NaN      PGIS   \n",
              "\n",
              "   INT_LOG  INT_IDEO INT_MISC INT_ANY  related  \n",
              "0        0         0        0       0      NaN  \n",
              "1        0         1        1       1      NaN  \n",
              "2       -9        -9        1       1      NaN  \n",
              "3       -9        -9        1       1      NaN  \n",
              "4       -9        -9        1       1      NaN  \n",
              "\n",
              "[5 rows x 135 columns]"
            ],
            "text/html": [
              "\n",
              "  <div id=\"df-868085c7-3ea2-44c1-964b-48341b78a4ea\" class=\"colab-df-container\">\n",
              "    <div>\n",
              "<style scoped>\n",
              "    .dataframe tbody tr th:only-of-type {\n",
              "        vertical-align: middle;\n",
              "    }\n",
              "\n",
              "    .dataframe tbody tr th {\n",
              "        vertical-align: top;\n",
              "    }\n",
              "\n",
              "    .dataframe thead th {\n",
              "        text-align: right;\n",
              "    }\n",
              "</style>\n",
              "<table border=\"1\" class=\"dataframe\">\n",
              "  <thead>\n",
              "    <tr style=\"text-align: right;\">\n",
              "      <th></th>\n",
              "      <th>eventid</th>\n",
              "      <th>iyear</th>\n",
              "      <th>imonth</th>\n",
              "      <th>iday</th>\n",
              "      <th>approxdate</th>\n",
              "      <th>extended</th>\n",
              "      <th>resolution</th>\n",
              "      <th>country</th>\n",
              "      <th>country_txt</th>\n",
              "      <th>region</th>\n",
              "      <th>...</th>\n",
              "      <th>addnotes</th>\n",
              "      <th>scite1</th>\n",
              "      <th>scite2</th>\n",
              "      <th>scite3</th>\n",
              "      <th>dbsource</th>\n",
              "      <th>INT_LOG</th>\n",
              "      <th>INT_IDEO</th>\n",
              "      <th>INT_MISC</th>\n",
              "      <th>INT_ANY</th>\n",
              "      <th>related</th>\n",
              "    </tr>\n",
              "  </thead>\n",
              "  <tbody>\n",
              "    <tr>\n",
              "      <th>0</th>\n",
              "      <td>197000000001</td>\n",
              "      <td>1970</td>\n",
              "      <td>7</td>\n",
              "      <td>2</td>\n",
              "      <td>NaN</td>\n",
              "      <td>0</td>\n",
              "      <td>NaN</td>\n",
              "      <td>58</td>\n",
              "      <td>Dominican Republic</td>\n",
              "      <td>2</td>\n",
              "      <td>...</td>\n",
              "      <td>NaN</td>\n",
              "      <td>NaN</td>\n",
              "      <td>NaN</td>\n",
              "      <td>NaN</td>\n",
              "      <td>PGIS</td>\n",
              "      <td>0</td>\n",
              "      <td>0</td>\n",
              "      <td>0</td>\n",
              "      <td>0</td>\n",
              "      <td>NaN</td>\n",
              "    </tr>\n",
              "    <tr>\n",
              "      <th>1</th>\n",
              "      <td>197000000002</td>\n",
              "      <td>1970</td>\n",
              "      <td>0</td>\n",
              "      <td>0</td>\n",
              "      <td>NaN</td>\n",
              "      <td>0</td>\n",
              "      <td>NaN</td>\n",
              "      <td>130</td>\n",
              "      <td>Mexico</td>\n",
              "      <td>1</td>\n",
              "      <td>...</td>\n",
              "      <td>NaN</td>\n",
              "      <td>NaN</td>\n",
              "      <td>NaN</td>\n",
              "      <td>NaN</td>\n",
              "      <td>PGIS</td>\n",
              "      <td>0</td>\n",
              "      <td>1</td>\n",
              "      <td>1</td>\n",
              "      <td>1</td>\n",
              "      <td>NaN</td>\n",
              "    </tr>\n",
              "    <tr>\n",
              "      <th>2</th>\n",
              "      <td>197001000001</td>\n",
              "      <td>1970</td>\n",
              "      <td>1</td>\n",
              "      <td>0</td>\n",
              "      <td>NaN</td>\n",
              "      <td>0</td>\n",
              "      <td>NaN</td>\n",
              "      <td>160</td>\n",
              "      <td>Philippines</td>\n",
              "      <td>5</td>\n",
              "      <td>...</td>\n",
              "      <td>NaN</td>\n",
              "      <td>NaN</td>\n",
              "      <td>NaN</td>\n",
              "      <td>NaN</td>\n",
              "      <td>PGIS</td>\n",
              "      <td>-9</td>\n",
              "      <td>-9</td>\n",
              "      <td>1</td>\n",
              "      <td>1</td>\n",
              "      <td>NaN</td>\n",
              "    </tr>\n",
              "    <tr>\n",
              "      <th>3</th>\n",
              "      <td>197001000002</td>\n",
              "      <td>1970</td>\n",
              "      <td>1</td>\n",
              "      <td>0</td>\n",
              "      <td>NaN</td>\n",
              "      <td>0</td>\n",
              "      <td>NaN</td>\n",
              "      <td>78</td>\n",
              "      <td>Greece</td>\n",
              "      <td>8</td>\n",
              "      <td>...</td>\n",
              "      <td>NaN</td>\n",
              "      <td>NaN</td>\n",
              "      <td>NaN</td>\n",
              "      <td>NaN</td>\n",
              "      <td>PGIS</td>\n",
              "      <td>-9</td>\n",
              "      <td>-9</td>\n",
              "      <td>1</td>\n",
              "      <td>1</td>\n",
              "      <td>NaN</td>\n",
              "    </tr>\n",
              "    <tr>\n",
              "      <th>4</th>\n",
              "      <td>197001000003</td>\n",
              "      <td>1970</td>\n",
              "      <td>1</td>\n",
              "      <td>0</td>\n",
              "      <td>NaN</td>\n",
              "      <td>0</td>\n",
              "      <td>NaN</td>\n",
              "      <td>101</td>\n",
              "      <td>Japan</td>\n",
              "      <td>4</td>\n",
              "      <td>...</td>\n",
              "      <td>NaN</td>\n",
              "      <td>NaN</td>\n",
              "      <td>NaN</td>\n",
              "      <td>NaN</td>\n",
              "      <td>PGIS</td>\n",
              "      <td>-9</td>\n",
              "      <td>-9</td>\n",
              "      <td>1</td>\n",
              "      <td>1</td>\n",
              "      <td>NaN</td>\n",
              "    </tr>\n",
              "  </tbody>\n",
              "</table>\n",
              "<p>5 rows × 135 columns</p>\n",
              "</div>\n",
              "    <div class=\"colab-df-buttons\">\n",
              "\n",
              "  <div class=\"colab-df-container\">\n",
              "    <button class=\"colab-df-convert\" onclick=\"convertToInteractive('df-868085c7-3ea2-44c1-964b-48341b78a4ea')\"\n",
              "            title=\"Convert this dataframe to an interactive table.\"\n",
              "            style=\"display:none;\">\n",
              "\n",
              "  <svg xmlns=\"http://www.w3.org/2000/svg\" height=\"24px\" viewBox=\"0 -960 960 960\">\n",
              "    <path d=\"M120-120v-720h720v720H120Zm60-500h600v-160H180v160Zm220 220h160v-160H400v160Zm0 220h160v-160H400v160ZM180-400h160v-160H180v160Zm440 0h160v-160H620v160ZM180-180h160v-160H180v160Zm440 0h160v-160H620v160Z\"/>\n",
              "  </svg>\n",
              "    </button>\n",
              "\n",
              "  <style>\n",
              "    .colab-df-container {\n",
              "      display:flex;\n",
              "      gap: 12px;\n",
              "    }\n",
              "\n",
              "    .colab-df-convert {\n",
              "      background-color: #E8F0FE;\n",
              "      border: none;\n",
              "      border-radius: 50%;\n",
              "      cursor: pointer;\n",
              "      display: none;\n",
              "      fill: #1967D2;\n",
              "      height: 32px;\n",
              "      padding: 0 0 0 0;\n",
              "      width: 32px;\n",
              "    }\n",
              "\n",
              "    .colab-df-convert:hover {\n",
              "      background-color: #E2EBFA;\n",
              "      box-shadow: 0px 1px 2px rgba(60, 64, 67, 0.3), 0px 1px 3px 1px rgba(60, 64, 67, 0.15);\n",
              "      fill: #174EA6;\n",
              "    }\n",
              "\n",
              "    .colab-df-buttons div {\n",
              "      margin-bottom: 4px;\n",
              "    }\n",
              "\n",
              "    [theme=dark] .colab-df-convert {\n",
              "      background-color: #3B4455;\n",
              "      fill: #D2E3FC;\n",
              "    }\n",
              "\n",
              "    [theme=dark] .colab-df-convert:hover {\n",
              "      background-color: #434B5C;\n",
              "      box-shadow: 0px 1px 3px 1px rgba(0, 0, 0, 0.15);\n",
              "      filter: drop-shadow(0px 1px 2px rgba(0, 0, 0, 0.3));\n",
              "      fill: #FFFFFF;\n",
              "    }\n",
              "  </style>\n",
              "\n",
              "    <script>\n",
              "      const buttonEl =\n",
              "        document.querySelector('#df-868085c7-3ea2-44c1-964b-48341b78a4ea button.colab-df-convert');\n",
              "      buttonEl.style.display =\n",
              "        google.colab.kernel.accessAllowed ? 'block' : 'none';\n",
              "\n",
              "      async function convertToInteractive(key) {\n",
              "        const element = document.querySelector('#df-868085c7-3ea2-44c1-964b-48341b78a4ea');\n",
              "        const dataTable =\n",
              "          await google.colab.kernel.invokeFunction('convertToInteractive',\n",
              "                                                    [key], {});\n",
              "        if (!dataTable) return;\n",
              "\n",
              "        const docLinkHtml = 'Like what you see? Visit the ' +\n",
              "          '<a target=\"_blank\" href=https://colab.research.google.com/notebooks/data_table.ipynb>data table notebook</a>'\n",
              "          + ' to learn more about interactive tables.';\n",
              "        element.innerHTML = '';\n",
              "        dataTable['output_type'] = 'display_data';\n",
              "        await google.colab.output.renderOutput(dataTable, element);\n",
              "        const docLink = document.createElement('div');\n",
              "        docLink.innerHTML = docLinkHtml;\n",
              "        element.appendChild(docLink);\n",
              "      }\n",
              "    </script>\n",
              "  </div>\n",
              "\n",
              "\n",
              "<div id=\"df-f6cdb012-0b8d-4ed3-bb68-69faaef35b70\">\n",
              "  <button class=\"colab-df-quickchart\" onclick=\"quickchart('df-f6cdb012-0b8d-4ed3-bb68-69faaef35b70')\"\n",
              "            title=\"Suggest charts\"\n",
              "            style=\"display:none;\">\n",
              "\n",
              "<svg xmlns=\"http://www.w3.org/2000/svg\" height=\"24px\"viewBox=\"0 0 24 24\"\n",
              "     width=\"24px\">\n",
              "    <g>\n",
              "        <path d=\"M19 3H5c-1.1 0-2 .9-2 2v14c0 1.1.9 2 2 2h14c1.1 0 2-.9 2-2V5c0-1.1-.9-2-2-2zM9 17H7v-7h2v7zm4 0h-2V7h2v10zm4 0h-2v-4h2v4z\"/>\n",
              "    </g>\n",
              "</svg>\n",
              "  </button>\n",
              "\n",
              "<style>\n",
              "  .colab-df-quickchart {\n",
              "      --bg-color: #E8F0FE;\n",
              "      --fill-color: #1967D2;\n",
              "      --hover-bg-color: #E2EBFA;\n",
              "      --hover-fill-color: #174EA6;\n",
              "      --disabled-fill-color: #AAA;\n",
              "      --disabled-bg-color: #DDD;\n",
              "  }\n",
              "\n",
              "  [theme=dark] .colab-df-quickchart {\n",
              "      --bg-color: #3B4455;\n",
              "      --fill-color: #D2E3FC;\n",
              "      --hover-bg-color: #434B5C;\n",
              "      --hover-fill-color: #FFFFFF;\n",
              "      --disabled-bg-color: #3B4455;\n",
              "      --disabled-fill-color: #666;\n",
              "  }\n",
              "\n",
              "  .colab-df-quickchart {\n",
              "    background-color: var(--bg-color);\n",
              "    border: none;\n",
              "    border-radius: 50%;\n",
              "    cursor: pointer;\n",
              "    display: none;\n",
              "    fill: var(--fill-color);\n",
              "    height: 32px;\n",
              "    padding: 0;\n",
              "    width: 32px;\n",
              "  }\n",
              "\n",
              "  .colab-df-quickchart:hover {\n",
              "    background-color: var(--hover-bg-color);\n",
              "    box-shadow: 0 1px 2px rgba(60, 64, 67, 0.3), 0 1px 3px 1px rgba(60, 64, 67, 0.15);\n",
              "    fill: var(--button-hover-fill-color);\n",
              "  }\n",
              "\n",
              "  .colab-df-quickchart-complete:disabled,\n",
              "  .colab-df-quickchart-complete:disabled:hover {\n",
              "    background-color: var(--disabled-bg-color);\n",
              "    fill: var(--disabled-fill-color);\n",
              "    box-shadow: none;\n",
              "  }\n",
              "\n",
              "  .colab-df-spinner {\n",
              "    border: 2px solid var(--fill-color);\n",
              "    border-color: transparent;\n",
              "    border-bottom-color: var(--fill-color);\n",
              "    animation:\n",
              "      spin 1s steps(1) infinite;\n",
              "  }\n",
              "\n",
              "  @keyframes spin {\n",
              "    0% {\n",
              "      border-color: transparent;\n",
              "      border-bottom-color: var(--fill-color);\n",
              "      border-left-color: var(--fill-color);\n",
              "    }\n",
              "    20% {\n",
              "      border-color: transparent;\n",
              "      border-left-color: var(--fill-color);\n",
              "      border-top-color: var(--fill-color);\n",
              "    }\n",
              "    30% {\n",
              "      border-color: transparent;\n",
              "      border-left-color: var(--fill-color);\n",
              "      border-top-color: var(--fill-color);\n",
              "      border-right-color: var(--fill-color);\n",
              "    }\n",
              "    40% {\n",
              "      border-color: transparent;\n",
              "      border-right-color: var(--fill-color);\n",
              "      border-top-color: var(--fill-color);\n",
              "    }\n",
              "    60% {\n",
              "      border-color: transparent;\n",
              "      border-right-color: var(--fill-color);\n",
              "    }\n",
              "    80% {\n",
              "      border-color: transparent;\n",
              "      border-right-color: var(--fill-color);\n",
              "      border-bottom-color: var(--fill-color);\n",
              "    }\n",
              "    90% {\n",
              "      border-color: transparent;\n",
              "      border-bottom-color: var(--fill-color);\n",
              "    }\n",
              "  }\n",
              "</style>\n",
              "\n",
              "  <script>\n",
              "    async function quickchart(key) {\n",
              "      const quickchartButtonEl =\n",
              "        document.querySelector('#' + key + ' button');\n",
              "      quickchartButtonEl.disabled = true;  // To prevent multiple clicks.\n",
              "      quickchartButtonEl.classList.add('colab-df-spinner');\n",
              "      try {\n",
              "        const charts = await google.colab.kernel.invokeFunction(\n",
              "            'suggestCharts', [key], {});\n",
              "      } catch (error) {\n",
              "        console.error('Error during call to suggestCharts:', error);\n",
              "      }\n",
              "      quickchartButtonEl.classList.remove('colab-df-spinner');\n",
              "      quickchartButtonEl.classList.add('colab-df-quickchart-complete');\n",
              "    }\n",
              "    (() => {\n",
              "      let quickchartButtonEl =\n",
              "        document.querySelector('#df-f6cdb012-0b8d-4ed3-bb68-69faaef35b70 button');\n",
              "      quickchartButtonEl.style.display =\n",
              "        google.colab.kernel.accessAllowed ? 'block' : 'none';\n",
              "    })();\n",
              "  </script>\n",
              "</div>\n",
              "\n",
              "    </div>\n",
              "  </div>\n"
            ],
            "application/vnd.google.colaboratory.intrinsic+json": {
              "type": "dataframe",
              "variable_name": "terrorismoGlobal"
            }
          },
          "metadata": {},
          "execution_count": 30
        }
      ]
    },
    {
      "cell_type": "code",
      "source": [
        "terrorismoGlobal.info()"
      ],
      "metadata": {
        "colab": {
          "base_uri": "https://localhost:8080/"
        },
        "id": "hswQKHBkXRkp",
        "outputId": "8b164239-2b39-45d9-a159-4716e90a22ff"
      },
      "execution_count": 31,
      "outputs": [
        {
          "output_type": "stream",
          "name": "stdout",
          "text": [
            "<class 'pandas.core.frame.DataFrame'>\n",
            "RangeIndex: 181691 entries, 0 to 181690\n",
            "Columns: 135 entries, eventid to related\n",
            "dtypes: float64(55), int64(22), object(58)\n",
            "memory usage: 187.1+ MB\n"
          ]
        }
      ]
    },
    {
      "cell_type": "markdown",
      "source": [
        "## Revisión de datos faltantes\n",
        "Se desea saber cuál de las siguientes caracteristicas tiene un porcentaje mayor a 25% de datos faltantes."
      ],
      "metadata": {
        "id": "0JmT7WsTDgPT"
      }
    },
    {
      "cell_type": "code",
      "source": [
        "features = ['INT_ANY','approxdate','INT_MISC','INT_LOG']"
      ],
      "metadata": {
        "id": "7_kcaYMd-BSz"
      },
      "execution_count": 32,
      "outputs": []
    },
    {
      "cell_type": "code",
      "source": [
        "terrorismoGlobal[features].info()"
      ],
      "metadata": {
        "colab": {
          "base_uri": "https://localhost:8080/"
        },
        "id": "mFg8zzQs-z4i",
        "outputId": "db241b21-b62d-4fc6-9ab8-5ffd878412ae"
      },
      "execution_count": 33,
      "outputs": [
        {
          "output_type": "stream",
          "name": "stdout",
          "text": [
            "<class 'pandas.core.frame.DataFrame'>\n",
            "RangeIndex: 181691 entries, 0 to 181690\n",
            "Data columns (total 4 columns):\n",
            " #   Column      Non-Null Count   Dtype \n",
            "---  ------      --------------   ----- \n",
            " 0   INT_ANY     181691 non-null  int64 \n",
            " 1   approxdate  9239 non-null    object\n",
            " 2   INT_MISC    181691 non-null  int64 \n",
            " 3   INT_LOG     181691 non-null  int64 \n",
            "dtypes: int64(3), object(1)\n",
            "memory usage: 5.5+ MB\n"
          ]
        }
      ]
    },
    {
      "cell_type": "markdown",
      "source": [
        "Revisamos la suma de los datos faltantes para las caracteristicas mencionadas"
      ],
      "metadata": {
        "id": "0LmICoV8D2Pe"
      }
    },
    {
      "cell_type": "code",
      "source": [
        "missing_values_count = terrorismoGlobal[features].isnull().sum()\n",
        "missing_values_count"
      ],
      "metadata": {
        "colab": {
          "base_uri": "https://localhost:8080/",
          "height": 0
        },
        "id": "q5nXS7zhBh7A",
        "outputId": "1a6e7ef1-b801-4de5-ec5f-9e4a898624e2"
      },
      "execution_count": 34,
      "outputs": [
        {
          "output_type": "execute_result",
          "data": {
            "text/plain": [
              "INT_ANY            0\n",
              "approxdate    172452\n",
              "INT_MISC           0\n",
              "INT_LOG            0\n",
              "dtype: int64"
            ],
            "text/html": [
              "<div>\n",
              "<style scoped>\n",
              "    .dataframe tbody tr th:only-of-type {\n",
              "        vertical-align: middle;\n",
              "    }\n",
              "\n",
              "    .dataframe tbody tr th {\n",
              "        vertical-align: top;\n",
              "    }\n",
              "\n",
              "    .dataframe thead th {\n",
              "        text-align: right;\n",
              "    }\n",
              "</style>\n",
              "<table border=\"1\" class=\"dataframe\">\n",
              "  <thead>\n",
              "    <tr style=\"text-align: right;\">\n",
              "      <th></th>\n",
              "      <th>0</th>\n",
              "    </tr>\n",
              "  </thead>\n",
              "  <tbody>\n",
              "    <tr>\n",
              "      <th>INT_ANY</th>\n",
              "      <td>0</td>\n",
              "    </tr>\n",
              "    <tr>\n",
              "      <th>approxdate</th>\n",
              "      <td>172452</td>\n",
              "    </tr>\n",
              "    <tr>\n",
              "      <th>INT_MISC</th>\n",
              "      <td>0</td>\n",
              "    </tr>\n",
              "    <tr>\n",
              "      <th>INT_LOG</th>\n",
              "      <td>0</td>\n",
              "    </tr>\n",
              "  </tbody>\n",
              "</table>\n",
              "</div><br><label><b>dtype:</b> int64</label>"
            ]
          },
          "metadata": {},
          "execution_count": 34
        }
      ]
    },
    {
      "cell_type": "markdown",
      "source": [
        "La variable **approxdate** es la unica que presenta una cantidad mayor a 0 con respecto a datos faltantes, entonces vamos a analizar esta variable."
      ],
      "metadata": {
        "id": "aBlGvwO1CxCR"
      }
    },
    {
      "cell_type": "code",
      "source": [
        "value = 'approxdate'\n",
        "missing_values_count = terrorismoGlobal[value].isnull()\n",
        "total_cells = np.product(terrorismoGlobal[value].shape)\n",
        "total_missing = missing_values_count.sum()\n"
      ],
      "metadata": {
        "id": "RKAMjOJWXfmU"
      },
      "execution_count": 35,
      "outputs": []
    },
    {
      "cell_type": "code",
      "source": [
        "percent_missing = (total_missing/total_cells)*100\n",
        "print(percent_missing)"
      ],
      "metadata": {
        "colab": {
          "base_uri": "https://localhost:8080/"
        },
        "id": "7QnmXlPF7TWi",
        "outputId": "62558cb5-560b-4f66-c465-3ac617843f92"
      },
      "execution_count": 36,
      "outputs": [
        {
          "output_type": "stream",
          "name": "stdout",
          "text": [
            "94.91499303762983\n"
          ]
        }
      ]
    },
    {
      "cell_type": "markdown",
      "source": [
        "La variable **aproxdate** presenta un **95%** de datos faltantes, como esto revasa el umbral de 25%, entonces vamos a eliminarla."
      ],
      "metadata": {
        "id": "7KAp2OaQDX8q"
      }
    },
    {
      "cell_type": "markdown",
      "source": [
        "## Gráfica de calor de datos faltantes\n",
        "El color amarillo nos muestra los datos que faltan en esta base de datos"
      ],
      "metadata": {
        "id": "QHCfPTxADxN0"
      }
    },
    {
      "cell_type": "code",
      "source": [
        "plt.figure(figsize=(16,6))\n",
        "sns.heatmap(terrorismoGlobal.isnull(),cmap='viridis',cbar=False)"
      ],
      "metadata": {
        "colab": {
          "base_uri": "https://localhost:8080/",
          "height": 641
        },
        "id": "EcpaHSfNOXD5",
        "outputId": "4f7d8931-f0ba-4e80-acf6-8147a8441f3d"
      },
      "execution_count": 37,
      "outputs": [
        {
          "output_type": "execute_result",
          "data": {
            "text/plain": [
              "<Axes: >"
            ]
          },
          "metadata": {},
          "execution_count": 37
        },
        {
          "output_type": "display_data",
          "data": {
            "text/plain": [
              "<Figure size 1600x600 with 1 Axes>"
            ],
            "image/png": "[encoded data removed]"
          },
          "metadata": {}
        }
      ]
    },
    {
      "cell_type": "markdown",
      "source": [
        "## Gráfica de calor después de eliminar las variables con un porcentaje mayor a 25% de datos faltantes\n",
        "El color amarillo nos muestra los datos que faltan en esta base de datos"
      ],
      "metadata": {
        "id": "WF9VoJa_K67W"
      }
    },
    {
      "cell_type": "code",
      "source": [
        "# Esta funcion calcula el porcentaje de datos vacios en cada columna y regresa\n",
        "# una lista de nombres donde el porcentaje fue mayor que 25%\n",
        "emptyColumns = []\n",
        "def nanPercent(df,percent,debug):\n",
        "  for column in df.columns:\n",
        "    total_cells = np.product(df[column].shape)\n",
        "    missing_values_count = terrorismoGlobal[column].isnull()\n",
        "    total_missing = missing_values_count.sum()\n",
        "    percent_missing = (total_missing/total_cells)*100\n",
        "    if(debug):\n",
        "      print(\"{0:20}{1:20.5f}\".format(column,percent_missing))\n",
        "    if(percent_missing > percent):\n",
        "      emptyColumns.append(column)\n",
        "  return emptyColumns"
      ],
      "metadata": {
        "id": "KTz7bSrExtfS"
      },
      "execution_count": 42,
      "outputs": []
    },
    {
      "cell_type": "code",
      "source": [
        "emptyPercentData = nanPercent(terrorismoGlobal,percent=25,debug=True)"
      ],
      "metadata": {
        "colab": {
          "base_uri": "https://localhost:8080/"
        },
        "id": "ghhFbzaExwI3",
        "outputId": "a74f607d-cad3-4b87-b2aa-ae86f54080a9"
      },
      "execution_count": 43,
      "outputs": [
        {
          "output_type": "stream",
          "name": "stderr",
          "text": [
            "<ipython-input-43-b11138613b5e>:1: DeprecationWarning: `product` is deprecated as of NumPy 1.25.0, and will be removed in NumPy 2.0. Please use `prod` instead.\n",
            "  emptyPercentData = nanPercent(terrorismoGlobal,percent=25,debug=True)\n"
          ]
        },
        {
          "output_type": "stream",
          "name": "stdout",
          "text": [
            "eventid                          0.00000\n",
            "iyear                            0.00000\n",
            "imonth                           0.00000\n",
            "iday                             0.00000\n",
            "approxdate                      94.91499\n",
            "extended                         0.00000\n",
            "resolution                      98.77815\n",
            "country                          0.00000\n",
            "country_txt                      0.00000\n",
            "region                           0.00000\n",
            "region_txt                       0.00000\n",
            "provstate                        0.23171\n",
            "city                             0.23942\n",
            "latitude                         2.50755\n",
            "longitude                        2.50810\n",
            "specificity                      0.00330\n",
            "vicinity                         0.00000\n",
            "location                        69.45638\n",
            "summary                         36.39641\n",
            "crit1                            0.00000\n",
            "crit2                            0.00000\n",
            "crit3                            0.00000\n",
            "doubtterr                        0.00055\n",
            "alternative                     84.03278\n",
            "alternative_txt                 84.03278\n",
            "multiple                         0.00055\n",
            "success                          0.00000\n",
            "suicide                          0.00000\n",
            "attacktype1                      0.00000\n",
            "attacktype1_txt                  0.00000\n",
            "attacktype2                     96.52487\n",
            "attacktype2_txt                 96.52487\n",
            "attacktype3                     99.76444\n",
            "attacktype3_txt                 99.76444\n",
            "targtype1                        0.00000\n",
            "targtype1_txt                    0.00000\n",
            "targsubtype1                     5.70914\n",
            "targsubtype1_txt                 5.70914\n",
            "corp1                           23.41998\n",
            "target1                          0.35115\n",
            "natlty1                          0.85805\n",
            "natlty1_txt                      0.85805\n",
            "targtype2                       93.86651\n",
            "targtype2_txt                   93.86651\n",
            "targsubtype2                    94.11914\n",
            "targsubtype2_txt                94.11914\n",
            "corp2                           94.43176\n",
            "target2                         93.93476\n",
            "natlty2                         94.04043\n",
            "natlty2_txt                     94.04043\n",
            "targtype3                       99.35275\n",
            "targtype3_txt                   99.35275\n",
            "targsubtype3                    99.39623\n",
            "targsubtype3_txt                99.39623\n",
            "corp3                           99.43530\n",
            "target3                         99.35330\n",
            "natlty3                         99.36871\n",
            "natlty3_txt                     99.36871\n",
            "gname                            0.00000\n",
            "gsubname                        96.75823\n",
            "gname2                          98.89208\n",
            "gsubname2                       99.91194\n",
            "gname3                          99.82168\n",
            "gsubname3                       99.98899\n",
            "motive                          72.17198\n",
            "guncertain1                      0.20915\n",
            "guncertain2                     98.92400\n",
            "guncertain3                     99.82388\n",
            "individual                       0.00000\n",
            "nperps                          39.14063\n",
            "nperpcap                        38.24570\n",
            "claimed                         36.39146\n",
            "claimmode                       89.49700\n",
            "claimmode_txt                   89.49700\n",
            "claim2                          98.95977\n",
            "claimmode2                      99.66096\n",
            "claimmode2_txt                  99.66096\n",
            "claim3                          99.82498\n",
            "claimmode3                      99.92680\n",
            "claimmode3_txt                  99.92680\n",
            "compclaim                       97.33669\n",
            "weaptype1                        0.00000\n",
            "weaptype1_txt                    0.00000\n",
            "weapsubtype1                    11.43040\n",
            "weapsubtype1_txt                11.43040\n",
            "weaptype2                       92.77510\n",
            "weaptype2_txt                   92.77510\n",
            "weapsubtype2                    93.64746\n",
            "weapsubtype2_txt                93.64746\n",
            "weaptype3                       98.97463\n",
            "weaptype3_txt                   98.97463\n",
            "weapsubtype3                    99.06820\n",
            "weapsubtype3_txt                99.06820\n",
            "weaptype4                       99.95982\n",
            "weaptype4_txt                   99.95982\n",
            "weapsubtype4                    99.96147\n",
            "weapsubtype4_txt                99.96147\n",
            "weapdetail                      37.24455\n",
            "nkill                            5.67612\n",
            "nkillus                         35.47011\n",
            "nkillter                        36.85268\n",
            "nwound                           8.97733\n",
            "nwoundus                        35.61101\n",
            "nwoundte                        38.05527\n",
            "property                         0.00000\n",
            "propextent                      64.73959\n",
            "propextent_txt                  64.73959\n",
            "propvalue                       78.54104\n",
            "propcomment                     68.10024\n",
            "ishostkid                        0.09797\n",
            "nhostkid                        92.53017\n",
            "nhostkidus                      92.56045\n",
            "nhours                          97.76379\n",
            "ndays                           95.52867\n",
            "divert                          99.82168\n",
            "kidhijcountry                   98.18098\n",
            "ransom                          57.41066\n",
            "ransomamt                       99.25698\n",
            "ransomamtus                     99.69013\n",
            "ransompaid                      99.57400\n",
            "ransompaidus                    99.69619\n",
            "ransomnote                      99.71820\n",
            "hostkidoutcome                  93.95072\n",
            "hostkidoutcome_txt              93.95072\n",
            "nreleased                       94.27600\n",
            "addnotes                        84.43016\n",
            "scite1                          36.43053\n",
            "scite2                          57.65723\n",
            "scite3                          76.04945\n",
            "dbsource                         0.00000\n",
            "INT_LOG                          0.00000\n",
            "INT_IDEO                         0.00000\n",
            "INT_MISC                         0.00000\n",
            "INT_ANY                          0.00000\n",
            "related                         86.21946\n"
          ]
        }
      ]
    },
    {
      "cell_type": "code",
      "source": [
        "print(emptyPercentData)"
      ],
      "metadata": {
        "colab": {
          "base_uri": "https://localhost:8080/"
        },
        "id": "NFoKBS7A22Tj",
        "outputId": "1f4a309a-c224-4664-9a39-e21e305bb343"
      },
      "execution_count": 44,
      "outputs": [
        {
          "output_type": "stream",
          "name": "stdout",
          "text": [
            "['approxdate', 'resolution', 'location', 'summary', 'alternative', 'alternative_txt', 'attacktype2', 'attacktype2_txt', 'attacktype3', 'attacktype3_txt', 'targtype2', 'targtype2_txt', 'targsubtype2', 'targsubtype2_txt', 'corp2', 'target2', 'natlty2', 'natlty2_txt', 'targtype3', 'targtype3_txt', 'targsubtype3', 'targsubtype3_txt', 'corp3', 'target3', 'natlty3', 'natlty3_txt', 'gsubname', 'gname2', 'gsubname2', 'gname3', 'gsubname3', 'motive', 'guncertain2', 'guncertain3', 'nperps', 'nperpcap', 'claimed', 'claimmode', 'claimmode_txt', 'claim2', 'claimmode2', 'claimmode2_txt', 'claim3', 'claimmode3', 'claimmode3_txt', 'compclaim', 'weaptype2', 'weaptype2_txt', 'weapsubtype2', 'weapsubtype2_txt', 'weaptype3', 'weaptype3_txt', 'weapsubtype3', 'weapsubtype3_txt', 'weaptype4', 'weaptype4_txt', 'weapsubtype4', 'weapsubtype4_txt', 'weapdetail', 'nkillus', 'nkillter', 'nwoundus', 'nwoundte', 'propextent', 'propextent_txt', 'propvalue', 'propcomment', 'nhostkid', 'nhostkidus', 'nhours', 'ndays', 'divert', 'kidhijcountry', 'ransom', 'ransomamt', 'ransomamtus', 'ransompaid', 'ransompaidus', 'ransomnote', 'hostkidoutcome', 'hostkidoutcome_txt', 'nreleased', 'addnotes', 'scite1', 'scite2', 'scite3', 'related']\n"
          ]
        }
      ]
    },
    {
      "cell_type": "code",
      "source": [
        "newData = terrorismoGlobal.drop(emptyPercentData,axis=1)"
      ],
      "metadata": {
        "id": "p9qY65Kc22-4"
      },
      "execution_count": 45,
      "outputs": []
    },
    {
      "cell_type": "code",
      "source": [
        "plt.figure(figsize=(16,6))\n",
        "sns.heatmap(newData.isnull(),cmap='viridis',cbar=False)"
      ],
      "metadata": {
        "colab": {
          "base_uri": "https://localhost:8080/",
          "height": 643
        },
        "id": "HhNht9lVYOye",
        "outputId": "040c019b-0ed0-4093-8906-c13bea2e14f8"
      },
      "execution_count": 46,
      "outputs": [
        {
          "output_type": "execute_result",
          "data": {
            "text/plain": [
              "<Axes: >"
            ]
          },
          "metadata": {},
          "execution_count": 46
        },
        {
          "output_type": "display_data",
          "data": {
            "text/plain": [
              "<Figure size 1600x600 with 1 Axes>"
            ],
            "image/png": "[encoded data removed]"
          },
          "metadata": {}
        }
      ]
    },
    {
      "cell_type": "markdown",
      "source": [
        "Vamos a eliminar las columnas que tienen datos faltantes"
      ],
      "metadata": {
        "id": "StfWOZ2OLh1K"
      }
    },
    {
      "cell_type": "code",
      "source": [
        "newDataV2 = terrorismoGlobal.dropna(axis='columns')"
      ],
      "metadata": {
        "id": "zLZ1l2iLYd4A"
      },
      "execution_count": 47,
      "outputs": []
    },
    {
      "cell_type": "code",
      "source": [
        "missing_values_count = newDataV2.isnull().sum()\n",
        "missing_values_count"
      ],
      "metadata": {
        "colab": {
          "base_uri": "https://localhost:8080/",
          "height": 994
        },
        "id": "2FWZY1ztcx1h",
        "outputId": "9b9a6bae-1b86-4204-f079-1c0a1b0a57d7"
      },
      "execution_count": 48,
      "outputs": [
        {
          "output_type": "execute_result",
          "data": {
            "text/plain": [
              "eventid            0\n",
              "iyear              0\n",
              "imonth             0\n",
              "iday               0\n",
              "extended           0\n",
              "country            0\n",
              "country_txt        0\n",
              "region             0\n",
              "region_txt         0\n",
              "vicinity           0\n",
              "crit1              0\n",
              "crit2              0\n",
              "crit3              0\n",
              "success            0\n",
              "suicide            0\n",
              "attacktype1        0\n",
              "attacktype1_txt    0\n",
              "targtype1          0\n",
              "targtype1_txt      0\n",
              "gname              0\n",
              "individual         0\n",
              "weaptype1          0\n",
              "weaptype1_txt      0\n",
              "property           0\n",
              "dbsource           0\n",
              "INT_LOG            0\n",
              "INT_IDEO           0\n",
              "INT_MISC           0\n",
              "INT_ANY            0\n",
              "dtype: int64"
            ],
            "text/html": [
              "<div>\n",
              "<style scoped>\n",
              "    .dataframe tbody tr th:only-of-type {\n",
              "        vertical-align: middle;\n",
              "    }\n",
              "\n",
              "    .dataframe tbody tr th {\n",
              "        vertical-align: top;\n",
              "    }\n",
              "\n",
              "    .dataframe thead th {\n",
              "        text-align: right;\n",
              "    }\n",
              "</style>\n",
              "<table border=\"1\" class=\"dataframe\">\n",
              "  <thead>\n",
              "    <tr style=\"text-align: right;\">\n",
              "      <th></th>\n",
              "      <th>0</th>\n",
              "    </tr>\n",
              "  </thead>\n",
              "  <tbody>\n",
              "    <tr>\n",
              "      <th>eventid</th>\n",
              "      <td>0</td>\n",
              "    </tr>\n",
              "    <tr>\n",
              "      <th>iyear</th>\n",
              "      <td>0</td>\n",
              "    </tr>\n",
              "    <tr>\n",
              "      <th>imonth</th>\n",
              "      <td>0</td>\n",
              "    </tr>\n",
              "    <tr>\n",
              "      <th>iday</th>\n",
              "      <td>0</td>\n",
              "    </tr>\n",
              "    <tr>\n",
              "      <th>extended</th>\n",
              "      <td>0</td>\n",
              "    </tr>\n",
              "    <tr>\n",
              "      <th>country</th>\n",
              "      <td>0</td>\n",
              "    </tr>\n",
              "    <tr>\n",
              "      <th>country_txt</th>\n",
              "      <td>0</td>\n",
              "    </tr>\n",
              "    <tr>\n",
              "      <th>region</th>\n",
              "      <td>0</td>\n",
              "    </tr>\n",
              "    <tr>\n",
              "      <th>region_txt</th>\n",
              "      <td>0</td>\n",
              "    </tr>\n",
              "    <tr>\n",
              "      <th>vicinity</th>\n",
              "      <td>0</td>\n",
              "    </tr>\n",
              "    <tr>\n",
              "      <th>crit1</th>\n",
              "      <td>0</td>\n",
              "    </tr>\n",
              "    <tr>\n",
              "      <th>crit2</th>\n",
              "      <td>0</td>\n",
              "    </tr>\n",
              "    <tr>\n",
              "      <th>crit3</th>\n",
              "      <td>0</td>\n",
              "    </tr>\n",
              "    <tr>\n",
              "      <th>success</th>\n",
              "      <td>0</td>\n",
              "    </tr>\n",
              "    <tr>\n",
              "      <th>suicide</th>\n",
              "      <td>0</td>\n",
              "    </tr>\n",
              "    <tr>\n",
              "      <th>attacktype1</th>\n",
              "      <td>0</td>\n",
              "    </tr>\n",
              "    <tr>\n",
              "      <th>attacktype1_txt</th>\n",
              "      <td>0</td>\n",
              "    </tr>\n",
              "    <tr>\n",
              "      <th>targtype1</th>\n",
              "      <td>0</td>\n",
              "    </tr>\n",
              "    <tr>\n",
              "      <th>targtype1_txt</th>\n",
              "      <td>0</td>\n",
              "    </tr>\n",
              "    <tr>\n",
              "      <th>gname</th>\n",
              "      <td>0</td>\n",
              "    </tr>\n",
              "    <tr>\n",
              "      <th>individual</th>\n",
              "      <td>0</td>\n",
              "    </tr>\n",
              "    <tr>\n",
              "      <th>weaptype1</th>\n",
              "      <td>0</td>\n",
              "    </tr>\n",
              "    <tr>\n",
              "      <th>weaptype1_txt</th>\n",
              "      <td>0</td>\n",
              "    </tr>\n",
              "    <tr>\n",
              "      <th>property</th>\n",
              "      <td>0</td>\n",
              "    </tr>\n",
              "    <tr>\n",
              "      <th>dbsource</th>\n",
              "      <td>0</td>\n",
              "    </tr>\n",
              "    <tr>\n",
              "      <th>INT_LOG</th>\n",
              "      <td>0</td>\n",
              "    </tr>\n",
              "    <tr>\n",
              "      <th>INT_IDEO</th>\n",
              "      <td>0</td>\n",
              "    </tr>\n",
              "    <tr>\n",
              "      <th>INT_MISC</th>\n",
              "      <td>0</td>\n",
              "    </tr>\n",
              "    <tr>\n",
              "      <th>INT_ANY</th>\n",
              "      <td>0</td>\n",
              "    </tr>\n",
              "  </tbody>\n",
              "</table>\n",
              "</div><br><label><b>dtype:</b> int64</label>"
            ]
          },
          "metadata": {},
          "execution_count": 48
        }
      ]
    },
    {
      "cell_type": "code",
      "source": [
        "newDataV2.info()"
      ],
      "metadata": {
        "colab": {
          "base_uri": "https://localhost:8080/"
        },
        "id": "X2SyQcG8eLwH",
        "outputId": "ed2d0c92-0319-45f5-9b91-9fd3c8ed3099"
      },
      "execution_count": 49,
      "outputs": [
        {
          "output_type": "stream",
          "name": "stdout",
          "text": [
            "<class 'pandas.core.frame.DataFrame'>\n",
            "RangeIndex: 181691 entries, 0 to 181690\n",
            "Data columns (total 29 columns):\n",
            " #   Column           Non-Null Count   Dtype \n",
            "---  ------           --------------   ----- \n",
            " 0   eventid          181691 non-null  int64 \n",
            " 1   iyear            181691 non-null  int64 \n",
            " 2   imonth           181691 non-null  int64 \n",
            " 3   iday             181691 non-null  int64 \n",
            " 4   extended         181691 non-null  int64 \n",
            " 5   country          181691 non-null  int64 \n",
            " 6   country_txt      181691 non-null  object\n",
            " 7   region           181691 non-null  int64 \n",
            " 8   region_txt       181691 non-null  object\n",
            " 9   vicinity         181691 non-null  int64 \n",
            " 10  crit1            181691 non-null  int64 \n",
            " 11  crit2            181691 non-null  int64 \n",
            " 12  crit3            181691 non-null  int64 \n",
            " 13  success          181691 non-null  int64 \n",
            " 14  suicide          181691 non-null  int64 \n",
            " 15  attacktype1      181691 non-null  int64 \n",
            " 16  attacktype1_txt  181691 non-null  object\n",
            " 17  targtype1        181691 non-null  int64 \n",
            " 18  targtype1_txt    181691 non-null  object\n",
            " 19  gname            181691 non-null  object\n",
            " 20  individual       181691 non-null  int64 \n",
            " 21  weaptype1        181691 non-null  int64 \n",
            " 22  weaptype1_txt    181691 non-null  object\n",
            " 23  property         181691 non-null  int64 \n",
            " 24  dbsource         181691 non-null  object\n",
            " 25  INT_LOG          181691 non-null  int64 \n",
            " 26  INT_IDEO         181691 non-null  int64 \n",
            " 27  INT_MISC         181691 non-null  int64 \n",
            " 28  INT_ANY          181691 non-null  int64 \n",
            "dtypes: int64(22), object(7)\n",
            "memory usage: 40.2+ MB\n"
          ]
        }
      ]
    },
    {
      "cell_type": "markdown",
      "source": [
        "## Gráfica de calor sin columnas de datos faltantes\n",
        "El color amarillo nos muestra los datos que faltan en esta base de datos"
      ],
      "metadata": {
        "id": "Ez5Up1TBLZtX"
      }
    },
    {
      "cell_type": "code",
      "source": [
        "plt.figure(figsize=(16,6))\n",
        "sns.heatmap(newDataV2.isnull(),cmap='viridis',cbar=False)"
      ],
      "metadata": {
        "colab": {
          "base_uri": "https://localhost:8080/",
          "height": 624
        },
        "id": "fGaR5LKzgZa0",
        "outputId": "1c76d6e8-5862-4c6f-aa28-5627fe7c2475"
      },
      "execution_count": 50,
      "outputs": [
        {
          "output_type": "execute_result",
          "data": {
            "text/plain": [
              "<Axes: >"
            ]
          },
          "metadata": {},
          "execution_count": 50
        },
        {
          "output_type": "display_data",
          "data": {
            "text/plain": [
              "<Figure size 1600x600 with 1 Axes>"
            ],
            "image/png": "[encoded data removed]"
          },
          "metadata": {}
        }
      ]
    },
    {
      "cell_type": "code",
      "source": [
        "len(newDataV2['extended'])"
      ],
      "metadata": {
        "colab": {
          "base_uri": "https://localhost:8080/"
        },
        "id": "0_rTuNu3ge5i",
        "outputId": "a194613b-4ee6-4190-ec47-fda96971d7f8"
      },
      "execution_count": 51,
      "outputs": [
        {
          "output_type": "execute_result",
          "data": {
            "text/plain": [
              "181691"
            ]
          },
          "metadata": {},
          "execution_count": 51
        }
      ]
    },
    {
      "cell_type": "code",
      "source": [
        "terrorismoGlobal.dropna()"
      ],
      "metadata": {
        "colab": {
          "base_uri": "https://localhost:8080/",
          "height": 99
        },
        "id": "Rd1KeGmzyRVh",
        "outputId": "38c399ea-adff-41b9-ca5b-7179221b69cc"
      },
      "execution_count": 52,
      "outputs": [
        {
          "output_type": "execute_result",
          "data": {
            "text/plain": [
              "Empty DataFrame\n",
              "Columns: [eventid, iyear, imonth, iday, approxdate, extended, resolution, country, country_txt, region, region_txt, provstate, city, latitude, longitude, specificity, vicinity, location, summary, crit1, crit2, crit3, doubtterr, alternative, alternative_txt, multiple, success, suicide, attacktype1, attacktype1_txt, attacktype2, attacktype2_txt, attacktype3, attacktype3_txt, targtype1, targtype1_txt, targsubtype1, targsubtype1_txt, corp1, target1, natlty1, natlty1_txt, targtype2, targtype2_txt, targsubtype2, targsubtype2_txt, corp2, target2, natlty2, natlty2_txt, targtype3, targtype3_txt, targsubtype3, targsubtype3_txt, corp3, target3, natlty3, natlty3_txt, gname, gsubname, gname2, gsubname2, gname3, gsubname3, motive, guncertain1, guncertain2, guncertain3, individual, nperps, nperpcap, claimed, claimmode, claimmode_txt, claim2, claimmode2, claimmode2_txt, claim3, claimmode3, claimmode3_txt, compclaim, weaptype1, weaptype1_txt, weapsubtype1, weapsubtype1_txt, weaptype2, weaptype2_txt, weapsubtype2, weapsubtype2_txt, weaptype3, weaptype3_txt, weapsubtype3, weapsubtype3_txt, weaptype4, weaptype4_txt, weapsubtype4, weapsubtype4_txt, weapdetail, nkill, nkillus, ...]\n",
              "Index: []\n",
              "\n",
              "[0 rows x 135 columns]"
            ],
            "text/html": [
              "\n",
              "  <div id=\"df-641bc264-5a8e-4684-89f3-5fce2f95dbfa\" class=\"colab-df-container\">\n",
              "    <div>\n",
              "<style scoped>\n",
              "    .dataframe tbody tr th:only-of-type {\n",
              "        vertical-align: middle;\n",
              "    }\n",
              "\n",
              "    .dataframe tbody tr th {\n",
              "        vertical-align: top;\n",
              "    }\n",
              "\n",
              "    .dataframe thead th {\n",
              "        text-align: right;\n",
              "    }\n",
              "</style>\n",
              "<table border=\"1\" class=\"dataframe\">\n",
              "  <thead>\n",
              "    <tr style=\"text-align: right;\">\n",
              "      <th></th>\n",
              "      <th>eventid</th>\n",
              "      <th>iyear</th>\n",
              "      <th>imonth</th>\n",
              "      <th>iday</th>\n",
              "      <th>approxdate</th>\n",
              "      <th>extended</th>\n",
              "      <th>resolution</th>\n",
              "      <th>country</th>\n",
              "      <th>country_txt</th>\n",
              "      <th>region</th>\n",
              "      <th>...</th>\n",
              "      <th>addnotes</th>\n",
              "      <th>scite1</th>\n",
              "      <th>scite2</th>\n",
              "      <th>scite3</th>\n",
              "      <th>dbsource</th>\n",
              "      <th>INT_LOG</th>\n",
              "      <th>INT_IDEO</th>\n",
              "      <th>INT_MISC</th>\n",
              "      <th>INT_ANY</th>\n",
              "      <th>related</th>\n",
              "    </tr>\n",
              "  </thead>\n",
              "  <tbody>\n",
              "  </tbody>\n",
              "</table>\n",
              "<p>0 rows × 135 columns</p>\n",
              "</div>\n",
              "    <div class=\"colab-df-buttons\">\n",
              "\n",
              "  <div class=\"colab-df-container\">\n",
              "    <button class=\"colab-df-convert\" onclick=\"convertToInteractive('df-641bc264-5a8e-4684-89f3-5fce2f95dbfa')\"\n",
              "            title=\"Convert this dataframe to an interactive table.\"\n",
              "            style=\"display:none;\">\n",
              "\n",
              "  <svg xmlns=\"http://www.w3.org/2000/svg\" height=\"24px\" viewBox=\"0 -960 960 960\">\n",
              "    <path d=\"M120-120v-720h720v720H120Zm60-500h600v-160H180v160Zm220 220h160v-160H400v160Zm0 220h160v-160H400v160ZM180-400h160v-160H180v160Zm440 0h160v-160H620v160ZM180-180h160v-160H180v160Zm440 0h160v-160H620v160Z\"/>\n",
              "  </svg>\n",
              "    </button>\n",
              "\n",
              "  <style>\n",
              "    .colab-df-container {\n",
              "      display:flex;\n",
              "      gap: 12px;\n",
              "    }\n",
              "\n",
              "    .colab-df-convert {\n",
              "      background-color: #E8F0FE;\n",
              "      border: none;\n",
              "      border-radius: 50%;\n",
              "      cursor: pointer;\n",
              "      display: none;\n",
              "      fill: #1967D2;\n",
              "      height: 32px;\n",
              "      padding: 0 0 0 0;\n",
              "      width: 32px;\n",
              "    }\n",
              "\n",
              "    .colab-df-convert:hover {\n",
              "      background-color: #E2EBFA;\n",
              "      box-shadow: 0px 1px 2px rgba(60, 64, 67, 0.3), 0px 1px 3px 1px rgba(60, 64, 67, 0.15);\n",
              "      fill: #174EA6;\n",
              "    }\n",
              "\n",
              "    .colab-df-buttons div {\n",
              "      margin-bottom: 4px;\n",
              "    }\n",
              "\n",
              "    [theme=dark] .colab-df-convert {\n",
              "      background-color: #3B4455;\n",
              "      fill: #D2E3FC;\n",
              "    }\n",
              "\n",
              "    [theme=dark] .colab-df-convert:hover {\n",
              "      background-color: #434B5C;\n",
              "      box-shadow: 0px 1px 3px 1px rgba(0, 0, 0, 0.15);\n",
              "      filter: drop-shadow(0px 1px 2px rgba(0, 0, 0, 0.3));\n",
              "      fill: #FFFFFF;\n",
              "    }\n",
              "  </style>\n",
              "\n",
              "    <script>\n",
              "      const buttonEl =\n",
              "        document.querySelector('#df-641bc264-5a8e-4684-89f3-5fce2f95dbfa button.colab-df-convert');\n",
              "      buttonEl.style.display =\n",
              "        google.colab.kernel.accessAllowed ? 'block' : 'none';\n",
              "\n",
              "      async function convertToInteractive(key) {\n",
              "        const element = document.querySelector('#df-641bc264-5a8e-4684-89f3-5fce2f95dbfa');\n",
              "        const dataTable =\n",
              "          await google.colab.kernel.invokeFunction('convertToInteractive',\n",
              "                                                    [key], {});\n",
              "        if (!dataTable) return;\n",
              "\n",
              "        const docLinkHtml = 'Like what you see? Visit the ' +\n",
              "          '<a target=\"_blank\" href=https://colab.research.google.com/notebooks/data_table.ipynb>data table notebook</a>'\n",
              "          + ' to learn more about interactive tables.';\n",
              "        element.innerHTML = '';\n",
              "        dataTable['output_type'] = 'display_data';\n",
              "        await google.colab.output.renderOutput(dataTable, element);\n",
              "        const docLink = document.createElement('div');\n",
              "        docLink.innerHTML = docLinkHtml;\n",
              "        element.appendChild(docLink);\n",
              "      }\n",
              "    </script>\n",
              "  </div>\n",
              "\n",
              "\n",
              "    </div>\n",
              "  </div>\n"
            ],
            "application/vnd.google.colaboratory.intrinsic+json": {
              "type": "dataframe"
            }
          },
          "metadata": {},
          "execution_count": 52
        }
      ]
    }
  ]
}