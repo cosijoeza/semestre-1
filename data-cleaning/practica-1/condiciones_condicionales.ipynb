{
  "cells": [
    {
      "cell_type": "markdown",
      "metadata": {
        "id": "FWtcKijGSIoW"
      },
      "source": [
        "# Ejercicio 1\n",
        "Trabajas en una oficina de admisiones de la universidad. Al inspeccionar un conjunto de datos de solicitantes universitarios, observa que algunos estudiantes han representado sus calificaciones con letras (\"A\", \"B\", \"C\", \"D\", \"F\"), mientras que otros han representado sus calificaciones con un número entre 0 y 100.\n",
        "\n",
        "Se da cuenta de que, por coherencia, todas las calificaciones deben tener el mismo formato y decide formatearlas todas como letras. Para la conversión, decides asignar:\n",
        "\n",
        "\"A\" - cualquier grado `90-100`, inclusive\n",
        "\n",
        "\"B\" - cualquier grado `80-89`, inclusive\n",
        "\n",
        "\"C\" - cualquier grado `70-79`, inclusive\n",
        "\n",
        "\"D\" - cualquier grado `60-69`, inclusive\n",
        "\n",
        "\"F\" - cualquier grado `<60`\n",
        "\n",
        "Escribe una función get_calif() que tome como entrada:\n",
        "\n",
        "`puntuacion` - un número entero 0-100 correspondiente a una calificación numérica Debería devolver una cadena de Python con la calificación de letra que corresponde. Por ejemplo,\n",
        "\n",
        "Una puntuación de 85 corresponde a una calificación B. En otras palabras, get_grade(85) debería devolver \"B\". Una puntuación de 49 corresponde a una calificación F. En otras palabras, get_grade(49) debería devolver \"F\".\n"
      ]
    },
    {
      "cell_type": "markdown",
      "metadata": {
        "id": "WKeAKwSmU2qT"
      },
      "source": []
    },
    {
      "cell_type": "code",
      "execution_count": 1,
      "metadata": {
        "id": "u0x-yDMOR9Yt"
      },
      "outputs": [],
      "source": [
        "def get_calif(puntuacion):\n",
        "  if puntuacion >= 90 and puntuacion <= 100:\n",
        "    return 'A'\n",
        "  elif puntuacion >= 80 and puntuacion <= 89:\n",
        "    return 'B'\n",
        "  elif puntuacion >= 70 and puntuacion <= 79:\n",
        "    return 'C'\n",
        "  elif puntuacion >= 60 and puntuacion <= 69:\n",
        "    return 'D'\n",
        "  elif puntuacion >= 0 and puntuacion <= 59:\n",
        "    return 'F'\n",
        "  return 'No Aplica'"
      ]
    },
    {
      "cell_type": "code",
      "execution_count": 2,
      "metadata": {
        "colab": {
          "base_uri": "https://localhost:8080/"
        },
        "id": "M9J3830ZSqMQ",
        "outputId": "948a1302-9fab-4009-cc1d-6662b801be5c"
      },
      "outputs": [
        {
          "name": "stdout",
          "output_type": "stream",
          "text": [
            "B\n"
          ]
        }
      ],
      "source": [
        "print(get_calif(85))"
      ]
    },
    {
      "cell_type": "code",
      "execution_count": 3,
      "metadata": {
        "colab": {
          "base_uri": "https://localhost:8080/"
        },
        "id": "nZPWIfmJS4n5",
        "outputId": "fd43528a-f82e-40c9-f979-d604438775ca"
      },
      "outputs": [
        {
          "name": "stdout",
          "output_type": "stream",
          "text": [
            "F\n"
          ]
        }
      ],
      "source": [
        "print(get_calif(49))"
      ]
    },
    {
      "cell_type": "code",
      "execution_count": 4,
      "metadata": {
        "colab": {
          "base_uri": "https://localhost:8080/"
        },
        "id": "lJX-YJ7vUN5T",
        "outputId": "20816fab-f7f5-4320-ca43-70d537310587"
      },
      "outputs": [
        {
          "name": "stdout",
          "output_type": "stream",
          "text": [
            "C\n"
          ]
        }
      ],
      "source": [
        "print(get_calif(76))"
      ]
    },
    {
      "cell_type": "code",
      "execution_count": 5,
      "metadata": {
        "colab": {
          "base_uri": "https://localhost:8080/"
        },
        "id": "JWbrCO8WUS5n",
        "outputId": "148bf159-a5fb-47e0-8ccb-023cbf1fa9b7"
      },
      "outputs": [
        {
          "name": "stdout",
          "output_type": "stream",
          "text": [
            "A\n"
          ]
        }
      ],
      "source": [
        "print(get_calif(99))"
      ]
    },
    {
      "cell_type": "code",
      "execution_count": 6,
      "metadata": {
        "colab": {
          "base_uri": "https://localhost:8080/"
        },
        "id": "X9HNlLyUUhDV",
        "outputId": "755f579d-4617-4e15-87a3-0ef86085519a"
      },
      "outputs": [
        {
          "name": "stdout",
          "output_type": "stream",
          "text": [
            "D\n"
          ]
        }
      ],
      "source": [
        "print(get_calif(60))"
      ]
    },
    {
      "cell_type": "code",
      "execution_count": 7,
      "metadata": {
        "colab": {
          "base_uri": "https://localhost:8080/"
        },
        "id": "IS6QTb4QVyjI",
        "outputId": "ee825c34-4d32-42aa-d9e2-f16ba9e171d4"
      },
      "outputs": [
        {
          "name": "stdout",
          "output_type": "stream",
          "text": [
            "No Aplica\n",
            "No Aplica\n"
          ]
        }
      ],
      "source": [
        "print(get_calif(101))\n",
        "print(get_calif(-1))"
      ]
    }
  ],
  "metadata": {
    "colab": {
      "provenance": []
    },
    "kernelspec": {
      "display_name": "Python 3",
      "name": "python3"
    },
    "language_info": {
      "codemirror_mode": {
        "name": "ipython",
        "version": 3
      },
      "file_extension": ".py",
      "mimetype": "text/x-python",
      "name": "python",
      "nbconvert_exporter": "python",
      "pygments_lexer": "ipython3",
      "version": "3.8.10"
    }
  },
  "nbformat": 4,
  "nbformat_minor": 0
}
