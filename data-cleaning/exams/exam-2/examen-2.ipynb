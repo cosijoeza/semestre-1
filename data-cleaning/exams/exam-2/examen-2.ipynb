{
 "cells": [
  {
   "cell_type": "markdown",
   "metadata": {},
   "source": [
    "# Examen 2 - Limpieza de Datos"
   ]
  },
  {
   "cell_type": "markdown",
   "metadata": {},
   "source": [
    "## 1.- En un hospital se están haciendo pruebas de dos tratamientos experimentales a pacientes."
   ]
  },
  {
   "cell_type": "code",
   "execution_count": 20,
   "metadata": {},
   "outputs": [
    {
     "data": {
      "text/html": [
       "<div>\n",
       "<style scoped>\n",
       "    .dataframe tbody tr th:only-of-type {\n",
       "        vertical-align: middle;\n",
       "    }\n",
       "\n",
       "    .dataframe tbody tr th {\n",
       "        vertical-align: top;\n",
       "    }\n",
       "\n",
       "    .dataframe thead th {\n",
       "        text-align: right;\n",
       "    }\n",
       "</style>\n",
       "<table border=\"1\" class=\"dataframe\">\n",
       "  <thead>\n",
       "    <tr style=\"text-align: right;\">\n",
       "      <th></th>\n",
       "      <th>paciente</th>\n",
       "      <th>tratamiento_a</th>\n",
       "      <th>tratamiento_b</th>\n",
       "    </tr>\n",
       "  </thead>\n",
       "  <tbody>\n",
       "    <tr>\n",
       "      <th>0</th>\n",
       "      <td>Fernando</td>\n",
       "      <td>25</td>\n",
       "      <td>0</td>\n",
       "    </tr>\n",
       "    <tr>\n",
       "      <th>1</th>\n",
       "      <td>Alfonso</td>\n",
       "      <td>5</td>\n",
       "      <td>17</td>\n",
       "    </tr>\n",
       "    <tr>\n",
       "      <th>2</th>\n",
       "      <td>Santiago</td>\n",
       "      <td>6</td>\n",
       "      <td>15</td>\n",
       "    </tr>\n",
       "    <tr>\n",
       "      <th>3</th>\n",
       "      <td>Lili</td>\n",
       "      <td>89</td>\n",
       "      <td>7</td>\n",
       "    </tr>\n",
       "    <tr>\n",
       "      <th>4</th>\n",
       "      <td>Rosalia</td>\n",
       "      <td>10</td>\n",
       "      <td>9</td>\n",
       "    </tr>\n",
       "  </tbody>\n",
       "</table>\n",
       "</div>"
      ],
      "text/plain": [
       "   paciente  tratamiento_a  tratamiento_b\n",
       "0  Fernando             25              0\n",
       "1   Alfonso              5             17\n",
       "2  Santiago              6             15\n",
       "3      Lili             89              7\n",
       "4   Rosalia             10              9"
      ]
     },
     "execution_count": 20,
     "metadata": {},
     "output_type": "execute_result"
    }
   ],
   "source": [
    "import numpy as np\n",
    "import pandas as pd\n",
    "nombre = ['Fernando', 'Alfonso', 'Santiago', 'Lili', 'Rosalia']\n",
    "tratamiento_a = [25, 5, 6, 89, 10]\n",
    "tratamiento_b = [0, 17, 15, 7, 9]\n",
    "\n",
    "data_dict_1 = {\n",
    "    'paciente':nombre,\n",
    "    'tratamiento_a':tratamiento_a,\n",
    "    'tratamiento_b': tratamiento_b\n",
    "}\n",
    "\n",
    "df_1 = pd.DataFrame.from_dict(data_dict_1)\n",
    "\n",
    "df_1"
   ]
  },
  {
   "cell_type": "markdown",
   "metadata": {},
   "source": [
    "## 2.- Cada tratamiento incluye dos dosis."
   ]
  },
  {
   "cell_type": "code",
   "execution_count": 21,
   "metadata": {},
   "outputs": [
    {
     "data": {
      "text/html": [
       "<div>\n",
       "<style scoped>\n",
       "    .dataframe tbody tr th:only-of-type {\n",
       "        vertical-align: middle;\n",
       "    }\n",
       "\n",
       "    .dataframe tbody tr th {\n",
       "        vertical-align: top;\n",
       "    }\n",
       "\n",
       "    .dataframe thead th {\n",
       "        text-align: right;\n",
       "    }\n",
       "</style>\n",
       "<table border=\"1\" class=\"dataframe\">\n",
       "  <thead>\n",
       "    <tr style=\"text-align: right;\">\n",
       "      <th></th>\n",
       "      <th>tratamiento</th>\n",
       "      <th>dosis_1</th>\n",
       "      <th>dosis_2</th>\n",
       "    </tr>\n",
       "  </thead>\n",
       "  <tbody>\n",
       "    <tr>\n",
       "      <th>0</th>\n",
       "      <td>tratamiento_a</td>\n",
       "      <td>5</td>\n",
       "      <td>0</td>\n",
       "    </tr>\n",
       "    <tr>\n",
       "      <th>1</th>\n",
       "      <td>tratamiento_b</td>\n",
       "      <td>9</td>\n",
       "      <td>7</td>\n",
       "    </tr>\n",
       "  </tbody>\n",
       "</table>\n",
       "</div>"
      ],
      "text/plain": [
       "     tratamiento  dosis_1  dosis_2\n",
       "0  tratamiento_a        5        0\n",
       "1  tratamiento_b        9        7"
      ]
     },
     "execution_count": 21,
     "metadata": {},
     "output_type": "execute_result"
    }
   ],
   "source": [
    "nombre = ['tratamiento_a', 'tratamiento_b']\n",
    "dosis_1 = [5, 9]\n",
    "dosis_2 = [0, 7]\n",
    "\n",
    "data_dict_2 = {\n",
    "    'tratamiento':nombre,\n",
    "    'dosis_1':dosis_1,\n",
    "    'dosis_2': dosis_2\n",
    "}\n",
    "\n",
    "df_2 = pd.DataFrame.from_dict(data_dict_2)\n",
    "\n",
    "df_2"
   ]
  },
  {
   "cell_type": "markdown",
   "metadata": {},
   "source": [
    "## 3.- Base de datos donde están registradas las dosis que recibió cada paciente."
   ]
  },
  {
   "cell_type": "code",
   "execution_count": 22,
   "metadata": {},
   "outputs": [
    {
     "data": {
      "text/html": [
       "<div>\n",
       "<style scoped>\n",
       "    .dataframe tbody tr th:only-of-type {\n",
       "        vertical-align: middle;\n",
       "    }\n",
       "\n",
       "    .dataframe tbody tr th {\n",
       "        vertical-align: top;\n",
       "    }\n",
       "\n",
       "    .dataframe thead th {\n",
       "        text-align: right;\n",
       "    }\n",
       "</style>\n",
       "<table border=\"1\" class=\"dataframe\">\n",
       "  <thead>\n",
       "    <tr style=\"text-align: right;\">\n",
       "      <th></th>\n",
       "      <th>paciente</th>\n",
       "      <th>tratamiento</th>\n",
       "      <th>resultado</th>\n",
       "    </tr>\n",
       "  </thead>\n",
       "  <tbody>\n",
       "    <tr>\n",
       "      <th>0</th>\n",
       "      <td>Fernando</td>\n",
       "      <td>tratamiento_a</td>\n",
       "      <td>25</td>\n",
       "    </tr>\n",
       "    <tr>\n",
       "      <th>1</th>\n",
       "      <td>Alfonso</td>\n",
       "      <td>tratamiento_a</td>\n",
       "      <td>5</td>\n",
       "    </tr>\n",
       "    <tr>\n",
       "      <th>2</th>\n",
       "      <td>Santiago</td>\n",
       "      <td>tratamiento_a</td>\n",
       "      <td>6</td>\n",
       "    </tr>\n",
       "    <tr>\n",
       "      <th>3</th>\n",
       "      <td>Lili</td>\n",
       "      <td>tratamiento_a</td>\n",
       "      <td>89</td>\n",
       "    </tr>\n",
       "    <tr>\n",
       "      <th>4</th>\n",
       "      <td>Rosalia</td>\n",
       "      <td>tratamiento_a</td>\n",
       "      <td>10</td>\n",
       "    </tr>\n",
       "    <tr>\n",
       "      <th>5</th>\n",
       "      <td>Fernando</td>\n",
       "      <td>tratamiento_b</td>\n",
       "      <td>0</td>\n",
       "    </tr>\n",
       "    <tr>\n",
       "      <th>6</th>\n",
       "      <td>Alfonso</td>\n",
       "      <td>tratamiento_b</td>\n",
       "      <td>17</td>\n",
       "    </tr>\n",
       "    <tr>\n",
       "      <th>7</th>\n",
       "      <td>Santiago</td>\n",
       "      <td>tratamiento_b</td>\n",
       "      <td>15</td>\n",
       "    </tr>\n",
       "    <tr>\n",
       "      <th>8</th>\n",
       "      <td>Lili</td>\n",
       "      <td>tratamiento_b</td>\n",
       "      <td>7</td>\n",
       "    </tr>\n",
       "    <tr>\n",
       "      <th>9</th>\n",
       "      <td>Rosalia</td>\n",
       "      <td>tratamiento_b</td>\n",
       "      <td>9</td>\n",
       "    </tr>\n",
       "  </tbody>\n",
       "</table>\n",
       "</div>"
      ],
      "text/plain": [
       "   paciente    tratamiento  resultado\n",
       "0  Fernando  tratamiento_a         25\n",
       "1   Alfonso  tratamiento_a          5\n",
       "2  Santiago  tratamiento_a          6\n",
       "3      Lili  tratamiento_a         89\n",
       "4   Rosalia  tratamiento_a         10\n",
       "5  Fernando  tratamiento_b          0\n",
       "6   Alfonso  tratamiento_b         17\n",
       "7  Santiago  tratamiento_b         15\n",
       "8      Lili  tratamiento_b          7\n",
       "9   Rosalia  tratamiento_b          9"
      ]
     },
     "execution_count": 22,
     "metadata": {},
     "output_type": "execute_result"
    }
   ],
   "source": [
    "df_pacientes= pd.melt(df_1, id_vars=['paciente'], value_vars=['tratamiento_a','tratamiento_b'])\n",
    "df_pacientes.rename(columns={'variable':'tratamiento', 'value':'resultado'}, inplace=True)\n",
    "df_pacientes"
   ]
  },
  {
   "cell_type": "markdown",
   "metadata": {},
   "source": [
    "## 4.- Comparación entre los tratamientos y la dosis recibida por paciente."
   ]
  },
  {
   "cell_type": "code",
   "execution_count": 61,
   "metadata": {},
   "outputs": [
    {
     "data": {
      "text/html": [
       "<div>\n",
       "<style scoped>\n",
       "    .dataframe tbody tr th:only-of-type {\n",
       "        vertical-align: middle;\n",
       "    }\n",
       "\n",
       "    .dataframe tbody tr th {\n",
       "        vertical-align: top;\n",
       "    }\n",
       "\n",
       "    .dataframe thead th {\n",
       "        text-align: right;\n",
       "    }\n",
       "</style>\n",
       "<table border=\"1\" class=\"dataframe\">\n",
       "  <thead>\n",
       "    <tr style=\"text-align: right;\">\n",
       "      <th></th>\n",
       "      <th>paciente</th>\n",
       "      <th>tratamiento</th>\n",
       "      <th>resultado</th>\n",
       "      <th>dosis_1</th>\n",
       "      <th>dosis_2</th>\n",
       "    </tr>\n",
       "  </thead>\n",
       "  <tbody>\n",
       "    <tr>\n",
       "      <th>0</th>\n",
       "      <td>Fernando</td>\n",
       "      <td>tratamiento_a</td>\n",
       "      <td>25</td>\n",
       "      <td>5</td>\n",
       "      <td>0</td>\n",
       "    </tr>\n",
       "    <tr>\n",
       "      <th>1</th>\n",
       "      <td>Alfonso</td>\n",
       "      <td>tratamiento_a</td>\n",
       "      <td>5</td>\n",
       "      <td>5</td>\n",
       "      <td>0</td>\n",
       "    </tr>\n",
       "    <tr>\n",
       "      <th>2</th>\n",
       "      <td>Santiago</td>\n",
       "      <td>tratamiento_a</td>\n",
       "      <td>6</td>\n",
       "      <td>5</td>\n",
       "      <td>0</td>\n",
       "    </tr>\n",
       "    <tr>\n",
       "      <th>3</th>\n",
       "      <td>Lili</td>\n",
       "      <td>tratamiento_a</td>\n",
       "      <td>89</td>\n",
       "      <td>5</td>\n",
       "      <td>0</td>\n",
       "    </tr>\n",
       "    <tr>\n",
       "      <th>4</th>\n",
       "      <td>Rosalia</td>\n",
       "      <td>tratamiento_a</td>\n",
       "      <td>10</td>\n",
       "      <td>5</td>\n",
       "      <td>0</td>\n",
       "    </tr>\n",
       "    <tr>\n",
       "      <th>5</th>\n",
       "      <td>Fernando</td>\n",
       "      <td>tratamiento_b</td>\n",
       "      <td>0</td>\n",
       "      <td>9</td>\n",
       "      <td>7</td>\n",
       "    </tr>\n",
       "    <tr>\n",
       "      <th>6</th>\n",
       "      <td>Alfonso</td>\n",
       "      <td>tratamiento_b</td>\n",
       "      <td>17</td>\n",
       "      <td>9</td>\n",
       "      <td>7</td>\n",
       "    </tr>\n",
       "    <tr>\n",
       "      <th>7</th>\n",
       "      <td>Santiago</td>\n",
       "      <td>tratamiento_b</td>\n",
       "      <td>15</td>\n",
       "      <td>9</td>\n",
       "      <td>7</td>\n",
       "    </tr>\n",
       "    <tr>\n",
       "      <th>8</th>\n",
       "      <td>Lili</td>\n",
       "      <td>tratamiento_b</td>\n",
       "      <td>7</td>\n",
       "      <td>9</td>\n",
       "      <td>7</td>\n",
       "    </tr>\n",
       "    <tr>\n",
       "      <th>9</th>\n",
       "      <td>Rosalia</td>\n",
       "      <td>tratamiento_b</td>\n",
       "      <td>9</td>\n",
       "      <td>9</td>\n",
       "      <td>7</td>\n",
       "    </tr>\n",
       "  </tbody>\n",
       "</table>\n",
       "</div>"
      ],
      "text/plain": [
       "   paciente    tratamiento  resultado  dosis_1  dosis_2\n",
       "0  Fernando  tratamiento_a         25        5        0\n",
       "1   Alfonso  tratamiento_a          5        5        0\n",
       "2  Santiago  tratamiento_a          6        5        0\n",
       "3      Lili  tratamiento_a         89        5        0\n",
       "4   Rosalia  tratamiento_a         10        5        0\n",
       "5  Fernando  tratamiento_b          0        9        7\n",
       "6   Alfonso  tratamiento_b         17        9        7\n",
       "7  Santiago  tratamiento_b         15        9        7\n",
       "8      Lili  tratamiento_b          7        9        7\n",
       "9   Rosalia  tratamiento_b          9        9        7"
      ]
     },
     "execution_count": 61,
     "metadata": {},
     "output_type": "execute_result"
    }
   ],
   "source": [
    "df_final = pd.merge(df_pacientes,df_2, how=\"left\", on=\"tratamiento\")\n",
    "df_final"
   ]
  },
  {
   "cell_type": "markdown",
   "metadata": {},
   "source": [
    "La exportamos como csv"
   ]
  },
  {
   "cell_type": "code",
   "execution_count": 62,
   "metadata": {},
   "outputs": [],
   "source": [
    "df_final.to_csv(\"df_final.csv\")"
   ]
  },
  {
   "cell_type": "markdown",
   "metadata": {},
   "source": [
    "## 5.- El hospital solicitó realizar algunas simulaciones de tratamientos, para esto se crea una base con datos ficticios."
   ]
  },
  {
   "cell_type": "code",
   "execution_count": 23,
   "metadata": {},
   "outputs": [
    {
     "data": {
      "text/html": [
       "<div>\n",
       "<style scoped>\n",
       "    .dataframe tbody tr th:only-of-type {\n",
       "        vertical-align: middle;\n",
       "    }\n",
       "\n",
       "    .dataframe tbody tr th {\n",
       "        vertical-align: top;\n",
       "    }\n",
       "\n",
       "    .dataframe thead th {\n",
       "        text-align: right;\n",
       "    }\n",
       "</style>\n",
       "<table border=\"1\" class=\"dataframe\">\n",
       "  <thead>\n",
       "    <tr style=\"text-align: right;\">\n",
       "      <th></th>\n",
       "      <th>paciente</th>\n",
       "      <th>tratamiento_a</th>\n",
       "      <th>tratamiento_b</th>\n",
       "    </tr>\n",
       "  </thead>\n",
       "  <tbody>\n",
       "    <tr>\n",
       "      <th>0</th>\n",
       "      <td>520</td>\n",
       "      <td>19.0</td>\n",
       "      <td>60.0</td>\n",
       "    </tr>\n",
       "    <tr>\n",
       "      <th>1</th>\n",
       "      <td>792</td>\n",
       "      <td>45.0</td>\n",
       "      <td>NaN</td>\n",
       "    </tr>\n",
       "    <tr>\n",
       "      <th>2</th>\n",
       "      <td>835</td>\n",
       "      <td>79.0</td>\n",
       "      <td>33.0</td>\n",
       "    </tr>\n",
       "    <tr>\n",
       "      <th>3</th>\n",
       "      <td>871</td>\n",
       "      <td>94.0</td>\n",
       "      <td>64.0</td>\n",
       "    </tr>\n",
       "    <tr>\n",
       "      <th>4</th>\n",
       "      <td>855</td>\n",
       "      <td>64.0</td>\n",
       "      <td>38.0</td>\n",
       "    </tr>\n",
       "  </tbody>\n",
       "</table>\n",
       "</div>"
      ],
      "text/plain": [
       "   paciente  tratamiento_a  tratamiento_b\n",
       "0       520           19.0           60.0\n",
       "1       792           45.0            NaN\n",
       "2       835           79.0           33.0\n",
       "3       871           94.0           64.0\n",
       "4       855           64.0           38.0"
      ]
     },
     "execution_count": 23,
     "metadata": {},
     "output_type": "execute_result"
    }
   ],
   "source": [
    "np.random.seed(100)\n",
    "n = 1000\n",
    "id_paciente = np.random.randint(1000, size=n)\n",
    "tratamiento_a = np.random.randint(low=10, high=100, size=n)\n",
    "tratamiento_b = np.random.randint(low=15, high=90, size=n)\n",
    "\n",
    "\n",
    "data_dict_pacientes = {\n",
    "    'paciente':id_paciente,\n",
    "    'tratamiento_a':tratamiento_a,\n",
    "    'tratamiento_b': tratamiento_b\n",
    "}\n",
    "\n",
    "df_pacientes_2 = pd.DataFrame.from_dict(data_dict_pacientes)\n",
    "\n",
    "df_pacientes_2['tratamiento_a'] = df_pacientes_2['tratamiento_a'].apply(\n",
    "    lambda x: x if x>15 else np.nan)\n",
    "df_pacientes_2['tratamiento_b'] = df_pacientes_2['tratamiento_b'].apply(\n",
    "    lambda x: np.nan if x>80 else x)\n",
    "\n",
    "df_pacientes_2.head()"
   ]
  },
  {
   "cell_type": "code",
   "execution_count": 24,
   "metadata": {},
   "outputs": [],
   "source": [
    "df_pacientes_2.to_csv(\"df-pacientes-2.csv\")"
   ]
  },
  {
   "cell_type": "markdown",
   "metadata": {},
   "source": [
    "## 6.- Busqueda de outliers"
   ]
  },
  {
   "cell_type": "code",
   "execution_count": 25,
   "metadata": {},
   "outputs": [
    {
     "name": "stdout",
     "output_type": "stream",
     "text": [
      "Número de outliers en tratamiento_a: 0\n",
      "Número de outliers en tratamiento_b: 0\n"
     ]
    }
   ],
   "source": [
    "# Calcular cuartiles e IQR para tratamiento_a\n",
    "Q1_a = df_pacientes_2['tratamiento_a'].quantile(0.25)\n",
    "Q3_a = df_pacientes_2['tratamiento_a'].quantile(0.75)\n",
    "IQR_a = Q3_a - Q1_a\n",
    "\n",
    "# Definir límites para outliers en tratamiento_a\n",
    "limite_inferior_a = Q1_a - 1.5 * IQR_a\n",
    "limite_superior_a = Q3_a + 1.5 * IQR_a\n",
    "\n",
    "# Identificar outliers en tratamiento_a\n",
    "outliers_a = df_pacientes_2[(df_pacientes_2['tratamiento_a'] < limite_inferior_a) |\n",
    "                            (df_pacientes_2['tratamiento_a'] > limite_superior_a)]\n",
    "\n",
    "# Calcular cuartiles e IQR para tratamiento_b\n",
    "Q1_b = df_pacientes_2['tratamiento_b'].quantile(0.25)\n",
    "Q3_b = df_pacientes_2['tratamiento_b'].quantile(0.75)\n",
    "IQR_b = Q3_b - Q1_b\n",
    "\n",
    "# Definir límites para outliers en tratamiento_b\n",
    "limite_inferior_b = Q1_b - 1.5 * IQR_b\n",
    "limite_superior_b = Q3_b + 1.5 * IQR_b\n",
    "\n",
    "# Identificar outliers en tratamiento_b\n",
    "outliers_b = df_pacientes_2[(df_pacientes_2['tratamiento_b'] < limite_inferior_b) |\n",
    "                            (df_pacientes_2['tratamiento_b'] > limite_superior_b)]\n",
    "\n",
    "# Contar outliers\n",
    "num_outliers_a = outliers_a.shape[0]\n",
    "num_outliers_b = outliers_b.shape[0]\n",
    "\n",
    "print(f\"Número de outliers en tratamiento_a: {num_outliers_a}\")\n",
    "print(f\"Número de outliers en tratamiento_b: {num_outliers_b}\")"
   ]
  },
  {
   "cell_type": "markdown",
   "metadata": {},
   "source": [
    "## 7.-Busqueda de datos perdidos"
   ]
  },
  {
   "cell_type": "code",
   "execution_count": 27,
   "metadata": {},
   "outputs": [
    {
     "name": "stdout",
     "output_type": "stream",
     "text": [
      "Datos perdidos por columna:\n",
      "paciente           0\n",
      "tratamiento_a     54\n",
      "tratamiento_b    140\n",
      "dtype: int64\n"
     ]
    }
   ],
   "source": [
    "datos_perdidos = df_pacientes_2.isna().sum()\n",
    "\n",
    "print(\"Datos perdidos por columna:\")\n",
    "print(datos_perdidos)"
   ]
  },
  {
   "cell_type": "markdown",
   "metadata": {},
   "source": [
    "## 8.- Imputación simple a la variable tratamiento_a."
   ]
  },
  {
   "cell_type": "code",
   "execution_count": 51,
   "metadata": {},
   "outputs": [
    {
     "name": "stdout",
     "output_type": "stream",
     "text": [
      "Datos perdidos en tratamiento_a después de la imputación:\n",
      "0\n"
     ]
    }
   ],
   "source": [
    "# Calcular la media de la columna tratamiento_a (ignorando los NaN)\n",
    "media_tratamiento_a = df_pacientes_2['tratamiento_a'].mean()\n",
    "\n",
    "# Imputar los valores NaN con la media\n",
    "df_pacientes_2['tratamiento_a'].fillna(media_tratamiento_a, inplace=True)\n",
    "\n",
    "# Verificar que no hay datos perdidos después de la imputación\n",
    "print(\"Datos perdidos en tratamiento_a después de la imputación:\")\n",
    "print(df_pacientes_2['tratamiento_a'].isna().sum())"
   ]
  },
  {
   "cell_type": "markdown",
   "metadata": {},
   "source": [
    "## 9.- Imputación múltiple a la variable tratamiento_b."
   ]
  },
  {
   "cell_type": "code",
   "execution_count": 54,
   "metadata": {},
   "outputs": [],
   "source": [
    "from sklearn.impute import IterativeImputer\n",
    "\n",
    "# Crear el imputador con regresión bayesiana como estrategia\n",
    "imputador = IterativeImputer(random_state=100)\n",
    "\n",
    "# Seleccionar solo la columna a imputar y transformar a formato 2D\n",
    "tratamiento_b_imputado = imputador.fit_transform(df_pacientes_2[['tratamiento_b']])\n",
    "\n",
    "# Reemplazar los valores imputados en el DataFrame\n",
    "df_pacientes_2['tratamiento_b'] = tratamiento_b_imputado"
   ]
  },
  {
   "cell_type": "markdown",
   "metadata": {},
   "source": [
    "Exportamos la base final."
   ]
  },
  {
   "cell_type": "code",
   "execution_count": 55,
   "metadata": {},
   "outputs": [],
   "source": [
    "df_pacientes_2.to_csv(\"df-pacientes-2-imputado.csv\")"
   ]
  }
 ],
 "metadata": {
  "kernelspec": {
   "display_name": "Python 3",
   "language": "python",
   "name": "python3"
  },
  "language_info": {
   "codemirror_mode": {
    "name": "ipython",
    "version": 3
   },
   "file_extension": ".py",
   "mimetype": "text/x-python",
   "name": "python",
   "nbconvert_exporter": "python",
   "pygments_lexer": "ipython3",
   "version": "3.8.10"
  }
 },
 "nbformat": 4,
 "nbformat_minor": 2
}
