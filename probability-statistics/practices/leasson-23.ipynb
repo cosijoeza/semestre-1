{
 "cells": [
  {
   "cell_type": "markdown",
   "metadata": {},
   "source": [
    "# Lección 23"
   ]
  },
  {
   "cell_type": "code",
   "execution_count": 209,
   "metadata": {},
   "outputs": [],
   "source": [
    "import pandas as pd\n",
    "import seaborn as sns\n",
    "import matplotlib.pyplot as plt\n",
    "import numpy as np\n",
    "import math\n",
    "from itertools import combinations"
   ]
  },
  {
   "cell_type": "markdown",
   "metadata": {},
   "source": [
    "## Lectura y despliegue de información "
   ]
  },
  {
   "cell_type": "code",
   "execution_count": 210,
   "metadata": {},
   "outputs": [],
   "source": [
    "df = pd.read_csv(\"../data/datos-leccion-23.csv\")"
   ]
  },
  {
   "cell_type": "code",
   "execution_count": 211,
   "metadata": {},
   "outputs": [
    {
     "data": {
      "text/html": [
       "<div>\n",
       "<style scoped>\n",
       "    .dataframe tbody tr th:only-of-type {\n",
       "        vertical-align: middle;\n",
       "    }\n",
       "\n",
       "    .dataframe tbody tr th {\n",
       "        vertical-align: top;\n",
       "    }\n",
       "\n",
       "    .dataframe thead th {\n",
       "        text-align: right;\n",
       "    }\n",
       "</style>\n",
       "<table border=\"1\" class=\"dataframe\">\n",
       "  <thead>\n",
       "    <tr style=\"text-align: right;\">\n",
       "      <th></th>\n",
       "      <th>nombre</th>\n",
       "      <th>peso-kg</th>\n",
       "      <th>talla-m</th>\n",
       "      <th>pesoNacimiento-kg</th>\n",
       "      <th>tallaNacimiento-cm</th>\n",
       "      <th>imc</th>\n",
       "      <th>helado</th>\n",
       "      <th>fuma</th>\n",
       "      <th>estadoCivil</th>\n",
       "    </tr>\n",
       "  </thead>\n",
       "  <tbody>\n",
       "    <tr>\n",
       "      <th>0</th>\n",
       "      <td>Sarabia López Carlos Alberto</td>\n",
       "      <td>55.0</td>\n",
       "      <td>1.56</td>\n",
       "      <td>3.00</td>\n",
       "      <td>50.0</td>\n",
       "      <td>22.6</td>\n",
       "      <td>Chocolate</td>\n",
       "      <td>No</td>\n",
       "      <td>Soltero</td>\n",
       "    </tr>\n",
       "    <tr>\n",
       "      <th>1</th>\n",
       "      <td>Valencia Barrios Aracely Fabiola</td>\n",
       "      <td>60.0</td>\n",
       "      <td>1.62</td>\n",
       "      <td>4.50</td>\n",
       "      <td>51.0</td>\n",
       "      <td>22.9</td>\n",
       "      <td>Limón</td>\n",
       "      <td>si</td>\n",
       "      <td>soltera</td>\n",
       "    </tr>\n",
       "    <tr>\n",
       "      <th>2</th>\n",
       "      <td>Unda Lopez Jonathan Said</td>\n",
       "      <td>62.0</td>\n",
       "      <td>1.69</td>\n",
       "      <td>4.50</td>\n",
       "      <td>50.2</td>\n",
       "      <td>21.7</td>\n",
       "      <td>Chocolate</td>\n",
       "      <td>Si</td>\n",
       "      <td>Soltero</td>\n",
       "    </tr>\n",
       "    <tr>\n",
       "      <th>3</th>\n",
       "      <td>López González Luis Antonio</td>\n",
       "      <td>62.0</td>\n",
       "      <td>1.70</td>\n",
       "      <td>3.25</td>\n",
       "      <td>51.0</td>\n",
       "      <td>19.3</td>\n",
       "      <td>Vainilla</td>\n",
       "      <td>No</td>\n",
       "      <td>soltero</td>\n",
       "    </tr>\n",
       "    <tr>\n",
       "      <th>4</th>\n",
       "      <td>Diaz Yescas Laura Sarahi</td>\n",
       "      <td>63.0</td>\n",
       "      <td>1.61</td>\n",
       "      <td>3.50</td>\n",
       "      <td>52.0</td>\n",
       "      <td>24.3</td>\n",
       "      <td>Nuez</td>\n",
       "      <td>No</td>\n",
       "      <td>Soltera</td>\n",
       "    </tr>\n",
       "  </tbody>\n",
       "</table>\n",
       "</div>"
      ],
      "text/plain": [
       "                             nombre  peso-kg  talla-m  pesoNacimiento-kg  \\\n",
       "0      Sarabia López Carlos Alberto     55.0     1.56               3.00   \n",
       "1  Valencia Barrios Aracely Fabiola     60.0     1.62               4.50   \n",
       "2          Unda Lopez Jonathan Said     62.0     1.69               4.50   \n",
       "3       López González Luis Antonio     62.0     1.70               3.25   \n",
       "4          Diaz Yescas Laura Sarahi     63.0     1.61               3.50   \n",
       "\n",
       "   tallaNacimiento-cm   imc      helado fuma estadoCivil  \n",
       "0                50.0  22.6   Chocolate   No     Soltero  \n",
       "1                51.0  22.9       Limón  si      soltera  \n",
       "2                50.2  21.7  Chocolate    Si     Soltero  \n",
       "3                51.0  19.3    Vainilla   No     soltero  \n",
       "4                52.0  24.3        Nuez   No     Soltera  "
      ]
     },
     "execution_count": 211,
     "metadata": {},
     "output_type": "execute_result"
    }
   ],
   "source": [
    "df.head()"
   ]
  },
  {
   "cell_type": "markdown",
   "metadata": {},
   "source": [
    "## Peso (kg)"
   ]
  },
  {
   "cell_type": "markdown",
   "metadata": {},
   "source": [
    "### Selección de Clase"
   ]
  },
  {
   "cell_type": "code",
   "execution_count": 212,
   "metadata": {},
   "outputs": [
    {
     "data": {
      "text/plain": [
       "0     55.0\n",
       "1     60.0\n",
       "2     62.0\n",
       "3     62.0\n",
       "4     63.0\n",
       "5     65.0\n",
       "6     65.0\n",
       "7     65.9\n",
       "8     66.0\n",
       "9     68.0\n",
       "10    68.0\n",
       "11    68.2\n",
       "12    70.0\n",
       "13    70.0\n",
       "14    80.0\n",
       "15    83.0\n",
       "Name: peso-kg, dtype: float64"
      ]
     },
     "execution_count": 212,
     "metadata": {},
     "output_type": "execute_result"
    }
   ],
   "source": [
    "weigth = df[\"peso-kg\"]\n",
    "weigth"
   ]
  },
  {
   "cell_type": "code",
   "execution_count": 213,
   "metadata": {},
   "outputs": [
    {
     "data": {
      "text/plain": [
       "array([55. , 60. , 62. , 62. , 63. , 65. , 65. , 65.9, 66. , 68. , 68. ,\n",
       "       68.2, 70. , 70. , 80. , 83. ])"
      ]
     },
     "execution_count": 213,
     "metadata": {},
     "output_type": "execute_result"
    }
   ],
   "source": [
    "# Parse to numpy array\n",
    "weigthArray = weigth.to_numpy()\n",
    "weigthArray"
   ]
  },
  {
   "cell_type": "markdown",
   "metadata": {},
   "source": [
    "### Generación de Combinaciones con 3 Muestras"
   ]
  },
  {
   "cell_type": "markdown",
   "metadata": {},
   "source": [
    "#### Combinaciones"
   ]
  },
  {
   "cell_type": "code",
   "execution_count": 214,
   "metadata": {},
   "outputs": [
    {
     "data": {
      "text/plain": [
       "560"
      ]
     },
     "execution_count": 214,
     "metadata": {},
     "output_type": "execute_result"
    }
   ],
   "source": [
    "combinationsNumber = math.comb(16,3)\n",
    "combinationsNumber\n"
   ]
  },
  {
   "cell_type": "code",
   "execution_count": 215,
   "metadata": {},
   "outputs": [
    {
     "data": {
      "text/plain": [
       "560"
      ]
     },
     "execution_count": 215,
     "metadata": {},
     "output_type": "execute_result"
    }
   ],
   "source": [
    "combinationList = list(combinations(weigthArray,3))\n",
    "len(combinationList)"
   ]
  },
  {
   "cell_type": "code",
   "execution_count": 216,
   "metadata": {},
   "outputs": [
    {
     "data": {
      "text/plain": [
       "[(55.0, 60.0, 62.0),\n",
       " (55.0, 60.0, 62.0),\n",
       " (55.0, 60.0, 63.0),\n",
       " (55.0, 60.0, 65.0),\n",
       " (55.0, 60.0, 65.0),\n",
       " (55.0, 60.0, 65.9),\n",
       " (55.0, 60.0, 66.0),\n",
       " (55.0, 60.0, 68.0),\n",
       " (55.0, 60.0, 68.0),\n",
       " (55.0, 60.0, 68.2)]"
      ]
     },
     "execution_count": 216,
     "metadata": {},
     "output_type": "execute_result"
    }
   ],
   "source": [
    "\n",
    "combinationList[:10]"
   ]
  },
  {
   "cell_type": "markdown",
   "metadata": {},
   "source": [
    "#### Promedios"
   ]
  },
  {
   "cell_type": "code",
   "execution_count": 217,
   "metadata": {},
   "outputs": [
    {
     "data": {
      "text/plain": [
       "560"
      ]
     },
     "execution_count": 217,
     "metadata": {},
     "output_type": "execute_result"
    }
   ],
   "source": [
    "means = []\n",
    "for t in combinationList:\n",
    "    means.append(sum(t)/len(t))\n",
    "len(means)"
   ]
  },
  {
   "cell_type": "code",
   "execution_count": 218,
   "metadata": {},
   "outputs": [
    {
     "data": {
      "text/plain": [
       "[59.0,\n",
       " 59.0,\n",
       " 59.333333333333336,\n",
       " 60.0,\n",
       " 60.0,\n",
       " 60.300000000000004,\n",
       " 60.333333333333336,\n",
       " 61.0,\n",
       " 61.0,\n",
       " 61.06666666666666]"
      ]
     },
     "execution_count": 218,
     "metadata": {},
     "output_type": "execute_result"
    }
   ],
   "source": [
    "means[:10]"
   ]
  },
  {
   "cell_type": "markdown",
   "metadata": {},
   "source": [
    "### Estadística y Comparación de los Datos Originales y los Promedios de las Muestras\n"
   ]
  },
  {
   "cell_type": "markdown",
   "metadata": {},
   "source": [
    "#### Pesos originales"
   ]
  },
  {
   "cell_type": "code",
   "execution_count": 219,
   "metadata": {},
   "outputs": [
    {
     "data": {
      "text/plain": [
       "count    16.000000\n",
       "mean     66.943750\n",
       "std       6.906998\n",
       "min      55.000000\n",
       "25%      62.750000\n",
       "50%      65.950000\n",
       "75%      68.650000\n",
       "max      83.000000\n",
       "Name: peso-kg, dtype: float64"
      ]
     },
     "execution_count": 219,
     "metadata": {},
     "output_type": "execute_result"
    }
   ],
   "source": [
    "weigth.describe()"
   ]
  },
  {
   "cell_type": "code",
   "execution_count": 220,
   "metadata": {},
   "outputs": [
    {
     "data": {
      "text/plain": [
       "<Figure size 1000x400 with 0 Axes>"
      ]
     },
     "metadata": {},
     "output_type": "display_data"
    },
    {
     "data": {
      "image/png": "[encoded data removed]",
      "text/plain": [
       "<Figure size 500x500 with 1 Axes>"
      ]
     },
     "metadata": {},
     "output_type": "display_data"
    }
   ],
   "source": [
    "plt.figure(figsize=(10,4))\n",
    "sns.displot(weigth)\n",
    "plt.title(\"Pesos (kg)\")\n",
    "plt.show()"
   ]
  },
  {
   "cell_type": "markdown",
   "metadata": {},
   "source": [
    "#### Promedio de las muestras "
   ]
  },
  {
   "cell_type": "code",
   "execution_count": 221,
   "metadata": {},
   "outputs": [
    {
     "data": {
      "text/plain": [
       "count    560.000000\n",
       "mean      66.943750\n",
       "std        3.597730\n",
       "min       59.000000\n",
       "25%       64.333333\n",
       "50%       66.400000\n",
       "75%       69.400000\n",
       "max       77.666667\n",
       "dtype: float64"
      ]
     },
     "execution_count": 221,
     "metadata": {},
     "output_type": "execute_result"
    }
   ],
   "source": [
    "meansPd = pd.Series(means)\n",
    "meansPd.describe()"
   ]
  },
  {
   "cell_type": "code",
   "execution_count": 222,
   "metadata": {},
   "outputs": [
    {
     "data": {
      "text/plain": [
       "<Figure size 1000x400 with 0 Axes>"
      ]
     },
     "metadata": {},
     "output_type": "display_data"
    },
    {
     "data": {
      "image/png": "[encoded data removed]",
      "text/plain": [
       "<Figure size 500x500 with 1 Axes>"
      ]
     },
     "metadata": {},
     "output_type": "display_data"
    }
   ],
   "source": [
    "plt.figure(figsize=(10,4))\n",
    "sns.displot(means)\n",
    "plt.title(\"Promedio de combinaciones\")\n",
    "plt.show()"
   ]
  },
  {
   "cell_type": "markdown",
   "metadata": {},
   "source": [
    "## Talla Nacimiento (cm)"
   ]
  },
  {
   "cell_type": "markdown",
   "metadata": {},
   "source": [
    "### Selección de Clase"
   ]
  },
  {
   "cell_type": "code",
   "execution_count": 223,
   "metadata": {},
   "outputs": [
    {
     "data": {
      "text/plain": [
       "0     50.0\n",
       "1     51.0\n",
       "2     50.2\n",
       "3     51.0\n",
       "4     52.0\n",
       "5     53.0\n",
       "6     51.0\n",
       "7     51.0\n",
       "8     53.0\n",
       "9     48.0\n",
       "10    52.0\n",
       "11    48.0\n",
       "12    50.0\n",
       "13    45.0\n",
       "14    52.0\n",
       "15    50.0\n",
       "Name: tallaNacimiento-cm, dtype: float64"
      ]
     },
     "execution_count": 223,
     "metadata": {},
     "output_type": "execute_result"
    }
   ],
   "source": [
    "birthSize = df[\"tallaNacimiento-cm\"]\n",
    "birthSize"
   ]
  },
  {
   "cell_type": "code",
   "execution_count": 224,
   "metadata": {},
   "outputs": [
    {
     "data": {
      "text/plain": [
       "array([50. , 51. , 50.2, 51. , 52. , 53. , 51. , 51. , 53. , 48. , 52. ,\n",
       "       48. , 50. , 45. , 52. , 50. ])"
      ]
     },
     "execution_count": 224,
     "metadata": {},
     "output_type": "execute_result"
    }
   ],
   "source": [
    "# Parse to numpy array\n",
    "birthSizeArray = birthSize.to_numpy()\n",
    "birthSizeArray"
   ]
  },
  {
   "cell_type": "markdown",
   "metadata": {},
   "source": [
    "### Generación de Combinaciones con 5 Muestras\n"
   ]
  },
  {
   "cell_type": "markdown",
   "metadata": {},
   "source": [
    "#### Combinaciones"
   ]
  },
  {
   "cell_type": "code",
   "execution_count": 225,
   "metadata": {},
   "outputs": [
    {
     "data": {
      "text/plain": [
       "4368"
      ]
     },
     "execution_count": 225,
     "metadata": {},
     "output_type": "execute_result"
    }
   ],
   "source": [
    "combinationsNumber = math.comb(16,5)\n",
    "combinationsNumber"
   ]
  },
  {
   "cell_type": "code",
   "execution_count": 226,
   "metadata": {},
   "outputs": [
    {
     "data": {
      "text/plain": [
       "4368"
      ]
     },
     "execution_count": 226,
     "metadata": {},
     "output_type": "execute_result"
    }
   ],
   "source": [
    "combinationList = list(combinations(birthSizeArray,5))\n",
    "len(combinationList)"
   ]
  },
  {
   "cell_type": "code",
   "execution_count": 227,
   "metadata": {},
   "outputs": [
    {
     "data": {
      "text/plain": [
       "[(50.0, 51.0, 50.2, 51.0, 52.0),\n",
       " (50.0, 51.0, 50.2, 51.0, 53.0),\n",
       " (50.0, 51.0, 50.2, 51.0, 51.0),\n",
       " (50.0, 51.0, 50.2, 51.0, 51.0),\n",
       " (50.0, 51.0, 50.2, 51.0, 53.0),\n",
       " (50.0, 51.0, 50.2, 51.0, 48.0),\n",
       " (50.0, 51.0, 50.2, 51.0, 52.0),\n",
       " (50.0, 51.0, 50.2, 51.0, 48.0),\n",
       " (50.0, 51.0, 50.2, 51.0, 50.0),\n",
       " (50.0, 51.0, 50.2, 51.0, 45.0)]"
      ]
     },
     "execution_count": 227,
     "metadata": {},
     "output_type": "execute_result"
    }
   ],
   "source": [
    "combinationList[:10]"
   ]
  },
  {
   "cell_type": "markdown",
   "metadata": {},
   "source": [
    "#### Promedios"
   ]
  },
  {
   "cell_type": "code",
   "execution_count": 228,
   "metadata": {},
   "outputs": [
    {
     "data": {
      "text/plain": [
       "4368"
      ]
     },
     "execution_count": 228,
     "metadata": {},
     "output_type": "execute_result"
    }
   ],
   "source": [
    "means = [sum(t)/len(t) for t in combinationList]\n",
    "len(means)"
   ]
  },
  {
   "cell_type": "code",
   "execution_count": 229,
   "metadata": {},
   "outputs": [
    {
     "data": {
      "text/plain": [
       "[50.839999999999996,\n",
       " 51.04,\n",
       " 50.64,\n",
       " 50.64,\n",
       " 51.04,\n",
       " 50.04,\n",
       " 50.839999999999996,\n",
       " 50.04,\n",
       " 50.44,\n",
       " 49.44]"
      ]
     },
     "execution_count": 229,
     "metadata": {},
     "output_type": "execute_result"
    }
   ],
   "source": [
    "means[:10]"
   ]
  },
  {
   "cell_type": "markdown",
   "metadata": {},
   "source": [
    "### Estadística y Comparación de los Datos Originales y los Promedios de las Muestras\n"
   ]
  },
  {
   "cell_type": "markdown",
   "metadata": {},
   "source": [
    "#### Pesos originales"
   ]
  },
  {
   "cell_type": "code",
   "execution_count": 230,
   "metadata": {},
   "outputs": [
    {
     "data": {
      "text/plain": [
       "count    16.000000\n",
       "mean     50.450000\n",
       "std       2.062361\n",
       "min      45.000000\n",
       "25%      50.000000\n",
       "50%      51.000000\n",
       "75%      52.000000\n",
       "max      53.000000\n",
       "Name: tallaNacimiento-cm, dtype: float64"
      ]
     },
     "execution_count": 230,
     "metadata": {},
     "output_type": "execute_result"
    }
   ],
   "source": [
    "birthSize.describe()"
   ]
  },
  {
   "cell_type": "code",
   "execution_count": 231,
   "metadata": {},
   "outputs": [
    {
     "data": {
      "text/plain": [
       "<Figure size 1000x400 with 0 Axes>"
      ]
     },
     "metadata": {},
     "output_type": "display_data"
    },
    {
     "data": {
      "image/png": "[encoded data removed]",
      "text/plain": [
       "<Figure size 500x500 with 1 Axes>"
      ]
     },
     "metadata": {},
     "output_type": "display_data"
    }
   ],
   "source": [
    "plt.figure(figsize=(10,4))\n",
    "sns.displot(birthSize)\n",
    "plt.title(\"Tallas Nacimiento (cm)\")\n",
    "plt.show()"
   ]
  },
  {
   "cell_type": "markdown",
   "metadata": {},
   "source": [
    "#### Promedio de las Muestras"
   ]
  },
  {
   "cell_type": "code",
   "execution_count": 232,
   "metadata": {},
   "outputs": [
    {
     "data": {
      "text/plain": [
       "count    4368.000000\n",
       "mean       50.450000\n",
       "std         0.764832\n",
       "min        48.200000\n",
       "25%        49.960000\n",
       "50%        50.440000\n",
       "75%        51.000000\n",
       "max        52.400000\n",
       "dtype: float64"
      ]
     },
     "execution_count": 232,
     "metadata": {},
     "output_type": "execute_result"
    }
   ],
   "source": [
    "meansPd = pd.Series(means)\n",
    "meansPd.describe()"
   ]
  },
  {
   "cell_type": "code",
   "execution_count": null,
   "metadata": {},
   "outputs": [
    {
     "data": {
      "text/plain": [
       "<Figure size 1000x400 with 0 Axes>"
      ]
     },
     "metadata": {},
     "output_type": "display_data"
    },
    {
     "data": {
      "image/png": "[encoded data removed]",
      "text/plain": [
       "<Figure size 500x500 with 1 Axes>"
      ]
     },
     "metadata": {},
     "output_type": "display_data"
    }
   ],
   "source": [
    "plt.figure(figsize=(10,4))\n",
    "sns.displot(meansPd)\n",
    "plt.title(\"Promedio de combinaciones\")\n",
    "plt.show()"
   ]
  }
 ],
 "metadata": {
  "kernelspec": {
   "display_name": "Python 3",
   "language": "python",
   "name": "python3"
  },
  "language_info": {
   "codemirror_mode": {
    "name": "ipython",
    "version": 3
   },
   "file_extension": ".py",
   "mimetype": "text/x-python",
   "name": "python",
   "nbconvert_exporter": "python",
   "pygments_lexer": "ipython3",
   "version": "3.8.10"
  }
 },
 "nbformat": 4,
 "nbformat_minor": 2
}
