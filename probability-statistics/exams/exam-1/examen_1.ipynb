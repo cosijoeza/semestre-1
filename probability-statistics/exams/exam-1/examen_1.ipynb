{
  "nbformat": 4,
  "nbformat_minor": 0,
  "metadata": {
    "colab": {
      "provenance": []
    },
    "kernelspec": {
      "name": "python3",
      "display_name": "Python 3"
    },
    "language_info": {
      "name": "python"
    }
  },
  "cells": [
    {
      "cell_type": "markdown",
      "source": [
        "# En una urna hay 5 bolas rojas, 3 bolas azules y 2 bolas verdes. Si se selecciona una bola al azar:"
      ],
      "metadata": {
        "id": "Nzli67DpyWjy"
      }
    },
    {
      "cell_type": "code",
      "source": [
        "# Datos iniciales\n",
        "rojas = 5\n",
        "azules = 3\n",
        "verdes = 2\n",
        "# Total de bolas\n",
        "total = rojas + azules + verdes"
      ],
      "metadata": {
        "id": "gQQSBH978bwN"
      },
      "execution_count": null,
      "outputs": []
    },
    {
      "cell_type": "markdown",
      "source": [
        "## ¿Cuál es la probabilidad de que sea roja?"
      ],
      "metadata": {
        "id": "qr7mcevJ8gGr"
      }
    },
    {
      "cell_type": "code",
      "source": [
        "pRoja = rojas / total\n",
        "print(pRoja)"
      ],
      "metadata": {
        "colab": {
          "base_uri": "https://localhost:8080/"
        },
        "id": "_Os1W0M9Bsey",
        "outputId": "9e4c43ed-fb53-455b-82e1-262cd4aca834"
      },
      "execution_count": null,
      "outputs": [
        {
          "output_type": "stream",
          "name": "stdout",
          "text": [
            "0.5\n"
          ]
        }
      ]
    },
    {
      "cell_type": "markdown",
      "source": [
        "## ¿Cuál es la probabilidad de que no sea verde?"
      ],
      "metadata": {
        "id": "wS5pPee43ueA"
      }
    },
    {
      "cell_type": "code",
      "source": [
        "pNoVerde = (rojas + azules) / total\n",
        "print(pNoVerde)"
      ],
      "metadata": {
        "colab": {
          "base_uri": "https://localhost:8080/"
        },
        "id": "oAu4btsT1QH2",
        "outputId": "37312f5a-93e1-42e1-a97a-2538197a50dc"
      },
      "execution_count": null,
      "outputs": [
        {
          "output_type": "stream",
          "name": "stdout",
          "text": [
            "0.8\n"
          ]
        }
      ]
    },
    {
      "cell_type": "markdown",
      "source": [
        "# Un sistema tiene dos componentes que fallan de manera independiente."
      ],
      "metadata": {
        "id": "PGHXVncz1dm9"
      }
    },
    {
      "cell_type": "markdown",
      "source": [
        "## El componente A tiene una probabilidad de falla del 0.2"
      ],
      "metadata": {
        "id": "TR5OwvaC43w5"
      }
    },
    {
      "cell_type": "markdown",
      "source": [
        "## El componente B tiene una probabilidad de falla del 0.3"
      ],
      "metadata": {
        "id": "TNt5G1Pu4p5d"
      }
    },
    {
      "cell_type": "code",
      "source": [
        "probabilidadA = 0.2  # Probabilidad de que el componente A falle\n",
        "probabilidadFallo = 0.44  # Probabilidad de que el sistema falle\n",
        "\n",
        "# Aplicamos el teorema de Bayes para calcular P(A | Sistema falló)\n",
        "res = probabilidadA / probabilidadFallo\n",
        "print(res)"
      ],
      "metadata": {
        "colab": {
          "base_uri": "https://localhost:8080/"
        },
        "id": "15FC11oZ1tU0",
        "outputId": "032c6959-6ad8-4f57-f9e7-a0f7c87e1111"
      },
      "execution_count": null,
      "outputs": [
        {
          "output_type": "stream",
          "name": "stdout",
          "text": [
            "0.4545454545454546\n"
          ]
        }
      ]
    },
    {
      "cell_type": "markdown",
      "source": [
        "# Supón que un dado justo se lanza una vez."
      ],
      "metadata": {
        "id": "Xkp7-n-G5Gyr"
      }
    },
    {
      "cell_type": "markdown",
      "source": [
        "## Definimos éxito como obtener un número mayor o igual a 5. Modela esta situación como una variable aleatoria de Bernoulli y calcula la probabilidad de éxito y fracaso."
      ],
      "metadata": {
        "id": "q57ZiLRv5K9k"
      }
    },
    {
      "cell_type": "code",
      "source": [
        "import numpy as np\n",
        "\n",
        "# Los números 5 y 6 son éxitos.\n",
        "p = 2 / 6\n",
        "q = 1 - p\n",
        "print(\"probabilidad de exito: \",p)\n",
        "print(\"probabilidad de fracaso: \",q)"
      ],
      "metadata": {
        "colab": {
          "base_uri": "https://localhost:8080/"
        },
        "id": "A5H6V6BvDego",
        "outputId": "616c91b4-fb7e-42a4-c9c4-a9f99741cb17"
      },
      "execution_count": null,
      "outputs": [
        {
          "output_type": "stream",
          "name": "stdout",
          "text": [
            "probabilidad de exito:  0.3333333333333333\n",
            "probabilidad de fracaso:  0.6666666666666667\n"
          ]
        }
      ]
    },
    {
      "cell_type": "markdown",
      "source": [
        "## Simula 10 lanzamientos del dado y obtén el promedio y varianza de éxitos utilizando Python o Excel."
      ],
      "metadata": {
        "id": "NAuA-Cos5PiK"
      }
    },
    {
      "cell_type": "code",
      "source": [
        "# Cálculo de promedio y varianza de éxitos\n",
        "n = 10\n",
        "results = np.random.binomial(1, p, n)\n",
        "promedio = np.mean(results)\n",
        "varianza = np.var(results)\n",
        "print(\"Promedio: \",promedio)\n",
        "print(\"Varianza: \",varianza)"
      ],
      "metadata": {
        "colab": {
          "base_uri": "https://localhost:8080/"
        },
        "id": "Pb3irtCAEAQX",
        "outputId": "390c0e8c-7afd-4579-8308-e73367340274"
      },
      "execution_count": null,
      "outputs": [
        {
          "output_type": "stream",
          "name": "stdout",
          "text": [
            "Promedio:  0.6\n",
            "Varianza:  0.24000000000000005\n"
          ]
        }
      ]
    },
    {
      "cell_type": "markdown",
      "source": [
        "# Un estudiante realiza un examen con 20 preguntas de opción múltiple, donde cada pre- gunta tiene 5 opciones. Si el estudiante elige las respuestas al azar:"
      ],
      "metadata": {
        "id": "EdB59-985a-x"
      }
    },
    {
      "cell_type": "code",
      "source": [
        "from scipy.stats import binom\n",
        "\n",
        "# Parámetros del problema\n",
        "n = 20  # Número total de preguntas\n",
        "p = 0.2  # Probabilidad de acertar una pregunta\n",
        "k = 5  # Número de éxitos exactos que queremos calcular"
      ],
      "metadata": {
        "id": "Xge2nscaF7Wb"
      },
      "execution_count": null,
      "outputs": []
    },
    {
      "cell_type": "markdown",
      "source": [
        "## Calcula la probabilidad de acertar exactamente 5 preguntas."
      ],
      "metadata": {
        "id": "1vSB9BGH6eAc"
      }
    },
    {
      "cell_type": "code",
      "source": [
        "res = binom.pmf(k, n, p)\n",
        "print(res)\n"
      ],
      "metadata": {
        "colab": {
          "base_uri": "https://localhost:8080/"
        },
        "id": "_q4usbevGcyn",
        "outputId": "8ecd7a42-79c6-4827-e0a4-dc0b2c28183c"
      },
      "execution_count": null,
      "outputs": [
        {
          "output_type": "stream",
          "name": "stdout",
          "text": [
            "0.17455952155688056\n"
          ]
        }
      ]
    },
    {
      "cell_type": "markdown",
      "source": [
        "## Calcula la probabilidad de acertar al menos 3 preguntas."
      ],
      "metadata": {
        "id": "ovcTks-66iJI"
      }
    },
    {
      "cell_type": "code",
      "source": [
        "res = 1 - (binom.cdf(2, n, p))  # Complemento de P(X < 3)\n",
        "print(res)\n"
      ],
      "metadata": {
        "colab": {
          "base_uri": "https://localhost:8080/"
        },
        "id": "FbFEU2fUG6Jd",
        "outputId": "37c58087-5e20-41c9-dbb7-0311267b040f"
      },
      "execution_count": null,
      "outputs": [
        {
          "output_type": "stream",
          "name": "stdout",
          "text": [
            "0.7939152810515259\n"
          ]
        }
      ]
    },
    {
      "cell_type": "markdown",
      "source": [
        "## Diga a cuántas preguntas esperaría atinarle y con qué probabilidad sucedería esto"
      ],
      "metadata": {
        "id": "v5VhnPQn6nE3"
      }
    },
    {
      "cell_type": "code",
      "source": [
        "E = n * p\n",
        "prob = binom.pmf(E, n, p)\n",
        "print(prob)"
      ],
      "metadata": {
        "colab": {
          "base_uri": "https://localhost:8080/"
        },
        "id": "whwgCekV61DU",
        "outputId": "80bbf105-c7c2-4f9c-8c1d-9db6cd06f47b"
      },
      "execution_count": null,
      "outputs": [
        {
          "output_type": "stream",
          "name": "stdout",
          "text": [
            "0.2181994019461005\n"
          ]
        }
      ]
    },
    {
      "cell_type": "markdown",
      "source": [
        "# Un equipo de ventas tiene una probabilidad de exito del 0.1 para cerrar un trato en cada intento."
      ],
      "metadata": {
        "id": "Lcg_0YR27Hsv"
      }
    },
    {
      "cell_type": "code",
      "source": [
        "from scipy.stats import binom\n",
        "\n",
        "p = 0.1  # Cerrar un trato"
      ],
      "metadata": {
        "id": "SPvKF4S5H7NS"
      },
      "execution_count": null,
      "outputs": []
    },
    {
      "cell_type": "markdown",
      "source": [
        "## Calcula la probabilidad de que el primer éxito ocurra en el quinto intento."
      ],
      "metadata": {
        "id": "375F6hiR7OXA"
      }
    },
    {
      "cell_type": "code",
      "source": [
        "k = 5\n",
        "res = (1 - p) ** (k - 1) * p\n",
        "print(res)\n"
      ],
      "metadata": {
        "colab": {
          "base_uri": "https://localhost:8080/"
        },
        "id": "foVgxj9lH3C8",
        "outputId": "38cb91a0-7c9e-4750-aebd-3698026b73e0"
      },
      "execution_count": null,
      "outputs": [
        {
          "output_type": "stream",
          "name": "stdout",
          "text": [
            "0.06561\n"
          ]
        }
      ]
    },
    {
      "cell_type": "markdown",
      "source": [
        "## Calcula la probabilidad de cerrar 3 tratos después de realizar 10 intentos."
      ],
      "metadata": {
        "id": "YOgXyt0679m0"
      }
    },
    {
      "cell_type": "code",
      "source": [
        "n = 10  # Numero total de intentos\n",
        "k = 3  # Numero de tratos cerrados\n",
        "res = binom.pmf(k, n, p)\n",
        "print(res)"
      ],
      "metadata": {
        "colab": {
          "base_uri": "https://localhost:8080/"
        },
        "id": "emph7hXs77V5",
        "outputId": "c832663d-8e71-4dd1-d901-ed12763544a1"
      },
      "execution_count": null,
      "outputs": [
        {
          "output_type": "stream",
          "name": "stdout",
          "text": [
            "0.05739562799999998\n"
          ]
        }
      ]
    },
    {
      "cell_type": "markdown",
      "source": [
        "# En una estación de autobuses, llegan en promedio 6 autobuses por hora."
      ],
      "metadata": {
        "id": "5EjzbWXW8CMA"
      }
    },
    {
      "cell_type": "code",
      "source": [
        "from scipy.stats import poisson\n",
        "lamda = 6"
      ],
      "metadata": {
        "id": "W0nKZjppJfrT"
      },
      "execution_count": null,
      "outputs": []
    },
    {
      "cell_type": "markdown",
      "source": [
        "## ¿Cuál es la probabilidad de que lleguen exactamente 3 autobuses en una hora?"
      ],
      "metadata": {
        "id": "uFk47Ezu8K4_"
      }
    },
    {
      "cell_type": "code",
      "source": [
        "k = 3  # Autobuses\n",
        "res = poisson.pmf(k, lamda)\n",
        "print(res)"
      ],
      "metadata": {
        "colab": {
          "base_uri": "https://localhost:8080/"
        },
        "id": "3a2618ad8UdL",
        "outputId": "4a91a339-6c96-4b6d-cdd2-1633a8c6a481"
      },
      "execution_count": null,
      "outputs": [
        {
          "output_type": "stream",
          "name": "stdout",
          "text": [
            "0.08923507835998894\n"
          ]
        }
      ]
    },
    {
      "cell_type": "markdown",
      "source": [
        "## ¿Cuál es la probabilidad de que lleguen al menos 7 autobuses en una hora?"
      ],
      "metadata": {
        "id": "rI0ISex58QUK"
      }
    },
    {
      "cell_type": "markdown",
      "source": [
        "P(X >= 7) = 1 - P(X < 7) = 1 - P(X <= 6)"
      ],
      "metadata": {
        "id": "R64XBBT0Kpgz"
      }
    },
    {
      "cell_type": "code",
      "source": [
        "res = 1 - poisson.cdf(6, lamda)\n",
        "print(res)"
      ],
      "metadata": {
        "colab": {
          "base_uri": "https://localhost:8080/"
        },
        "id": "RgDOwd6t8IGr",
        "outputId": "09353db5-b778-4f82-9c3d-863b48998a26"
      },
      "execution_count": null,
      "outputs": [
        {
          "output_type": "stream",
          "name": "stdout",
          "text": [
            "0.3936972175874086\n"
          ]
        }
      ]
    }
  ]
}