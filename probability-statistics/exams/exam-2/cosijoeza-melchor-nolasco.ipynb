{
 "cells": [
  {
   "cell_type": "markdown",
   "metadata": {},
   "source": [
    "# Examen 2"
   ]
  },
  {
   "cell_type": "markdown",
   "metadata": {},
   "source": [
    "## Problema 1"
   ]
  },
  {
   "cell_type": "markdown",
   "metadata": {},
   "source": [
    "*Se planea en un restaurante eliminar del menú el pollo frito. Se afirma que las ventas habían descendido por debajo de la media histórica de 4500.*\n",
    "\n",
    "*¿Parece una decisión adecuada si en una muestra de n = 144 registros se observa que X ̄ = 4477, s = 1128 con α = 0.02?*"
   ]
  },
  {
   "cell_type": "markdown",
   "metadata": {},
   "source": [
    "Para poder eliminar el pollo frito del menú, primero debemos comprobar que realmente las ventas han bajado.\n",
    "\n",
    "Dado que no podemos revisar las ventas de pollo frito desde que el restaurante abrió, vamos a tomar una muestra de **144 semanas** recientes y revisamos cuántas porciones de pollo frito se vendieron en promedio cada semana."
   ]
  },
  {
   "cell_type": "markdown",
   "metadata": {},
   "source": [
    "- Promedio de ventas por semana: 4477 porciones\n",
    "- Antes, el promedio histórico era: 4500 porciones\n",
    "- Las ventas varían mucho, con una desviación estándar de 1128\n",
    "\n",
    "**¿Esta diferencia de 23 porciones por semana es realmente significativa o solo es una fluctuación normal?**"
   ]
  },
  {
   "cell_type": "markdown",
   "metadata": {},
   "source": [
    "Hay una forma de comprobar si algo ha cambiado significativamente o si es solo una variación normal.\n",
    "\n",
    "Usamos un test de hipótesis, que es como un \"juicio estadístico\" para decidir si las ventas han bajado lo suficiente como para eliminar el pollo frito del menú."
   ]
  },
  {
   "cell_type": "markdown",
   "metadata": {},
   "source": [
    "### Dos posibles decisiones, así que establecemos dos hipotesis\n",
    "\n",
    "- Las ventas no han bajado significativamente (siguen en 4500 o más). No ha cambiado mucho entonces dejamos el pollo frito en el menú.\n",
    "\n",
    "- Las ventas han bajado significativamente (son menores a 4500). Si ha bajado significativamente entonces quitamos el pollo frito."
   ]
  },
  {
   "cell_type": "markdown",
   "metadata": {},
   "source": [
    "\n",
    "Usaremos un nivel de confianza del 98%, lo que significa que queremos estar 98% seguros de que la decisión que tomemos es correcta."
   ]
  },
  {
   "cell_type": "markdown",
   "metadata": {},
   "source": [
    "### Ayuda visual para interpretar los resultados"
   ]
  },
  {
   "cell_type": "markdown",
   "metadata": {},
   "source": [
    "**La línea roja** Es el resultado de nuestro cálculo.\n",
    "\n",
    "**La zona roja sombreada** Es la parte donde, si cae nuestra línea roja, significa que las ventas sí han bajado significativamente.\n",
    "\n",
    "\n",
    "**Si la línea roja está dentro de la zona roja, eliminamos el pollo frito. Si no, lo dejamos en el menú.**"
   ]
  },
  {
   "cell_type": "markdown",
   "metadata": {},
   "source": [
    "![grafica](imagen-1.png)"
   ]
  },
  {
   "cell_type": "markdown",
   "metadata": {},
   "source": [
    "Dado que nuestra linea roja no está en la zona roja, quiere decir que no existe una diferencia considerable, esto nos permite concluir que lo mejor es **MANTENER EL POLLO FRITO EN EL MENÚ**"
   ]
  },
  {
   "cell_type": "markdown",
   "metadata": {},
   "source": [
    "## Problema 2"
   ]
  },
  {
   "cell_type": "markdown",
   "metadata": {},
   "source": [
    "*Un estudio indicó que el 64% de los consumidores de supermercado creen en las marcas propias.*\n",
    "\n",
    "*El fabricante de una salsa de tomate preguntó a 100 compradores donde 52 prefieren marca propia*\n",
    "\n",
    "*Probar si el porcentaje de preferencias es menor al 64%, para un 4% de nivel de significancia.*"
   ]
  },
  {
   "cell_type": "markdown",
   "metadata": {},
   "source": [
    "### ¿Cómo podemos comprobarlo?\n",
    "Para decidir si esta diferencia es importante o no, usamos una técnica llamada prueba de hipótesis.\n",
    "\n",
    "La idea es que asumimos que el estudio original sigue siendo correcto (64% de preferencia) y tratamos de ver si nuestro nuevo resultado (52%) es suficientemente diferente como para dudar de eso."
   ]
  },
  {
   "cell_type": "markdown",
   "metadata": {},
   "source": [
    "### ¿Cómo tomamos la decisión?\n",
    "\n",
    "Usamos una herramienta matemática llamada prueba Z, que nos ayuda a medir si la diferencia de 12% es grande o solo una fluctuación normal.\n",
    "\n",
    "- **Si la diferencia entre 52% y 64% es pequeña, diremos que es normal.**\n",
    "\n",
    "- **Si es muy grande, entonces concluiremos que la preferencia realmente ha bajado.**"
   ]
  },
  {
   "cell_type": "markdown",
   "metadata": {},
   "source": [
    "### Decision y nivel de confianza\n",
    "\n",
    "Dado el nivel de significancia de 4%, nosotros queremos estar el 96% seguros antes de decir que la preferencia ha cambiado."
   ]
  },
  {
   "cell_type": "markdown",
   "metadata": {},
   "source": [
    "### Grafica para ilustrar mejor los resultados"
   ]
  },
  {
   "cell_type": "markdown",
   "metadata": {},
   "source": [
    "- El centro representa la proporción esperada del 64% (o sea, lo que se creía antes).\n",
    "\n",
    "- Nuestro resultado (52%) se representa con una línea roja en la gráfica.\n",
    "\n",
    "- La región de rechazo está sombreada en rojo a la izquierda."
   ]
  },
  {
   "cell_type": "markdown",
   "metadata": {},
   "source": [
    "Si la línea roja cae **dentro de la zona roja**, significa que la diferencia es demasiado grande como para ser solo una casualidad, y podemos decir que las preferencias realmente han bajado.\n",
    "\n",
    "Si la línea roja queda **fuera de la zona roja**, entonces la diferencia no es suficiente para concluir que las preferencias cambiaron, y seguimos creyendo en el 64%."
   ]
  },
  {
   "cell_type": "markdown",
   "metadata": {},
   "source": [
    "![grafica](imagen-2.png)"
   ]
  },
  {
   "cell_type": "markdown",
   "metadata": {},
   "source": []
  },
  {
   "cell_type": "markdown",
   "metadata": {},
   "source": [
    "### Conclusión"
   ]
  },
  {
   "cell_type": "markdown",
   "metadata": {},
   "source": [
    "Dado que la linea roja está dentro de la zona roja, entonces podemos concluir que la diferencia es demasiado grande para ser solo una casualidad y podemos concluir que **LAS PREFERENCIAS POR MARCA PROPIA REALMENTE HAN BAJADO**"
   ]
  },
  {
   "cell_type": "markdown",
   "metadata": {},
   "source": []
  },
  {
   "cell_type": "markdown",
   "metadata": {},
   "source": [
    "## Problema 3"
   ]
  },
  {
   "cell_type": "markdown",
   "metadata": {},
   "source": [
    "*Las ganancias por acción son de más de 3.5 dolares, para probar esta afirmacion se tomo una muestra de datos como sigue*\n",
    "\n",
    "*1.92 2.16 3.63 3.16 4.02 3.14 2.2 2.34 3.05 2.38*\n",
    "\n",
    "*¿Podriamos decir que las ganancias en promedio supere 3.5 dólares? Calcule es IC a 95% de confianza para el problema. ¿Que podria concluir de todo su analisis?*"
   ]
  },
  {
   "cell_type": "markdown",
   "metadata": {},
   "source": [
    "Con la muestra de datos que se nos ha proporcionado, vamos a investigar si las ganancias promedio por acción son mayores a $3.5"
   ]
  },
  {
   "cell_type": "markdown",
   "metadata": {},
   "source": [
    "**¿Esta muestra nos da suficiente evidencia para decir que, en promedio, las ganancias superan los $3.5?**"
   ]
  },
  {
   "cell_type": "markdown",
   "metadata": {},
   "source": [
    "Para poder resolver esta pregunta, vamos a utilizar una herramienta matemática llamada `prueba de hipótesis.`\n",
    "Esta nos dice lo siguiente:\n",
    "\n",
    "- Partimos de la suposición de que las ganancias promedio son $3.5 o menos.\n",
    "\n",
    "- Comparamos la muestra con ese valor y vemos si la diferencia es grande o solo una casualidad.\n",
    "\n",
    "- Si la diferencia es lo suficientemente grande, concluimos que las ganancias sí son mayores."
   ]
  },
  {
   "cell_type": "markdown",
   "metadata": {},
   "source": [
    "Con los datos que tenemos vamos a tratar de demostrar uno de los dos posibles resultados\n",
    "\n",
    "- Las ganancias son $3.5 o menos\n",
    "\n",
    "- Las ganancias son mayores a $3.5"
   ]
  },
  {
   "cell_type": "markdown",
   "metadata": {},
   "source": [
    "A través de una prueba llamada t de Student, vamos a comparar el promedio de nuestra muestra con un valor teórico ($3.5).\n",
    "Y también  vamos a trabajar con un 95% de confianza."
   ]
  },
  {
   "cell_type": "markdown",
   "metadata": {},
   "source": [
    "Una vez que hayamos realizado nuestra prueba, debemos verificar nuestro resultado con una de estas dos situaciones:\n",
    "\n",
    "- Si el resultado obtenido es mayor que el valor crítico, entonces `hay suficiente evidencia para decir que las ganancias promedio sí son mayores a $3.5.`\n",
    "\n",
    "- Si el resultado obtenido no es mayor que el valor crítico, entonces `no podemos asegurarlo. Puede que la diferencia se deba al azar.`"
   ]
  },
  {
   "cell_type": "markdown",
   "metadata": {},
   "source": [
    "### Grafica para poder observar los resultados\n",
    "\n",
    "- Trazamos la distribución t de Student, que es una campana (Color Azul).\n",
    "\n",
    "- Marcamos el resultado obtenido de nuestra muestra calculada (Linea roja).\n",
    "\n",
    "- Marcamos el valor crítico (Linea verde).\n",
    "\n",
    "- Sombreamos la región de rechazo: `Si el resultado cae dentro de esta región, concluimos que las ganancias son mayores a $3.5.`"
   ]
  },
  {
   "cell_type": "markdown",
   "metadata": {},
   "source": [
    "![](imagen-3.png)"
   ]
  },
  {
   "cell_type": "markdown",
   "metadata": {},
   "source": [
    "Dado que nuestro resultado es mucho menor que el valor crítico, **NO PODEMOS CONCLUIR QUE LAS GANANCIAS PROMEDIO SUPEREN LOS 3.5 DÓLARES.**"
   ]
  },
  {
   "cell_type": "markdown",
   "metadata": {},
   "source": [
    "## Problema 4"
   ]
  },
  {
   "cell_type": "markdown",
   "metadata": {},
   "source": [
    "*Armando Romero considera postularse para presidente municipal de Huajuapan de Leon,Oaxaca.*\n",
    "\n",
    "*Antes de solicitar la postulacion, decide realizar una encuesta entre los electores de Berumen.*\n",
    "\n",
    "*Una muestra de 400 electores revela que 300 apoyarıan en la elecciones de julio de 2024.*\n",
    "\n",
    "*Romero decide que, si mas del 78% de los votantes, se estima lo apoyaran; el se intentarıa ser presidente municipal.*\n",
    "\n",
    "*Ademas, construya un IC a 99% para su parametro de estudio. ¿Que le dirıa usted?*"
   ]
  },
  {
   "cell_type": "markdown",
   "metadata": {},
   "source": [
    "### ¿Debería Armando Romero postularse para presidente municipal?"
   ]
  },
  {
   "cell_type": "markdown",
   "metadata": {},
   "source": [
    "Para resolver este problema vamor a partir de 2 hipotesis o situaciones. Estas nos ayudaran a tomar una decisión con los calculos que analicemos:\n",
    "\n",
    "- El apoyo es 78% o menos.\n",
    "\n",
    "- El apoyo es mayor al 78%."
   ]
  },
  {
   "cell_type": "markdown",
   "metadata": {},
   "source": [
    "**SI TENEMOS SUFICIENTE EVIDENCIA DE QUE SUPERA EL 78%, ENTONCES ROMERO DEBERÍA POSTULARSE DE LO CONTRARIO, NO DEBERÍA HACERLO.**"
   ]
  },
  {
   "cell_type": "markdown",
   "metadata": {},
   "source": [
    "Un dato muy importante que nos ayudará a tomar una decisión es la **Proporcion muestral.** pero\n",
    "¿Qué es?: Es el porcentaje de personas en la muestra que apoyan a Armando Romero.\n",
    "\n",
    "En este caso: De 400 electores encuestados, 300 dijeron que lo apoyarían. Entonces, la proporción muestral es:\n",
    "\n",
    "300 / 400 = 0.75\n",
    "\n",
    "En la muestra, el 75% de los electores apoyan a Romero."
   ]
  },
  {
   "cell_type": "markdown",
   "metadata": {},
   "source": [
    "Nosotros necesitamos saber si la diferencia que existe entre 78% y 75% es importante, para esto usamos una prueba de hipótesis con una distribución normal. Calculamos un valor llamado `estadístico z`, que nos dice qué tan lejos está el 75% del 78%."
   ]
  },
  {
   "cell_type": "markdown",
   "metadata": {},
   "source": [
    "Si este valor z es muy pequeño (es decir, si el 75% y el 78% no son muy distintos), no podremos decir con seguridad que Romero tiene más apoyo."
   ]
  },
  {
   "cell_type": "markdown",
   "metadata": {},
   "source": [
    "Usamos un nivel de confianza del 99% Esto significa que solo aceptaremos que más del 78% lo apoyan si tenemos una evidencia muy fuerte (99% de confianza)."
   ]
  },
  {
   "cell_type": "markdown",
   "metadata": {},
   "source": [
    "El valor crítico es un número que nos ayuda a decidir si el resultado es significativo. Para un nivel de confianza del 99%, el `valor crítico es 2.3263`. Esto significa que, si el valor de Z es mayor que 2.3263, podríamos concluir que más del 78% de los votantes lo apoyarían."
   ]
  },
  {
   "cell_type": "markdown",
   "metadata": {},
   "source": [
    "Con esta información vamos a definir un rango de valores para saber donde esté la verdadera proporcion de votantes que apoyarían a Romero. Si contamos con un 99% de confianza, la proporción de votantes que apoyarían a Romero está entre 69.42% y 80.58%."
   ]
  },
  {
   "cell_type": "markdown",
   "metadata": {},
   "source": [
    "### Gráfica para interpretar los resultados"
   ]
  },
  {
   "cell_type": "markdown",
   "metadata": {},
   "source": [
    "Una campana (distribución normal) que representa las posibles variaciones en la proporción de votantes.\n",
    "\n",
    "Un área roja (región crítica) que indica los valores donde la proporción sería significativamente mayor.\n",
    "\n",
    "Una línea azul punteada que representa nuestro resultado. Como está fuera del área roja, no podemos concluir que más del 78% de los votantes lo apoyarían."
   ]
  },
  {
   "cell_type": "markdown",
   "metadata": {},
   "source": [
    "![grafica](imagen-4.png)"
   ]
  },
  {
   "cell_type": "markdown",
   "metadata": {},
   "source": [
    "Por lo tanto, **NO PODEMOS CONCLUIR QUE MÁS DEL 78% DE LOS VOTANTES APOYARÍAN A ROMERO.**"
   ]
  },
  {
   "cell_type": "markdown",
   "metadata": {},
   "source": [
    "Si bien no hay evidencia suficiente para afirmar que más del 78% lo apoyarían, el intervalo sugiere que aún tiene un apoyo significativo. Sería recomendable que Romero realice más encuestas o análisis antes de tomar una decisión final."
   ]
  }
 ],
 "metadata": {
  "kernelspec": {
   "display_name": "Python 3",
   "language": "python",
   "name": "python3"
  },
  "language_info": {
   "codemirror_mode": {
    "name": "ipython",
    "version": 3
   },
   "file_extension": ".py",
   "mimetype": "text/x-python",
   "name": "python",
   "nbconvert_exporter": "python",
   "pygments_lexer": "ipython3",
   "version": "3.8.10"
  }
 },
 "nbformat": 4,
 "nbformat_minor": 2
}
